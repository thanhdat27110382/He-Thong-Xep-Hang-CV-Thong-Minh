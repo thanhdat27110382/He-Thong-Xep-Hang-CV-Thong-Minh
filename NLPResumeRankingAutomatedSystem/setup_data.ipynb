{
 "cells": [
  {
   "cell_type": "markdown",
   "id": "01ef1914",
   "metadata": {},
   "source": [
    "## BƯỚC 1: CHUẨN BỊ DỮ LIỆU"
   ]
  },
  {
   "cell_type": "code",
   "execution_count": 1,
   "id": "bee0d992",
   "metadata": {},
   "outputs": [],
   "source": [
    "# tải thư viện\n",
    "import pandas as pd\n",
    "import numpy as np\n",
    "import nltk\n",
    "import spacy\n",
    "from nltk.corpus import stopwords\n",
    "import re\n",
    "import pickle\n",
    "from nltk.tokenize import word_tokenize\n",
    "from sklearn.feature_extraction.text import TfidfVectorizer\n",
    "from sklearn.metrics.pairwise import cosine_similarity\n",
    "from sentence_transformers import SentenceTransformer\n",
    "import os "
   ]
  },
  {
   "cell_type": "code",
   "execution_count": 2,
   "id": "3ccfc2f1",
   "metadata": {},
   "outputs": [
    {
     "name": "stderr",
     "output_type": "stream",
     "text": [
      "[nltk_data] Downloading package punkt to\n",
      "[nltk_data]     C:\\Users\\tgdd\\AppData\\Roaming\\nltk_data...\n",
      "[nltk_data]   Package punkt is already up-to-date!\n",
      "[nltk_data] Downloading package stopwords to\n",
      "[nltk_data]     C:\\Users\\tgdd\\AppData\\Roaming\\nltk_data...\n",
      "[nltk_data]   Unzipping corpora\\stopwords.zip.\n"
     ]
    },
    {
     "data": {
      "text/plain": [
       "True"
      ]
     },
     "execution_count": 2,
     "metadata": {},
     "output_type": "execute_result"
    }
   ],
   "source": [
    "# Download NLTK resources\n",
    "nltk.download('punkt')\n",
    "nltk.download('stopwords')"
   ]
  },
  {
   "cell_type": "code",
   "execution_count": 3,
   "id": "ebbf2d23",
   "metadata": {},
   "outputs": [],
   "source": [
    "# Load Spacy model for NER\n",
    "nlp = spacy.load(\"en_core_web_sm\")"
   ]
  },
  {
   "cell_type": "code",
   "execution_count": 4,
   "id": "604f2d3d",
   "metadata": {},
   "outputs": [],
   "source": [
    "# tải datasets\n",
    "cv_df = pd.read_csv('D:/BaiDoAnChuyenNganh3/NLPResumeRankingAutomatedSystem/datasets/General_Data_CV.csv')\n",
    "jd_df = pd.read_csv('D:/BaiDoAnChuyenNganh3/NLPResumeRankingAutomatedSystem/datasets/General_Data_JD.csv')"
   ]
  },
  {
   "cell_type": "code",
   "execution_count": 5,
   "id": "840122b4",
   "metadata": {},
   "outputs": [
    {
     "data": {
      "text/html": [
       "<div>\n",
       "<style scoped>\n",
       "    .dataframe tbody tr th:only-of-type {\n",
       "        vertical-align: middle;\n",
       "    }\n",
       "\n",
       "    .dataframe tbody tr th {\n",
       "        vertical-align: top;\n",
       "    }\n",
       "\n",
       "    .dataframe thead th {\n",
       "        text-align: right;\n",
       "    }\n",
       "</style>\n",
       "<table border=\"1\" class=\"dataframe\">\n",
       "  <thead>\n",
       "    <tr style=\"text-align: right;\">\n",
       "      <th></th>\n",
       "      <th>Category</th>\n",
       "      <th>Resume</th>\n",
       "    </tr>\n",
       "  </thead>\n",
       "  <tbody>\n",
       "    <tr>\n",
       "      <th>0</th>\n",
       "      <td>DATABASE ADMINISTRATOR</td>\n",
       "      <td>Office Staff Database Administrator Office Sta...</td>\n",
       "    </tr>\n",
       "    <tr>\n",
       "      <th>1</th>\n",
       "      <td>WEB DEVELOPER</td>\n",
       "      <td>Reactjs developer Reactjs span ldeveloperspan ...</td>\n",
       "    </tr>\n",
       "    <tr>\n",
       "      <th>2</th>\n",
       "      <td>SOFTWARE DEVELOPER</td>\n",
       "      <td>Jim Ryan Software Developer jimm_ryyn89@gmail....</td>\n",
       "    </tr>\n",
       "    <tr>\n",
       "      <th>3</th>\n",
       "      <td>PYTHON DEVELOPER</td>\n",
       "      <td>VPN Project Consultant Silgan Containers VPN P...</td>\n",
       "    </tr>\n",
       "    <tr>\n",
       "      <th>4</th>\n",
       "      <td>PYTHON DEVELOPER</td>\n",
       "      <td>Principal clientserver ops analyst Principal c...</td>\n",
       "    </tr>\n",
       "  </tbody>\n",
       "</table>\n",
       "</div>"
      ],
      "text/plain": [
       "                 Category                                             Resume\n",
       "0  DATABASE ADMINISTRATOR  Office Staff Database Administrator Office Sta...\n",
       "1           WEB DEVELOPER  Reactjs developer Reactjs span ldeveloperspan ...\n",
       "2      SOFTWARE DEVELOPER  Jim Ryan Software Developer jimm_ryyn89@gmail....\n",
       "3        PYTHON DEVELOPER  VPN Project Consultant Silgan Containers VPN P...\n",
       "4        PYTHON DEVELOPER  Principal clientserver ops analyst Principal c..."
      ]
     },
     "execution_count": 5,
     "metadata": {},
     "output_type": "execute_result"
    }
   ],
   "source": [
    "# Hiển thị 5 dòng dầu cv_df\n",
    "cv_df.head()"
   ]
  },
  {
   "cell_type": "code",
   "execution_count": 6,
   "id": "8beaa284",
   "metadata": {},
   "outputs": [
    {
     "data": {
      "text/html": [
       "<div>\n",
       "<style scoped>\n",
       "    .dataframe tbody tr th:only-of-type {\n",
       "        vertical-align: middle;\n",
       "    }\n",
       "\n",
       "    .dataframe tbody tr th {\n",
       "        vertical-align: top;\n",
       "    }\n",
       "\n",
       "    .dataframe thead th {\n",
       "        text-align: right;\n",
       "    }\n",
       "</style>\n",
       "<table border=\"1\" class=\"dataframe\">\n",
       "  <thead>\n",
       "    <tr style=\"text-align: right;\">\n",
       "      <th></th>\n",
       "      <th>Job Title</th>\n",
       "      <th>Job Description</th>\n",
       "    </tr>\n",
       "  </thead>\n",
       "  <tbody>\n",
       "    <tr>\n",
       "      <th>0</th>\n",
       "      <td>GRADUATE JAVA SOFTWARE DEVELOPER  IT SOFTWARE ...</td>\n",
       "      <td>graduate java software developer – web, agile,...</td>\n",
       "    </tr>\n",
       "    <tr>\n",
       "      <th>1</th>\n",
       "      <td>ANDROID APPLICATION DEVELOPER  MOBILE SOLUTION...</td>\n",
       "      <td>android application developer  west london req...</td>\n",
       "    </tr>\n",
       "    <tr>\n",
       "      <th>2</th>\n",
       "      <td>SOFTWARE DEVELOPMENT ENGINEER</td>\n",
       "      <td>Do you enjoy watching the latest movies, telev...</td>\n",
       "    </tr>\n",
       "    <tr>\n",
       "      <th>3</th>\n",
       "      <td>FULL STACK DEVELOPER</td>\n",
       "      <td>transcriptic robotic cloud laboratory life sci...</td>\n",
       "    </tr>\n",
       "    <tr>\n",
       "      <th>4</th>\n",
       "      <td>SCRUM MASTER</td>\n",
       "      <td>About the job We would be happy to consider yo...</td>\n",
       "    </tr>\n",
       "  </tbody>\n",
       "</table>\n",
       "</div>"
      ],
      "text/plain": [
       "                                           Job Title  \\\n",
       "0  GRADUATE JAVA SOFTWARE DEVELOPER  IT SOFTWARE ...   \n",
       "1  ANDROID APPLICATION DEVELOPER  MOBILE SOLUTION...   \n",
       "2                      SOFTWARE DEVELOPMENT ENGINEER   \n",
       "3                               FULL STACK DEVELOPER   \n",
       "4                                       SCRUM MASTER   \n",
       "\n",
       "                                     Job Description  \n",
       "0  graduate java software developer – web, agile,...  \n",
       "1  android application developer  west london req...  \n",
       "2  Do you enjoy watching the latest movies, telev...  \n",
       "3  transcriptic robotic cloud laboratory life sci...  \n",
       "4  About the job We would be happy to consider yo...  "
      ]
     },
     "execution_count": 6,
     "metadata": {},
     "output_type": "execute_result"
    }
   ],
   "source": [
    "# Hiển thị 5 dòng đầu jd_df\n",
    "jd_df.head()"
   ]
  },
  {
   "cell_type": "code",
   "execution_count": 7,
   "id": "14dd1c84",
   "metadata": {},
   "outputs": [
    {
     "data": {
      "text/plain": [
       "Index(['Category', 'Resume'], dtype='object')"
      ]
     },
     "execution_count": 7,
     "metadata": {},
     "output_type": "execute_result"
    }
   ],
   "source": [
    "# lấy danh sách các cột (tên cột) của cv_df\n",
    "cv_df.columns"
   ]
  },
  {
   "cell_type": "code",
   "execution_count": 8,
   "id": "78f7c8a3",
   "metadata": {},
   "outputs": [
    {
     "data": {
      "text/plain": [
       "Index(['Job Title', 'Job Description'], dtype='object')"
      ]
     },
     "execution_count": 8,
     "metadata": {},
     "output_type": "execute_result"
    }
   ],
   "source": [
    "# lấy danh sách các cột (tên cột) của jd_df\n",
    "jd_df.columns"
   ]
  },
  {
   "cell_type": "code",
   "execution_count": 9,
   "id": "aedee402",
   "metadata": {},
   "outputs": [
    {
     "name": "stdout",
     "output_type": "stream",
     "text": [
      "Độ dài của cv_df là:  19551\n"
     ]
    }
   ],
   "source": [
    "print('Độ dài của cv_df là: ', len(cv_df))"
   ]
  },
  {
   "cell_type": "code",
   "execution_count": 10,
   "id": "e1a6b208",
   "metadata": {},
   "outputs": [
    {
     "name": "stdout",
     "output_type": "stream",
     "text": [
      "Độ dài của cv_df là:  19551\n"
     ]
    }
   ],
   "source": [
    "print('Độ dài của cv_df là: ', len(jd_df))"
   ]
  },
  {
   "cell_type": "code",
   "execution_count": 11,
   "id": "be541a10",
   "metadata": {},
   "outputs": [
    {
     "data": {
      "text/plain": [
       "(19551, 2)"
      ]
     },
     "execution_count": 11,
     "metadata": {},
     "output_type": "execute_result"
    }
   ],
   "source": [
    "# hiển thị số hàng và cột của cv_df\n",
    "cv_df.shape"
   ]
  },
  {
   "cell_type": "code",
   "execution_count": 12,
   "id": "4bf5fcce",
   "metadata": {},
   "outputs": [
    {
     "data": {
      "text/plain": [
       "(19551, 2)"
      ]
     },
     "execution_count": 12,
     "metadata": {},
     "output_type": "execute_result"
    }
   ],
   "source": [
    "# hiển thị số hàng và cột của jd_df\n",
    "jd_df. shape"
   ]
  },
  {
   "cell_type": "code",
   "execution_count": 13,
   "id": "54b041b4",
   "metadata": {},
   "outputs": [
    {
     "name": "stdout",
     "output_type": "stream",
     "text": [
      "<class 'pandas.core.frame.DataFrame'>\n",
      "RangeIndex: 19551 entries, 0 to 19550\n",
      "Data columns (total 2 columns):\n",
      " #   Column    Non-Null Count  Dtype \n",
      "---  ------    --------------  ----- \n",
      " 0   Category  19551 non-null  object\n",
      " 1   Resume    19549 non-null  object\n",
      "dtypes: object(2)\n",
      "memory usage: 305.6+ KB\n"
     ]
    }
   ],
   "source": [
    "# hiển thị thông tin tổng quan cv_df\n",
    "cv_df.info()"
   ]
  },
  {
   "cell_type": "code",
   "execution_count": 14,
   "id": "277eb542",
   "metadata": {},
   "outputs": [
    {
     "name": "stdout",
     "output_type": "stream",
     "text": [
      "<class 'pandas.core.frame.DataFrame'>\n",
      "RangeIndex: 19551 entries, 0 to 19550\n",
      "Data columns (total 2 columns):\n",
      " #   Column           Non-Null Count  Dtype \n",
      "---  ------           --------------  ----- \n",
      " 0   Job Title        19551 non-null  object\n",
      " 1   Job Description  19551 non-null  object\n",
      "dtypes: object(2)\n",
      "memory usage: 305.6+ KB\n"
     ]
    }
   ],
   "source": [
    "# hiển thị thông tin tổng quan jd_cv\n",
    "jd_df.info()"
   ]
  },
  {
   "cell_type": "code",
   "execution_count": 15,
   "id": "e4e62750",
   "metadata": {},
   "outputs": [
    {
     "data": {
      "text/plain": [
       "Category    object\n",
       "Resume      object\n",
       "dtype: object"
      ]
     },
     "execution_count": 15,
     "metadata": {},
     "output_type": "execute_result"
    }
   ],
   "source": [
    "# hiển thị kiểu dữ liệu (data type) của từng cột trong cv_df\n",
    "cv_df.dtypes"
   ]
  },
  {
   "cell_type": "code",
   "execution_count": 16,
   "id": "c3edbff5",
   "metadata": {},
   "outputs": [
    {
     "data": {
      "text/plain": [
       "Job Title          object\n",
       "Job Description    object\n",
       "dtype: object"
      ]
     },
     "execution_count": 16,
     "metadata": {},
     "output_type": "execute_result"
    }
   ],
   "source": [
    "# hiển thị kiểu dữ liệu (data type) của từng cột trong jd_df\n",
    "jd_df.dtypes"
   ]
  },
  {
   "cell_type": "code",
   "execution_count": 17,
   "id": "ed389de6",
   "metadata": {},
   "outputs": [
    {
     "name": "stdout",
     "output_type": "stream",
     "text": [
      "Số giá trị thiếu trong Resume: 2\n"
     ]
    }
   ],
   "source": [
    "# Kiểm tra giá trị thiếu trong cột Resume của cv_df\n",
    "print(f\"Số giá trị thiếu trong Resume: {cv_df['Resume'].isna().sum()}\")"
   ]
  },
  {
   "cell_type": "code",
   "execution_count": 18,
   "id": "72871166",
   "metadata": {},
   "outputs": [
    {
     "name": "stdout",
     "output_type": "stream",
     "text": [
      "Số giá trị thiếu trong desc: 0\n"
     ]
    }
   ],
   "source": [
    "# Kiểm tra giá trị thiếu trong cột desc của jd_cv\n",
    "print(f\"Số giá trị thiếu trong desc: {jd_df['Job Description'].isna().sum()}\")"
   ]
  },
  {
   "cell_type": "code",
   "execution_count": 19,
   "id": "3701db54",
   "metadata": {},
   "outputs": [
    {
     "name": "stdout",
     "output_type": "stream",
     "text": [
      "Số giá trị thiếu trong Category: 0\n"
     ]
    }
   ],
   "source": [
    "# Kiểm tra giá trị thiếu trong cột Category của cv_df\n",
    "print(f\"Số giá trị thiếu trong Category: {cv_df['Category'].isna().sum()}\")"
   ]
  },
  {
   "cell_type": "code",
   "execution_count": 20,
   "id": "71b5faa5",
   "metadata": {},
   "outputs": [
    {
     "name": "stdout",
     "output_type": "stream",
     "text": [
      "Số giá trị thiếu trong title: 0\n"
     ]
    }
   ],
   "source": [
    "# Kiểm tra giá trị thiếu trong cột title của jd_cv\n",
    "print(f\"Số giá trị thiếu trong title: {jd_df['Job Title'].isna().sum()}\")"
   ]
  },
  {
   "cell_type": "code",
   "execution_count": 21,
   "id": "85025e1b",
   "metadata": {},
   "outputs": [
    {
     "name": "stdout",
     "output_type": "stream",
     "text": [
      "Số dòng sau khi xóa giá trị thiếu: 19549\n"
     ]
    }
   ],
   "source": [
    "# Xóa các dòng có giá trị thiếu trong Resume_str\n",
    "cv_df = cv_df.dropna(subset=['Resume']).reset_index(drop=True)\n",
    "\n",
    "# In số dòng sau khi xóa giá trị thiếu\n",
    "print(f\"Số dòng sau khi xóa giá trị thiếu: {len(cv_df )}\")"
   ]
  },
  {
   "cell_type": "code",
   "execution_count": 22,
   "id": "c579ac66",
   "metadata": {},
   "outputs": [],
   "source": [
    "# chọn ngẫu nhiên 19549 JD để ghép với 19549 CV\n",
    "jd_sample = jd_df.sample(n=len(cv_df), random_state=42).reset_index(drop=True)\n",
    "cv_df = cv_df.reset_index(drop=True)"
   ]
  },
  {
   "cell_type": "code",
   "execution_count": 30,
   "id": "676a4219",
   "metadata": {},
   "outputs": [],
   "source": [
    "# Kết hợp làm sạch văn bản và trích xuất tính năng NER\n",
    "stop_words = set(stopwords.words('english'))\n",
    "def preprocess_and_extract_features(text):\n",
    "    \"\"\"\n",
    "    Xử lý văn bản và trích xuất thông tin kỹ năng, kinh nghiệm, học vấn cho ngành CNTT\n",
    "    Tự động điều chỉnh phạm vi quét theo độ dài văn bản\n",
    "    \"\"\"\n",
    "    # Tiền xử lý cơ bản\n",
    "    text = text.lower()\n",
    "    text = re.sub(r'\\S+@\\S+', ' ', text)  # Remove emails\n",
    "    text = re.sub(r'http\\S+|www\\S+', ' ', text)  # Remove URLs\n",
    "    text = re.sub(r'\\b\\d{3}[-.\\s]?\\d{3}[-.\\s]?\\d{4}\\b', ' ', text)  # Remove phone numbers\n",
    "    text = ''.join([char for char in text if char.isalnum() or char.isspace() or char in [',', '.', '-']])\n",
    "    text = re.sub(r'\\s+', ' ', text).strip()\n",
    "    \n",
    "    # Chuẩn hóa thuật ngữ CNTT\n",
    "    replacements = {\n",
    "        r'\\b(yrs?|years?)\\b': 'years',\n",
    "        r'\\b(exp|experience)\\b': 'experience',\n",
    "        r'\\b(edu|education)\\b': 'education',\n",
    "        r'\\b(prog|programming)\\b': 'programming',\n",
    "        r'\\b(dev|developer)\\b': 'developer',\n",
    "        r'\\b(eng|engineer)\\b': 'engineer',\n",
    "        r'\\b(c#|csharp)\\b': 'c#',\n",
    "        r'\\b(js|javascript)\\b': 'javascript',\n",
    "        r'\\b(py|python)\\b': 'python'\n",
    "    }\n",
    "    for pattern, repl in replacements.items():\n",
    "        text = re.sub(pattern, repl, text)\n",
    "    \n",
    "    # Từ điển keyword cho ngành CNTT\n",
    "    it_skill_keywords = [\n",
    "    # Các phần header thông thường\n",
    "    'skills', 'technical skills', 'technical competencies', 'key skills',\n",
    "    'core competencies', 'technical expertise', 'skill set', 'skill summary',\n",
    "    'programming skills', 'technical abilities', 'professional skills',\n",
    "    \n",
    "    # Các cách diễn đạt về kỹ năng\n",
    "    'proficient in', 'experienced in', 'knowledge of', 'expertise in',\n",
    "    'skilled in', 'familiar with', 'competent in', 'adept at', \n",
    "    'strong background in', 'hands-on experience with', 'working knowledge of',\n",
    "    \n",
    "    # Các loại kỹ năng cụ thể\n",
    "    'programming languages', 'frameworks', 'tools', 'libraries',\n",
    "    'platforms', 'databases', 'cloud technologies', 'devops tools',\n",
    "    'frontend technologies', 'backend technologies', 'fullstack technologies',\n",
    "    'mobile development', 'ai/ml technologies', 'data science tools',\n",
    "    'cybersecurity skills', 'networking knowledge', 'operating systems',\n",
    "    'version control systems', 'ci/cd tools', 'containerization',\n",
    "    'testing frameworks', 'debugging tools', 'ide experience',\n",
    "    \n",
    "    # Các kỹ năng mềm liên quan\n",
    "    'problem solving', 'algorithm design', 'system architecture',\n",
    "    'code optimization', 'performance tuning', 'security practices',\n",
    "    'agile methodologies', 'code review', 'technical documentation'\n",
    "]\n",
    "\n",
    "    it_experience_keywords = [\n",
    "    # Các phần header thông thường\n",
    "    'experience', 'work experience', 'professional experience',\n",
    "    'employment history', 'career history', 'work background',\n",
    "    'professional background', 'relevant experience',\n",
    "    \n",
    "    # Các cách diễn đạt về kinh nghiệm\n",
    "    'worked as', 'served as', 'held position as', 'acted as',\n",
    "    'years of experience', 'hands-on experience', 'it experience',\n",
    "    'technical experience', 'industry experience', 'practical experience',\n",
    "    \n",
    "    # Các hoạt động công việc\n",
    "    'projects', 'implemented', 'developed', 'deployed', 'architected',\n",
    "    'engineered', 'designed', 'built', 'created', 'maintained',\n",
    "    'optimized', 'debugged', 'tested', 'documented', 'led',\n",
    "    'managed', 'coordinated', 'collaborated on', 'contributed to',\n",
    "    \n",
    "    # Các mức độ kinh nghiệm\n",
    "    'junior', 'senior', 'lead', 'principal', 'architect', 'manager',\n",
    "    'director', 'team lead', 'technical lead', 'subject matter expert',\n",
    "    \n",
    "    # Các loại kinh nghiệm cụ thể\n",
    "    'full-time', 'part-time', 'contract', 'freelance', 'internship',\n",
    "    'volunteer'\n",
    "]\n",
    "\n",
    "    it_education_keywords = [\n",
    "    # Các phần header thông thường\n",
    "    'education', 'academic background', 'qualifications',\n",
    "    'degrees', 'certifications', 'academic credentials',\n",
    "    'educational background', 'training', 'courses',\n",
    "    \n",
    "    # Các loại tổ chức giáo dục\n",
    "    'university', 'college', 'institute', 'school', 'academy',\n",
    "    'polytechnic', 'technical school', 'bootcamp', 'online course',\n",
    "    \n",
    "    # Các bằng cấp\n",
    "    'bachelor', \"bachelor's\", 'bsc', 'bs', 'b.eng', 'b.tech',\n",
    "    'master', \"master's\", 'msc', 'ms', 'm.eng', 'm.tech',\n",
    "    'phd', 'ph.d', 'doctorate', 'postdoc', 'postdoctoral',\n",
    "    'diploma', 'certificate', 'associate degree',\n",
    "    \n",
    "    # Các chuyên ngành CNTT\n",
    "    'computer science', 'information technology', 'software engineering',\n",
    "    'data science', 'computer engineering', 'it', 'cybersecurity',\n",
    "    'network engineering', 'artificial intelligence', 'machine learning',\n",
    "    'computer systems', 'database systems', 'web development',\n",
    "    'mobile development', 'cloud computing', 'devops',\n",
    "    \n",
    "    # Các khóa học và đào tạo\n",
    "    'coursework', 'relevant courses', 'training programs',\n",
    "    'professional development', 'certification programs',\n",
    "    'online learning', 'moocs', 'workshops', 'seminars'\n",
    "]\n",
    "    \n",
    "    # Tự động điều chỉnh phạm vi quét\n",
    "    text_length = len(text)\n",
    "    base_range = min(1000, max(300, int(text_length * 0.3)))  # Từ 300-1000 ký tự\n",
    "    \n",
    "    scan_ranges = {\n",
    "        'skills': base_range * 1.5,  # Ưu tiên quét rộng hơn cho kỹ năng\n",
    "        'experience': base_range,\n",
    "        'education': base_range\n",
    "    }\n",
    "    \n",
    "    # Hàm quét thông minh\n",
    "    def smart_scan(content, keyword, scan_range):\n",
    "        pos = content.find(keyword)\n",
    "        if pos == -1:\n",
    "            return \"\"\n",
    "    \n",
    "        start = max(0, pos - 50)  # Quét ngược 50 ký tự\n",
    "        end = min(len(content), start + int(scan_range))  # Ensure scan_range is integer\n",
    "    \n",
    "        # Ưu tiên lấy đến hết section nếu có dấu phân cách\n",
    "        next_section = re.search(r'\\n\\s*\\n', content[int(pos):int(end)])  # Convert to integers\n",
    "        if next_section:\n",
    "            end = pos + next_section.start()\n",
    "    \n",
    "        return content[int(start):int(end)].strip()  # Ensure integer indices\n",
    "    \n",
    "    # Trích xuất thông tin\n",
    "    skills = set()\n",
    "    experience = set()\n",
    "    education = set()\n",
    "    \n",
    "    # 1. Trích xuất kỹ năng CNTT\n",
    "    for keyword in it_skill_keywords:\n",
    "        section = smart_scan(text, keyword, scan_ranges['skills'])\n",
    "        if section:\n",
    "            # Trích xuất từ danh sách\n",
    "            skill_items = re.split(r'[,•\\-–;()\\n/]', section)\n",
    "            for item in skill_items:\n",
    "                item = item.strip()\n",
    "                if 2 <= len(item) <= 50:  # Độ dài hợp lý\n",
    "                    skills.add(item.title())\n",
    "            \n",
    "            # Trích xuất bằng NER\n",
    "            doc = nlp(section)\n",
    "            for ent in doc.ents:\n",
    "                if ent.label_ in ['ORG', 'PRODUCT'] and any(char.isalpha() for char in ent.text):\n",
    "                    skills.add(ent.text.title())\n",
    "    \n",
    "    # 2. Trích xuất kinh nghiệm\n",
    "    for keyword in it_experience_keywords:\n",
    "        section = smart_scan(text, keyword, scan_ranges['experience'])\n",
    "        if section:\n",
    "            # Số năm kinh nghiệm\n",
    "            years_exp = re.findall(\n",
    "                r'(\\d+)\\s*(?:\\+)?\\s*(?:years?|yrs?)(?:\\s*(?:of|in)\\s*(?:experience|exp))?', \n",
    "                section\n",
    "            )\n",
    "            for year in years_exp:\n",
    "                experience.add(f\"{year} years experience\")\n",
    "            \n",
    "            # Vị trí công việc\n",
    "            job_titles = re.findall(\n",
    "                r'(?:senior|junior|lead|principal)?\\s*'\n",
    "                r'(?:software|it|data|devops|cloud|systems)?\\s*'\n",
    "                r'(?:engineer|developer|architect|analyst|specialist)', \n",
    "                section\n",
    "            )\n",
    "            for title in job_titles:\n",
    "                experience.add(title.title())\n",
    "    \n",
    "    # 3. Trích xuất học vấn\n",
    "    for keyword in it_education_keywords:\n",
    "        section = smart_scan(text, keyword, scan_ranges['education'])\n",
    "        if section:\n",
    "            # Bằng cấp\n",
    "            degrees = re.findall(\n",
    "                r'(bsc|b\\.?sc|bachelor|bs|b\\.?s|'\n",
    "                r'msc|m\\.?sc|master|ms|m\\.?s|'\n",
    "                r'phd|ph\\.?d|doctorate)\\b', \n",
    "                section, flags=re.IGNORECASE\n",
    "            )\n",
    "            for degree in degrees:\n",
    "                education.add(degree.title())\n",
    "            \n",
    "            # Tên trường\n",
    "            doc = nlp(section)\n",
    "            for ent in doc.ents:\n",
    "                if ent.label_ == 'ORG' and any(w in ent.text.lower() for w in ['university', 'college', 'institute']):\n",
    "                    education.add(ent.text.title())\n",
    "    \n",
    "    # Làm sạch kết quả\n",
    "    def clean_items(items):\n",
    "        cleaned = set()\n",
    "        for item in items:\n",
    "            item = re.sub(r'[^\\w\\s\\-\\.#+]', '', item)  # Loại bỏ ký tự đặc biệt\n",
    "            item = item.strip()\n",
    "            if item and not item.isdigit():\n",
    "                cleaned.add(item)\n",
    "        return sorted(cleaned)\n",
    "    \n",
    "    return {\n",
    "        'cleaned_text': ' '.join([token.lemma_ for token in nlp(text) if token.text not in stop_words]),\n",
    "        'features': {\n",
    "            'skills': clean_items(skills),\n",
    "            'experience': clean_items(experience),\n",
    "            'education': clean_items(education)\n",
    "        }\n",
    "    }"
   ]
  },
  {
   "cell_type": "code",
   "execution_count": 31,
   "id": "81b3f441",
   "metadata": {},
   "outputs": [],
   "source": [
    "# Áp dụng tiền xử lý và trích xuất tính năng cho CV và JD\n",
    "cv_results = [preprocess_and_extract_features(text) for text in cv_df['Resume']]\n",
    "jd_results = [preprocess_and_extract_features(text) for text in jd_sample['Job Description']]"
   ]
  },
  {
   "cell_type": "code",
   "execution_count": 32,
   "id": "bc70ea65",
   "metadata": {},
   "outputs": [],
   "source": [
    "# Trích xuất các văn bản và tính năng đã được làm sạch\n",
    "cv_texts = [result['cleaned_text'] for result in cv_results]\n",
    "jd_texts = [result['cleaned_text'] for result in jd_results]\n",
    "cv_features = [result['features'] for result in cv_results]\n",
    "jd_features = [result['features'] for result in jd_results]"
   ]
  },
  {
   "cell_type": "code",
   "execution_count": 33,
   "id": "1dd04b3e",
   "metadata": {},
   "outputs": [],
   "source": [
    "# Chuẩn hóa các thuật ngữ phổ biến\n",
    "def normalize_terms(text):\n",
    "    # Chuyển đổi văn bản thành chữ thường để khớp không phân biệt chữ hoa chữ thường\n",
    "    text_lower = text.lower()\n",
    "    \n",
    "    # Từ điển thay thế mở rộng\n",
    "    replacements = {\n",
    "        # Ngôn ngữ lập trình\n",
    "        'javascript': 'js',\n",
    "        'java script': 'js',\n",
    "        'python': 'py',\n",
    "        'c plus plus': 'c++',\n",
    "        'cplus plus': 'c++',\n",
    "        'c plusplus': 'c++',\n",
    "        'c#': 'csharp',\n",
    "        'c sharp': 'csharp',\n",
    "        'java': 'java',\n",
    "        'ruby': 'ruby',\n",
    "        'php': 'php',\n",
    "        'go': 'go',\n",
    "        'golang': 'go',\n",
    "        'rust': 'rust',\n",
    "        'kotlin': 'kotlin',\n",
    "        'swift': 'swift',\n",
    "        'typescript': 'ts',\n",
    "        'scala': 'scala',\n",
    "        'perl': 'perl',\n",
    "        'r language': 'r',\n",
    "        'r programming': 'r',\n",
    "        'dart': 'dart',\n",
    "        'lua': 'lua',\n",
    "        'elixir': 'elixir',\n",
    "        'erlang': 'erlang',\n",
    "        'haskell': 'haskell',\n",
    "        'clojure': 'clojure',\n",
    "        'f#': 'fsharp',\n",
    "        'f sharp': 'fsharp',\n",
    "        'groovy': 'groovy',\n",
    "        'matlab': 'matlab',\n",
    "        'shell scripting': 'shell',\n",
    "        'bash': 'bash',\n",
    "        'powershell': 'powershell',\n",
    "        \n",
    "        # Khung và Thư viện\n",
    "        'scikit-learn': 'sklearn',\n",
    "        'scikit learn': 'sklearn',\n",
    "        'tensorflow': 'tensorflow',\n",
    "        'tensor flow': 'tensorflow',\n",
    "        'pytorch': 'pytorch',\n",
    "        'pandas': 'pandas',\n",
    "        'numpy': 'numpy',\n",
    "        'django': 'django',\n",
    "        'flask': 'flask',\n",
    "        'fastapi': 'fastapi',\n",
    "        'spring': 'spring',\n",
    "        'spring boot': 'springboot',\n",
    "        'hibernate': 'hibernate',\n",
    "        'asp.net': 'aspnet',\n",
    "        'asp net': 'aspnet',\n",
    "        'vb.net': 'vbnet',\n",
    "        'vb net': 'vbnet',\n",
    "        'j2ee': 'j2ee',\n",
    "        'node.js': 'nodejs',\n",
    "        'node js': 'nodejs',\n",
    "        'react': 'react',\n",
    "        'reactjs': 'react',\n",
    "        'react.js': 'react',\n",
    "        'angular': 'angular',\n",
    "        'angularjs': 'angular',\n",
    "        'vue.js': 'vuejs',\n",
    "        'vuejs': 'vuejs',\n",
    "        'vue js': 'vuejs',\n",
    "        'express': 'express',\n",
    "        'express.js': 'express',\n",
    "        'laravel': 'laravel',\n",
    "        'symfony': 'symfony',\n",
    "        'rails': 'rails',\n",
    "        'ruby on rails': 'rails',\n",
    "        'next.js': 'nextjs',\n",
    "        'nextjs': 'nextjs',\n",
    "        'nuxt.js': 'nuxtjs',\n",
    "        'nuxtjs': 'nuxtjs',\n",
    "        'svelte': 'svelte',\n",
    "        'sveltekit': 'sveltekit',\n",
    "        'meteor': 'meteor',\n",
    "        'backbone.js': 'backbonejs',\n",
    "        'ember.js': 'emberjs',\n",
    "        'jquery': 'jquery',\n",
    "        'bootstrap': 'bootstrap',\n",
    "        'tailwind css': 'tailwind',\n",
    "        'material ui': 'mui',\n",
    "        'ant design': 'antd',\n",
    "        \n",
    "        # Công cụ và Môi trường phát triển\n",
    "        'visual studio': 'vs',\n",
    "        'visual studio code': 'vscode',\n",
    "        'vs code': 'vscode',\n",
    "        'intellij': 'intellij',\n",
    "        'intellij idea': 'intellij',\n",
    "        'eclipse': 'eclipse',\n",
    "        'pycharm': 'pycharm',\n",
    "        'webstorm': 'webstorm',\n",
    "        'rubymine': 'rubymine',\n",
    "        'android studio': 'androidstudio',\n",
    "        'xcode': 'xcode',\n",
    "        'jupyter': 'jupyter',\n",
    "        'jupyter notebook': 'jupyter',\n",
    "        'jupyter lab': 'jupyterlab',\n",
    "        'git': 'git',\n",
    "        'github': 'github',\n",
    "        'gitlab': 'gitlab',\n",
    "        'bitbucket': 'bitbucket',\n",
    "        'svn': 'svn',\n",
    "        'mercurial': 'mercurial',\n",
    "        'npm': 'npm',\n",
    "        'yarn': 'yarn',\n",
    "        'pnpm': 'pnpm',\n",
    "        'maven': 'maven',\n",
    "        'gradle': 'gradle',\n",
    "        'ant': 'ant',\n",
    "        'cmake': 'cmake',\n",
    "        'make': 'make',\n",
    "        \n",
    "        # Databases\n",
    "        'mysql': 'mysql',\n",
    "        'sql server': 'sqlserver',\n",
    "        'microsoft sql server': 'sqlserver',\n",
    "        'ms sql server': 'sqlserver',\n",
    "        'postgresql': 'postgres',\n",
    "        'postgres': 'postgres',\n",
    "        'oracle': 'oracle',\n",
    "        'mongodb': 'mongodb',\n",
    "        'redis': 'redis',\n",
    "        'cassandra': 'cassandra',\n",
    "        'dynamodb': 'dynamodb',\n",
    "        'sqlite': 'sqlite',\n",
    "        'mariadb': 'mariadb',\n",
    "        'couchdb': 'couchdb',\n",
    "        'neo4j': 'neo4j',\n",
    "        'influxdb': 'influxdb',\n",
    "        'rethinkdb': 'rethinkdb',\n",
    "        'nosql': 'nosql',\n",
    "        'elasticsearch': 'elasticsearch',\n",
    "        'elastic search': 'elasticsearch',\n",
    "        'opensearch': 'opensearch',\n",
    "        \n",
    "        # Artificial Intelligence and Machine Learning\n",
    "        'machine learning': 'ml',\n",
    "        'deep learning': 'dl',\n",
    "        'natural language processing': 'nlp',\n",
    "        'computer vision': 'cv',\n",
    "        'support vector machine': 'svm',\n",
    "        'k nearest neighbors': 'knn',\n",
    "        'k-nearest neighbors': 'knn',\n",
    "        'principal component analysis': 'pca',\n",
    "        'random forest': 'rf',\n",
    "        'decision tree': 'dt',\n",
    "        'naive bayes': 'nb',\n",
    "        'naïve bayes': 'nb',\n",
    "        'gradient boosting': 'gb',\n",
    "        'xgboost': 'xgboost',\n",
    "        'lightgbm': 'lightgbm',\n",
    "        'catboost': 'catboost',\n",
    "        'yolo': 'yolo',\n",
    "        'convolutional neural network': 'cnn',\n",
    "        'recurrent neural network': 'rnn',\n",
    "        'long short term memory': 'lstm',\n",
    "        'gated recurrent unit': 'gru',\n",
    "        'transformer': 'transformer',\n",
    "        'bert': 'bert',\n",
    "        'gpt': 'gpt',\n",
    "        't5': 't5',\n",
    "        'roberta': 'roberta',\n",
    "        'llama': 'llama',\n",
    "        'mistral': 'mistral',\n",
    "        'generative ai': 'genai',\n",
    "        'reinforcement learning': 'rl',\n",
    "        'federated learning': 'fl',\n",
    "        'autoencoders': 'autoencoders',\n",
    "        'gan': 'gan',\n",
    "        'generative adversarial network': 'gan',\n",
    "        \n",
    "        # DevOps và CI/CD\n",
    "        'devops': 'devops',\n",
    "        'continuous integration': 'ci',\n",
    "        'continuous deployment': 'cd',\n",
    "        'continuous delivery': 'cd',\n",
    "        'docker': 'docker',\n",
    "        'kubernetes': 'k8s',\n",
    "        'k8s': 'k8s',\n",
    "        'helm': 'helm',\n",
    "        'jenkins': 'jenkins',\n",
    "        'ansible': 'ansible',\n",
    "        'terraform': 'terraform',\n",
    "        'puppet': 'puppet',\n",
    "        'chef': 'chef',\n",
    "        'gitlab ci': 'gitlabci',\n",
    "        'github actions': 'ghactions',\n",
    "        'circleci': 'circleci',\n",
    "        'travis ci': 'travisci',\n",
    "        'bamboo': 'bamboo',\n",
    "        'prometheus': 'prometheus',\n",
    "        'grafana': 'grafana',\n",
    "        'elk stack': 'elk',\n",
    "        'splunk': 'splunk',\n",
    "        'new relic': 'newrelic',\n",
    "        'datadog': 'datadog',\n",
    "        \n",
    "        # Điện toán đám mây\n",
    "        'cloud computing': 'cloud',\n",
    "        'amazon web services': 'aws',\n",
    "        'aws': 'aws',\n",
    "        'microsoft azure': 'azure',\n",
    "        'azure': 'azure',\n",
    "        'google cloud platform': 'gcp',\n",
    "        'gcp': 'google cloud',\n",
    "        'google cloud': 'google cloud',\n",
    "        'ibm cloud': 'ibmcloud',\n",
    "        'oracle cloud': 'oraclecloud',\n",
    "        'alibaba cloud': 'alibabacloud',\n",
    "        'heroku': 'heroku',\n",
    "        'digitalocean': 'digitalocean',\n",
    "        'linode': 'linode',\n",
    "        'vultr': 'vultr',\n",
    "        'serverless': 'serverless',\n",
    "        'aws lambda': 'awslambda',\n",
    "        'azure functions': 'azurefunctions',\n",
    "        'google cloud functions': 'gcpfunctions',\n",
    "        'cloudformation': 'cloudformation',\n",
    "        'azure resource manager': 'arm',\n",
    "        \n",
    "        # An ninh mạng\n",
    "        'cybersecurity': 'cybersecurity',\n",
    "        'information security': 'infosec',\n",
    "        'infosec': 'infosec',\n",
    "        'owasp': 'owasp',\n",
    "        'oauth': 'oauth',\n",
    "        'openid': 'openid',\n",
    "        'saml': 'saml',\n",
    "        'ssl': 'ssl',\n",
    "        'tls': 'tls',\n",
    "        'penetration testing': 'pentest',\n",
    "        'pentest': 'pentest',\n",
    "        'ethical hacking': 'ethicalhacking',\n",
    "        'vulnerability assessment': 'vulnassess',\n",
    "        'siem': 'siem',\n",
    "        'firewall': 'firewall',\n",
    "        'ids': 'ids',\n",
    "        'ips': 'ips',\n",
    "        'vpn': 'vpn',\n",
    "        'zero trust': 'zerotrust',\n",
    "        \n",
    "        # Phương pháp phát triển\n",
    "        'agile': 'agile',\n",
    "        'scrum': 'scrum',\n",
    "        'kanban': 'kanban',\n",
    "        'lean': 'lean',\n",
    "        'test driven development': 'tdd',\n",
    "        'tdd': 'tdd',\n",
    "        'behavior driven development': 'bdd',\n",
    "        'bdd': 'bdd',\n",
    "        'pair programming': 'pairprogramming',\n",
    "        'extreme programming': 'xp',\n",
    "        'xp': 'xp',\n",
    "        'devsecops': 'devsecops',\n",
    "        'site reliability engineering': 'sre',\n",
    "        'sre': 'sre',\n",
    "        \n",
    "        # UI/UX\n",
    "        'user interface': 'ui',\n",
    "        'ui': 'ui',\n",
    "        'user experience': 'ux',\n",
    "        'ux': 'ux',\n",
    "        'front end': 'frontend',\n",
    "        'frontend': 'frontend',\n",
    "        'back end': 'backend',\n",
    "        'backend': 'backend',\n",
    "        'full stack': 'fullstack',\n",
    "        'fullstack': 'fullstack',\n",
    "        'responsive design': 'responsivedesign',\n",
    "        'progressive web app': 'pwa',\n",
    "        'pwa': 'pwa',\n",
    "        \n",
    "        # API và Tích hợp\n",
    "        'application programming interface': 'api',\n",
    "        'api': 'api',\n",
    "        'rest': 'rest',\n",
    "        'restful': 'rest',\n",
    "        'graphql': 'graphql',\n",
    "        'soap': 'soap',\n",
    "        'grpc': 'grpc',\n",
    "        'microservices': 'microservices',\n",
    "        'service oriented architecture': 'soa',\n",
    "        'soa': 'soa',\n",
    "        'event driven architecture': 'eda',\n",
    "        'eda': 'eda',\n",
    "        \n",
    "        # Data Analysis and Visualization\n",
    "        'tableau': 'tableau',\n",
    "        'power bi': 'powerbi',\n",
    "        'powerbi': 'powerbi',\n",
    "        'qlikview': 'qlikview',\n",
    "        'qliksense': 'qliksense',\n",
    "        'looker': 'looker',\n",
    "        'matplotlib': 'matplotlib',\n",
    "        'seaborn': 'seaborn',\n",
    "        'plotly': 'plotly',\n",
    "        'ggplot': 'ggplot',\n",
    "        'd3.js': 'd3js',\n",
    "        'd3js': 'd3js',\n",
    "        \n",
    "        # Big Data\n",
    "        'hadoop': 'hadoop',\n",
    "        'hadoop ecosystem': 'hadoop',\n",
    "        'spark': 'spark',\n",
    "        'apache spark': 'spark',\n",
    "        'kafka': 'kafka',\n",
    "        'apache kafka': 'kafka',\n",
    "        'flink': 'flink',\n",
    "        'hive': 'hive',\n",
    "        'pig': 'pig',\n",
    "        'hbase': 'hbase',\n",
    "        'impala': 'impala',\n",
    "        'sqoop': 'sqoop',\n",
    "        'oozie': 'oozie',\n",
    "        'zookeeper': 'zookeeper',\n",
    "        'airflow': 'airflow',\n",
    "        'nifi': 'nifi',\n",
    "        \n",
    "        # Education\n",
    "        'bachelor of science': 'bs',\n",
    "        'b.s.': 'bs',\n",
    "        'bsc': 'bs',\n",
    "        'bs': 'bs',\n",
    "        'bachelor of arts': 'ba',\n",
    "        'b.a.': 'ba',\n",
    "        'ba': 'ba',\n",
    "        'master of science': 'ms',\n",
    "        'm.s.': 'ms',\n",
    "        'msc': 'ms',\n",
    "        'ms': 'ms',\n",
    "        'master of arts': 'ma',\n",
    "        'm.a.': 'ma',\n",
    "        'ma': 'ma',\n",
    "        'bachelor of technology': 'btech',\n",
    "        'b.tech': 'btech',\n",
    "        'btech': 'btech',\n",
    "        'ph.d.': 'phd',\n",
    "        'phd': 'phd',\n",
    "        'doctor of philosophy': 'phd',\n",
    "        'm.b.a.': 'mba',\n",
    "        'mba': 'mba',\n",
    "        'master of business administration': 'mba',\n",
    "        'bachelor of engineering': 'beng',\n",
    "        'b.eng': 'beng',\n",
    "        'beng': 'beng',\n",
    "        'bachelor of computer science': 'bcs',\n",
    "        'bcs': 'bcs',\n",
    "        \n",
    "        # Chứng chỉ CNTT\n",
    "        'aws certified': 'awscertified',\n",
    "        'aws solutions architect': 'awscertified',\n",
    "        'aws developer': 'awscertified',\n",
    "        'aws sysops': 'awscertified',\n",
    "        'microsoft certified': 'mscertified',\n",
    "        'azure certified': 'azurecertified',\n",
    "        'google cloud certified': 'gcpcertified',\n",
    "        'cisco certified network associate': 'ccna',\n",
    "        'ccna': 'ccna',\n",
    "        'cisco certified network professional': 'ccnp',\n",
    "        'ccnp': 'ccnp',\n",
    "        'certified information systems security professional': 'cissp',\n",
    "        'cissp': 'cissp',\n",
    "        'certified ethical hacker': 'ceh',\n",
    "        'ceh': 'ceh',\n",
    "        'comptia security+': 'securityplus',\n",
    "        'security+': 'securityplus',\n",
    "        'comptia network+': 'networkplus',\n",
    "        'network+': 'networkplus',\n",
    "        'comptia a+': 'aplus',\n",
    "        'a+': 'aplus',\n",
    "        'scrum master': 'scrummaster',\n",
    "        'certified scrum master': 'scrummaster',\n",
    "        'pmp': 'pmp',\n",
    "        'project management professional': 'pmp',\n",
    "        'itil': 'itil',\n",
    "        'togaf': 'togaf',\n",
    "        'six sigma': 'sixsigma',\n",
    "        \n",
    "        # Experience\n",
    "        'one year': '1 year',\n",
    "        'two years': '2 years',\n",
    "        'three years': '3 years',\n",
    "        'four years': '4 years',\n",
    "        'five years': '5 years',\n",
    "        'six years': '6 years',\n",
    "        'seven years': '7 years',\n",
    "        'eight years': '8 years',\n",
    "        'nine years': '9 years',\n",
    "        'ten years': '10 years',\n",
    "        \n",
    "        # Thuật ngữ CNTT khác\n",
    "        'data science': 'ds',\n",
    "        'software engineer': 'swe',\n",
    "        'software engineering': 'swe',\n",
    "        'data engineer': 'dataengineer',\n",
    "        'data engineering': 'dataengineer',\n",
    "        'cloud engineer': 'cloudengineer',\n",
    "        'ml engineer': 'mlengineer',\n",
    "        'ai engineer': 'aiengineer',\n",
    "        'object oriented': 'oo',\n",
    "        'object-oriented': 'oo',\n",
    "        'functional programming': 'fp',\n",
    "        'blockchain': 'blockchain',\n",
    "        'web3': 'web3',\n",
    "        'internet of things': 'iot',\n",
    "        'iot': 'iot',\n",
    "        'virtual reality': 'vr',\n",
    "        'vr': 'vr',\n",
    "        'augmented reality': 'ar',\n",
    "        'ar': 'ar',\n",
    "        'mixed reality': 'mr',\n",
    "        'mr': 'mr',\n",
    "        'mobile development': 'mobiledev',\n",
    "        'android development': 'androiddev',\n",
    "        'ios development': 'iosdev',\n",
    "        'cross platform': 'crossplatform',\n",
    "        'flutter': 'flutter',\n",
    "        'react native': 'reactnative',\n",
    "        'xamarin': 'xamarin',\n",
    "        'game development': 'gamedev',\n",
    "        'unity': 'unity',\n",
    "        'unreal engine': 'unreal',\n",
    "        'embedded systems': 'embedded',\n",
    "        'firmware': 'firmware',\n",
    "        'robotics': 'robotics',\n",
    "        'quantum computing': 'quantum',\n",
    "        'edge computing': 'edgecomputing',\n",
    "        'data warehouse': 'datawarehouse',\n",
    "        'etl': 'etl',\n",
    "        'data lake': 'datalake',\n",
    "        'data pipeline': 'datapipeline',\n",
    "        'business intelligence': 'bi',\n",
    "        'bi': 'bi'\n",
    "    }\n",
    "    \n",
    "    # Thay thế các thuật ngữ bằng cách sử dụng văn bản viết thường, nhưng vẫn giữ nguyên văn bản gốc đối với các phần không khớp\n",
    "    for key, value in replacements.items():\n",
    "        # Sử dụng regex để thay thế toàn bộ từ, không phân biệt chữ hoa chữ thường\n",
    "        import re\n",
    "        pattern = r'\\b' + re.escape(key) + r'\\b'\n",
    "        text = re.sub(pattern, value, text_lower, flags=re.IGNORECASE)\n",
    "    \n",
    "    return text"
   ]
  },
  {
   "cell_type": "code",
   "execution_count": 34,
   "id": "86fba2f8",
   "metadata": {},
   "outputs": [],
   "source": [
    "# Áp dụng chuẩn hóa cho các văn bản đã được làm sạch\n",
    "cv_texts = [normalize_terms(text) for text in cv_texts]\n",
    "jd_texts = [normalize_terms(text) for text in jd_texts]"
   ]
  },
  {
   "cell_type": "code",
   "execution_count": 35,
   "id": "aad7cd59",
   "metadata": {},
   "outputs": [],
   "source": [
    "# Load Sentence Transformer model\n",
    "model_st = SentenceTransformer('all-mpnet-base-v2')"
   ]
  },
  {
   "cell_type": "code",
   "execution_count": 36,
   "id": "63a395d1",
   "metadata": {},
   "outputs": [],
   "source": [
    "# Xác định đường dẫn tệp để embedding\n",
    "cv_embedding_path = 'D:/BaiDoAnChuyenNganh3/NLPResumeRankingAutomatedSystem/embeddings/cv_embeddings.npy'\n",
    "jd_embedding_path = 'D:/BaiDoAnChuyenNganh3/NLPResumeRankingAutomatedSystem/embeddings/jd_embeddings.npy'"
   ]
  },
  {
   "cell_type": "code",
   "execution_count": 37,
   "id": "47a72076",
   "metadata": {},
   "outputs": [
    {
     "name": "stdout",
     "output_type": "stream",
     "text": [
      "Đang tạo embedding mới...\n"
     ]
    },
    {
     "data": {
      "application/vnd.jupyter.widget-view+json": {
       "model_id": "33b17feb8df542ab920fe9a88795202d",
       "version_major": 2,
       "version_minor": 0
      },
      "text/plain": [
       "Batches:   0%|          | 0/611 [00:00<?, ?it/s]"
      ]
     },
     "metadata": {},
     "output_type": "display_data"
    },
    {
     "data": {
      "application/vnd.jupyter.widget-view+json": {
       "model_id": "066ca4d9563c409fa59e63bd3caea532",
       "version_major": 2,
       "version_minor": 0
      },
      "text/plain": [
       "Batches:   0%|          | 0/611 [00:00<?, ?it/s]"
      ]
     },
     "metadata": {},
     "output_type": "display_data"
    },
    {
     "name": "stdout",
     "output_type": "stream",
     "text": [
      "Embedding được lưu vào D:/BaiDoAnChuyenNganh3/NLPResumeRankingAutomatedSystem/embeddings/cv_embeddings.npy và D:/BaiDoAnChuyenNganh3/NLPResumeRankingAutomatedSystem/embeddings/jd_embeddings.npy\n"
     ]
    }
   ],
   "source": [
    "# Tải hoặc tạo embedding\n",
    "if os.path.exists(cv_embedding_path) and os.path.exists(jd_embedding_path):\n",
    "    print(\"Đang tải các embedding hiện có...\")\n",
    "    cv_embeddings = np.load(cv_embedding_path)\n",
    "    jd_embeddings = np.load(jd_embedding_path)\n",
    "else:\n",
    "    print(\"Đang tạo embedding mới...\")\n",
    "    cv_embeddings = model_st.encode(cv_texts, show_progress_bar=True, batch_size=32)\n",
    "    jd_embeddings = model_st.encode(jd_texts, show_progress_bar=True, batch_size=32)\n",
    "    # Tạo thư mục embedding nếu nó không tồn tại\n",
    "    os.makedirs(os.path.dirname(cv_embedding_path), exist_ok=True)\n",
    "    # Lưu embeddings đến thư mục\n",
    "    np.save(cv_embedding_path, cv_embeddings)\n",
    "    np.save(jd_embedding_path, jd_embeddings)\n",
    "    print(f\"Embedding được lưu vào {cv_embedding_path} và {jd_embedding_path}\")"
   ]
  },
  {
   "cell_type": "code",
   "execution_count": 38,
   "id": "43968f3a",
   "metadata": {},
   "outputs": [],
   "source": [
    "# Tính toán cosine similarity giữa embeddings\n",
    "similarities = cosine_similarity(cv_embeddings, jd_embeddings).diagonal()\n",
    "avg_scores = similarities * 100  # Scale to 0-100"
   ]
  },
  {
   "cell_type": "code",
   "execution_count": 39,
   "id": "90069df5",
   "metadata": {},
   "outputs": [],
   "source": [
    "# Kết hợp các tính năng NER vào một định dạng có cấu trúc\n",
    "def combine_ner_features(cv_feats, jd_feats): \n",
    "    # Đếm số lượng khớp giữa các kỹ năng CV và JD\n",
    "    skill_matches = len(set(cv_feats['skills']) & set(jd_feats['skills']))\n",
    "    # Đếm các kết quả trùng khớp trong giáo dục (ví dụ: cùng trường đại học hoặc loại bằng cấp)\n",
    "    education_matches = len(set(cv_feats['education']) & set(jd_feats['education']))\n",
    "    # Trích xuất nhiều năm kinh nghiệm và so sánh\n",
    "    cv_exp_years = 0\n",
    "    jd_exp_years = 0\n",
    "    for exp in cv_feats['experience']:\n",
    "        match = re.search(r'(\\d+)\\s*years?', exp, re.IGNORECASE)\n",
    "        if match:\n",
    "            cv_exp_years = max(cv_exp_years, int(match.group(1)))\n",
    "    for exp in jd_feats['experience']:\n",
    "        match = re.search(r'(\\d+)\\s*years?', exp, re.IGNORECASE)\n",
    "        if match:\n",
    "            jd_exp_years = max(jd_exp_years, int(match.group(1)))\n",
    "    exp_match = 1 if cv_exp_years >= jd_exp_years and jd_exp_years > 0 else 0\n",
    "    return [skill_matches, education_matches, exp_match]"
   ]
  },
  {
   "cell_type": "code",
   "execution_count": 40,
   "id": "e9ea77da",
   "metadata": {},
   "outputs": [],
   "source": [
    "# Tạo mảng tính năng từ NER\n",
    "ner_features = np.array([combine_ner_features(cv_f, jd_f) for cv_f, jd_f in zip(cv_features, jd_features)])"
   ]
  },
  {
   "cell_type": "code",
   "execution_count": 41,
   "id": "0c32ef37",
   "metadata": {},
   "outputs": [],
   "source": [
    "# Kết hợp embedding và các tính năng NER\n",
    "X = np.hstack([cv_embeddings, jd_embeddings, ner_features, similarities.reshape(-1, 1)])\n",
    "y = avg_scores"
   ]
  },
  {
   "cell_type": "code",
   "execution_count": 42,
   "id": "caeeb140",
   "metadata": {},
   "outputs": [
    {
     "name": "stdout",
     "output_type": "stream",
     "text": [
      "[[ 0.03700898  0.02423519 -0.02078905 ...  1.          0.\n",
      "   0.24888179]\n",
      " [ 0.05830662  0.03760226 -0.05008275 ...  1.          0.\n",
      "   0.36744112]\n",
      " [ 0.05616248  0.00994758 -0.04728708 ...  0.          0.\n",
      "   0.49052203]\n",
      " ...\n",
      " [ 0.02262202 -0.01403661 -0.01646734 ...  0.          0.\n",
      "   0.36812222]\n",
      " [ 0.05842919  0.09442427 -0.04634298 ...  0.          1.\n",
      "   0.45424211]\n",
      " [ 0.05108277  0.01832039 -0.03202097 ...  1.          0.\n",
      "   0.4431861 ]]\n"
     ]
    }
   ],
   "source": [
    "print(X)"
   ]
  },
  {
   "cell_type": "code",
   "execution_count": 43,
   "id": "14d99205",
   "metadata": {},
   "outputs": [
    {
     "name": "stdout",
     "output_type": "stream",
     "text": [
      "[24.888178 36.74411  49.052204 ... 36.81222  45.42421  44.31861 ]\n"
     ]
    }
   ],
   "source": [
    "print(y)"
   ]
  },
  {
   "cell_type": "code",
   "execution_count": 44,
   "id": "86e7365e",
   "metadata": {},
   "outputs": [],
   "source": [
    "# Create labeled dataset\n",
    "labeled_data = pd.DataFrame({\n",
    "    'CV_text': cv_texts,\n",
    "    'JD_text': jd_texts,\n",
    "    'avg_score': avg_scores\n",
    "})"
   ]
  },
  {
   "cell_type": "code",
   "execution_count": 45,
   "id": "398478da",
   "metadata": {},
   "outputs": [
    {
     "name": "stdout",
     "output_type": "stream",
     "text": [
      "                                             CV_text  \\\n",
      "0  office staff database administrator office sta...   \n",
      "1  reactjs developer reactjs span ldeveloperspan ...   \n",
      "2  jim ryan software developer 917 202 - 5269 new...   \n",
      "3  vpn project consultant silgan container vpn pr...   \n",
      "4  principal clientserver op analyst principal cl...   \n",
      "\n",
      "                                             JD_text  avg_score  \n",
      "0  aw metering bill generation combine interestin...  24.888178  \n",
      "1  job 4 - 10 year experience full stack developm...  36.744110  \n",
      "2  web developer html , css , javascript commutab...  49.052204  \n",
      "3  job title software development director locati...  39.674042  \n",
      "4  job key skill requirement experience install ,...  42.988987  \n"
     ]
    }
   ],
   "source": [
    "# Display the first few rows\n",
    "print(labeled_data.head())"
   ]
  },
  {
   "cell_type": "code",
   "execution_count": 46,
   "metadata": {},
   "outputs": [
    {
     "name": "stdout",
     "output_type": "stream",
     "text": [
      "Đã lưu thành công vào labeled_dataset.csv\n"
     ]
    }
   ],
   "source": [
    "# Save to CSV\n",
    "labeled_data.to_csv('D:/BaiDoAnChuyenNganh3/NLPResumeRankingAutomatedSystem/datasets/labeled_dataset.csv', index=False, encoding=\"UTF-8\")\n",
    "print('Đã lưu thành công vào labeled_dataset.csv')"
   ]
  },
  {
   "cell_type": "code",
   "execution_count": 47,
   "id": "f2be8c3f",
   "metadata": {},
   "outputs": [
    {
     "data": {
      "image/png": "[encoded data removed]",
      "text/plain": [
       "<Figure size 640x480 with 1 Axes>"
      ]
     },
     "metadata": {},
     "output_type": "display_data"
    },
    {
     "name": "stdout",
     "output_type": "stream",
     "text": [
      "count    19549.000000\n",
      "mean        45.652675\n",
      "std          9.228412\n",
      "min          3.152892\n",
      "25%         39.493910\n",
      "50%         45.595776\n",
      "75%         51.796688\n",
      "max         82.910520\n",
      "Name: avg_score, dtype: float64\n"
     ]
    }
   ],
   "source": [
    "import matplotlib.pyplot as plt\n",
    "\n",
    "df = pd.read_csv('D:/BaiDoAnChuyenNganh3/NLPResumeRankingAutomatedSystem/datasets/labeled_dataset.csv')\n",
    "plt.hist(df['avg_score'], bins=50)\n",
    "plt.xlabel('Average Score')\n",
    "plt.ylabel('Frequency')\n",
    "plt.title('Phân phối avg_score')\n",
    "plt.show()\n",
    "print(df['avg_score'].describe())"
   ]
  }
 ],
 "metadata": {
  "kernelspec": {
   "display_name": ".venv",
   "language": "python",
   "name": "python3"
  },
  "language_info": {
   "codemirror_mode": {
    "name": "ipython",
    "version": 3
   },
   "file_extension": ".py",
   "mimetype": "text/x-python",
   "name": "python",
   "nbconvert_exporter": "python",
   "pygments_lexer": "ipython3",
   "version": "3.11.9"
  }
 },
 "nbformat": 4,
 "nbformat_minor": 5
}
