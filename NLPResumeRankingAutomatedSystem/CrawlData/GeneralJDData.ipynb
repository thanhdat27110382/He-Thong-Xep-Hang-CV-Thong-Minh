{
 "cells": [
  {
   "cell_type": "code",
   "execution_count": 1,
   "id": "423bb457",
   "metadata": {},
   "outputs": [],
   "source": [
    "import pandas as pd\n",
    "import os"
   ]
  },
  {
   "cell_type": "code",
   "execution_count": 2,
   "id": "d0ba5daf",
   "metadata": {},
   "outputs": [],
   "source": [
    "# Danh sách các file .xlsx (dựa trên ảnh bạn cung cấp)\n",
    "file_list = [\n",
    "    'D:/BaiDoAnChuyenNganh3/Automated-Resume-Ranking-System-main/csvfiles/crawlcv/Sum_JD/jd_cleaned.xlsx',\n",
    "    'D:/BaiDoAnChuyenNganh3/Automated-Resume-Ranking-System-main/csvfiles/crawlcv/Sum_JD/job_cleanData.xlsx',\n",
    "    'D:/BaiDoAnChuyenNganh3/Automated-Resume-Ranking-System-main/csvfiles/crawlcv/Sum_JD/DataAnalyst.xlsx',\n",
    "    'D:/BaiDoAnChuyenNganh3/Automated-Resume-Ranking-System-main/csvfiles/crawlcv/Sum_JD/job_title_des.xlsx',\n",
    "    'D:/BaiDoAnChuyenNganh3/Automated-Resume-Ranking-System-main/csvfiles/crawlcv/Sum_JD/training_data.xlsx'\n",
    "]"
   ]
  },
  {
   "cell_type": "code",
   "execution_count": 3,
   "id": "cf147119",
   "metadata": {},
   "outputs": [],
   "source": [
    "# Bước 1: Gộp tất cả các file .xlsx thành một DataFrame\n",
    "df_list = []\n",
    "for file in file_list:\n",
    "    df_temp = pd.read_excel(file)\n",
    "    df_list.append(df_temp)"
   ]
  },
  {
   "cell_type": "code",
   "execution_count": 4,
   "id": "12ecabfe",
   "metadata": {},
   "outputs": [],
   "source": [
    "# Gộp tất cả DataFrame thành một\n",
    "df = pd.concat(df_list, ignore_index=True)"
   ]
  },
  {
   "cell_type": "code",
   "execution_count": 5,
   "id": "109b5c54",
   "metadata": {},
   "outputs": [
    {
     "name": "stdout",
     "output_type": "stream",
     "text": [
      "{15332}\n"
     ]
    }
   ],
   "source": [
    "print({len(df)})"
   ]
  },
  {
   "cell_type": "code",
   "execution_count": 6,
   "id": "3a1b3a3c",
   "metadata": {},
   "outputs": [],
   "source": [
    "# Bước 2: Viết hoa toàn bộ nội dung cột Job Title\n",
    "df['Job Title'] = df['Job Title'].str.upper()"
   ]
  },
  {
   "cell_type": "code",
   "execution_count": 7,
   "id": "4b7f98fb",
   "metadata": {},
   "outputs": [
    {
     "name": "stdout",
     "output_type": "stream",
     "text": [
      "Số lượng dòng trùng lặp trong cột Job Description: 3980\n"
     ]
    }
   ],
   "source": [
    "# Bước 3: Kiểm tra và xóa các dòng trùng lặp trong cột Job Description\n",
    "duplicates = df['Job Description'].duplicated()\n",
    "print(f\"Số lượng dòng trùng lặp trong cột Job Description: {duplicates.sum()}\")"
   ]
  },
  {
   "cell_type": "code",
   "execution_count": 8,
   "id": "4a4853f6",
   "metadata": {},
   "outputs": [],
   "source": [
    "# Bước 4: Xáo trộn các dòng trong DataFrame\n",
    "df = df.sample(frac=1, random_state=42).reset_index(drop=True)"
   ]
  },
  {
   "cell_type": "code",
   "execution_count": 9,
   "id": "d5507bb8",
   "metadata": {},
   "outputs": [
    {
     "name": "stdout",
     "output_type": "stream",
     "text": [
      "Đã gộp và xử lý xong! File được lưu tại 'merged_job_data.xlsx'\n"
     ]
    }
   ],
   "source": [
    "# Bước 4: Lưu DataFrame đã xử lý vào file .xlsx mới, không bao gồm cột index\n",
    "df.to_excel('D:/BaiDoAnChuyenNganh3/Automated-Resume-Ranking-System-main/csvfiles/crawlcv/General_DataJD/General_Data_JD.xlsx', index=False)\n",
    "\n",
    "print(\"Đã gộp và xử lý xong! File được lưu tại 'merged_job_data.xlsx'\")"
   ]
  },
  {
   "cell_type": "code",
   "execution_count": 19,
   "id": "ec431a97",
   "metadata": {},
   "outputs": [],
   "source": [
    "# Danh sách các file .xlsx (dựa trên ảnh bạn cung cấp)\n",
    "file_list = [\n",
    "    'D:/BaiDoAnChuyenNganh3/Automated-Resume-Ranking-System-main/csvfiles/crawlcv/General_DataJD/General_Data_JD.xlsx',\n",
    "    'D:/BaiDoAnChuyenNganh3/Automated-Resume-Ranking-System-main/csvfiles/crawlcv/Sum_JD/jobs_linkedin.xlsx',\n",
    "    'D:/BaiDoAnChuyenNganh3/Automated-Resume-Ranking-System-main/csvfiles/crawlcv/Sum_JD/jdcopy.xlsx'\n",
    "]"
   ]
  },
  {
   "cell_type": "code",
   "execution_count": 20,
   "id": "6325c552",
   "metadata": {},
   "outputs": [],
   "source": [
    "# Bước 1: Gộp tất cả các file .xlsx thành một DataFrame\n",
    "df_list = []\n",
    "for file in file_list:\n",
    "    df_temp = pd.read_excel(file)\n",
    "    df_list.append(df_temp)"
   ]
  },
  {
   "cell_type": "code",
   "execution_count": 21,
   "id": "88577a52",
   "metadata": {},
   "outputs": [],
   "source": [
    "# Gộp tất cả DataFrame thành một\n",
    "df = pd.concat(df_list, ignore_index=True)"
   ]
  },
  {
   "cell_type": "code",
   "execution_count": 22,
   "id": "851e2777",
   "metadata": {},
   "outputs": [
    {
     "data": {
      "text/html": [
       "<div>\n",
       "<style scoped>\n",
       "    .dataframe tbody tr th:only-of-type {\n",
       "        vertical-align: middle;\n",
       "    }\n",
       "\n",
       "    .dataframe tbody tr th {\n",
       "        vertical-align: top;\n",
       "    }\n",
       "\n",
       "    .dataframe thead th {\n",
       "        text-align: right;\n",
       "    }\n",
       "</style>\n",
       "<table border=\"1\" class=\"dataframe\">\n",
       "  <thead>\n",
       "    <tr style=\"text-align: right;\">\n",
       "      <th></th>\n",
       "      <th>Job Title</th>\n",
       "      <th>Job Description</th>\n",
       "    </tr>\n",
       "  </thead>\n",
       "  <tbody>\n",
       "    <tr>\n",
       "      <th>0</th>\n",
       "      <td>WEB DEVELOPER</td>\n",
       "      <td>my client a busy travel booking website is cur...</td>\n",
       "    </tr>\n",
       "    <tr>\n",
       "      <th>1</th>\n",
       "      <td>DATA ANALYST - HEALTH</td>\n",
       "      <td>Overview\\n\\nIMPAQ International, a growing and...</td>\n",
       "    </tr>\n",
       "    <tr>\n",
       "      <th>2</th>\n",
       "      <td>C NET SQL SERVER SOAP REST SOFTWARE DEVELOPER</td>\n",
       "      <td>c .net sql server soap rest software developer...</td>\n",
       "    </tr>\n",
       "    <tr>\n",
       "      <th>3</th>\n",
       "      <td>FLUTTER DEVELOPER</td>\n",
       "      <td>. Looking for Mobile application developer wit...</td>\n",
       "    </tr>\n",
       "    <tr>\n",
       "      <th>4</th>\n",
       "      <td>APPLICATION DEVELOPER</td>\n",
       "      <td>application developer an exciting opportunity ...</td>\n",
       "    </tr>\n",
       "  </tbody>\n",
       "</table>\n",
       "</div>"
      ],
      "text/plain": [
       "                                       Job Title  \\\n",
       "0                                  WEB DEVELOPER   \n",
       "1                          DATA ANALYST - HEALTH   \n",
       "2  C NET SQL SERVER SOAP REST SOFTWARE DEVELOPER   \n",
       "3                              FLUTTER DEVELOPER   \n",
       "4                          APPLICATION DEVELOPER   \n",
       "\n",
       "                                     Job Description  \n",
       "0  my client a busy travel booking website is cur...  \n",
       "1  Overview\\n\\nIMPAQ International, a growing and...  \n",
       "2  c .net sql server soap rest software developer...  \n",
       "3  . Looking for Mobile application developer wit...  \n",
       "4  application developer an exciting opportunity ...  "
      ]
     },
     "execution_count": 22,
     "metadata": {},
     "output_type": "execute_result"
    }
   ],
   "source": [
    "df.head()"
   ]
  },
  {
   "cell_type": "code",
   "execution_count": 23,
   "id": "22d4e440",
   "metadata": {},
   "outputs": [
    {
     "name": "stdout",
     "output_type": "stream",
     "text": [
      "{19551}\n"
     ]
    }
   ],
   "source": [
    "print({len(df)})"
   ]
  },
  {
   "cell_type": "code",
   "execution_count": 24,
   "id": "91ae4aab",
   "metadata": {},
   "outputs": [],
   "source": [
    "# Bước 2: Viết hoa toàn bộ nội dung cột Job Title\n",
    "df['Job Title'] = df['Job Title'].str.upper()"
   ]
  },
  {
   "cell_type": "code",
   "execution_count": 25,
   "id": "919fbb30",
   "metadata": {},
   "outputs": [],
   "source": [
    "# Bước 4: Xáo trộn các dòng trong DataFrame\n",
    "df = df.sample(frac=1, random_state=42).reset_index(drop=True)"
   ]
  },
  {
   "cell_type": "code",
   "execution_count": 26,
   "id": "1cd6579a",
   "metadata": {},
   "outputs": [
    {
     "data": {
      "text/html": [
       "<div>\n",
       "<style scoped>\n",
       "    .dataframe tbody tr th:only-of-type {\n",
       "        vertical-align: middle;\n",
       "    }\n",
       "\n",
       "    .dataframe tbody tr th {\n",
       "        vertical-align: top;\n",
       "    }\n",
       "\n",
       "    .dataframe thead th {\n",
       "        text-align: right;\n",
       "    }\n",
       "</style>\n",
       "<table border=\"1\" class=\"dataframe\">\n",
       "  <thead>\n",
       "    <tr style=\"text-align: right;\">\n",
       "      <th></th>\n",
       "      <th>Job Title</th>\n",
       "      <th>Job Description</th>\n",
       "    </tr>\n",
       "  </thead>\n",
       "  <tbody>\n",
       "    <tr>\n",
       "      <th>0</th>\n",
       "      <td>GRADUATE JAVA SOFTWARE DEVELOPER  IT SOFTWARE ...</td>\n",
       "      <td>graduate java software developer – web, agile,...</td>\n",
       "    </tr>\n",
       "    <tr>\n",
       "      <th>1</th>\n",
       "      <td>ANDROID APPLICATION DEVELOPER  MOBILE SOLUTION...</td>\n",
       "      <td>android application developer  west london req...</td>\n",
       "    </tr>\n",
       "    <tr>\n",
       "      <th>2</th>\n",
       "      <td>SOFTWARE DEVELOPMENT ENGINEER</td>\n",
       "      <td>Do you enjoy watching the latest movies, telev...</td>\n",
       "    </tr>\n",
       "    <tr>\n",
       "      <th>3</th>\n",
       "      <td>FULL STACK DEVELOPER</td>\n",
       "      <td>transcriptic robotic cloud laboratory life sci...</td>\n",
       "    </tr>\n",
       "    <tr>\n",
       "      <th>4</th>\n",
       "      <td>SCRUM MASTER</td>\n",
       "      <td>About the job We would be happy to consider yo...</td>\n",
       "    </tr>\n",
       "  </tbody>\n",
       "</table>\n",
       "</div>"
      ],
      "text/plain": [
       "                                           Job Title  \\\n",
       "0  GRADUATE JAVA SOFTWARE DEVELOPER  IT SOFTWARE ...   \n",
       "1  ANDROID APPLICATION DEVELOPER  MOBILE SOLUTION...   \n",
       "2                      SOFTWARE DEVELOPMENT ENGINEER   \n",
       "3                               FULL STACK DEVELOPER   \n",
       "4                                       SCRUM MASTER   \n",
       "\n",
       "                                     Job Description  \n",
       "0  graduate java software developer – web, agile,...  \n",
       "1  android application developer  west london req...  \n",
       "2  Do you enjoy watching the latest movies, telev...  \n",
       "3  transcriptic robotic cloud laboratory life sci...  \n",
       "4  About the job We would be happy to consider yo...  "
      ]
     },
     "execution_count": 26,
     "metadata": {},
     "output_type": "execute_result"
    }
   ],
   "source": [
    "df.head()"
   ]
  },
  {
   "cell_type": "code",
   "execution_count": 27,
   "id": "9fec1e64",
   "metadata": {},
   "outputs": [
    {
     "name": "stdout",
     "output_type": "stream",
     "text": [
      "Đã gộp và xử lý xong! File được lưu tại 'merged_job_data.xlsx'\n"
     ]
    }
   ],
   "source": [
    "# Bước 4: Lưu DataFrame đã xử lý vào file .xlsx mới, không bao gồm cột index\n",
    "df.to_excel('D:/BaiDoAnChuyenNganh3/Automated-Resume-Ranking-System-main/csvfiles/crawlcv/General_DataJD/General_Data_JD1.xlsx', index=False)\n",
    "\n",
    "print(\"Đã gộp và xử lý xong! File được lưu tại 'merged_job_data.xlsx'\")"
   ]
  }
 ],
 "metadata": {
  "kernelspec": {
   "display_name": ".venv",
   "language": "python",
   "name": "python3"
  },
  "language_info": {
   "codemirror_mode": {
    "name": "ipython",
    "version": 3
   },
   "file_extension": ".py",
   "mimetype": "text/x-python",
   "name": "python",
   "nbconvert_exporter": "python",
   "pygments_lexer": "ipython3",
   "version": "3.11.9"
  }
 },
 "nbformat": 4,
 "nbformat_minor": 5
}
