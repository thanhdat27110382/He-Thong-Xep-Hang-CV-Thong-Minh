{
 "cells": [
  {
   "cell_type": "code",
   "execution_count": 2,
   "id": "c259cac0",
   "metadata": {},
   "outputs": [],
   "source": [
    "import pandas as pd "
   ]
  },
  {
   "cell_type": "code",
   "execution_count": 4,
   "id": "1d402fed",
   "metadata": {},
   "outputs": [],
   "source": [
    "df = pd.read_csv(\"D:/Downloads/resume_dataset/resume_datasetIT.csv\")"
   ]
  },
  {
   "cell_type": "code",
   "execution_count": 5,
   "id": "686a43ea",
   "metadata": {},
   "outputs": [
    {
     "data": {
      "text/html": [
       "<div>\n",
       "<style scoped>\n",
       "    .dataframe tbody tr th:only-of-type {\n",
       "        vertical-align: middle;\n",
       "    }\n",
       "\n",
       "    .dataframe tbody tr th {\n",
       "        vertical-align: top;\n",
       "    }\n",
       "\n",
       "    .dataframe thead th {\n",
       "        text-align: right;\n",
       "    }\n",
       "</style>\n",
       "<table border=\"1\" class=\"dataframe\">\n",
       "  <thead>\n",
       "    <tr style=\"text-align: right;\">\n",
       "      <th></th>\n",
       "      <th>Category</th>\n",
       "      <th>Resume</th>\n",
       "    </tr>\n",
       "  </thead>\n",
       "  <tbody>\n",
       "    <tr>\n",
       "      <th>0</th>\n",
       "      <td>Blockchain</td>\n",
       "      <td>SOFTWARE SKILLS Languages C C java Operating S...</td>\n",
       "    </tr>\n",
       "    <tr>\n",
       "      <th>1</th>\n",
       "      <td>Blockchain</td>\n",
       "      <td>Skills Strong CS fundamentals and problem solv...</td>\n",
       "    </tr>\n",
       "    <tr>\n",
       "      <th>2</th>\n",
       "      <td>Blockchain</td>\n",
       "      <td>Hobbies Playing Chess Solving Rubik s Cube Wat...</td>\n",
       "    </tr>\n",
       "    <tr>\n",
       "      <th>3</th>\n",
       "      <td>Blockchain</td>\n",
       "      <td>KEY SKILLS Programing languages C C Python Ape...</td>\n",
       "    </tr>\n",
       "    <tr>\n",
       "      <th>4</th>\n",
       "      <td>Blockchain</td>\n",
       "      <td>SOFTWARE SKILLS Languages C C java Operating S...</td>\n",
       "    </tr>\n",
       "  </tbody>\n",
       "</table>\n",
       "</div>"
      ],
      "text/plain": [
       "      Category                                             Resume\n",
       "0   Blockchain  SOFTWARE SKILLS Languages C C java Operating S...\n",
       "1   Blockchain  Skills Strong CS fundamentals and problem solv...\n",
       "2   Blockchain  Hobbies Playing Chess Solving Rubik s Cube Wat...\n",
       "3   Blockchain  KEY SKILLS Programing languages C C Python Ape...\n",
       "4   Blockchain  SOFTWARE SKILLS Languages C C java Operating S..."
      ]
     },
     "execution_count": 5,
     "metadata": {},
     "output_type": "execute_result"
    }
   ],
   "source": [
    "df.head(5)"
   ]
  },
  {
   "cell_type": "code",
   "execution_count": 6,
   "id": "14fdad0b",
   "metadata": {},
   "outputs": [],
   "source": [
    "# Kiểm tra các dòng trùng lặp trong cột 'Resume'\n",
    "duplicates = df['Resume'].duplicated()"
   ]
  },
  {
   "cell_type": "code",
   "execution_count": 7,
   "id": "c4ebdc79",
   "metadata": {},
   "outputs": [
    {
     "name": "stdout",
     "output_type": "stream",
     "text": [
      "Số lượng dòng trùng lặp trong cột Resume: 482\n"
     ]
    }
   ],
   "source": [
    "# In số lượng dòng trùng lặp (nếu có)\n",
    "print(f\"Số lượng dòng trùng lặp trong cột Resume: {duplicates.sum()}\")"
   ]
  },
  {
   "cell_type": "code",
   "execution_count": 8,
   "id": "aa24c027",
   "metadata": {},
   "outputs": [],
   "source": [
    "# Nếu có dòng trùng lặp, loại bỏ chúng và giữ lại dòng đầu tiên\n",
    "if duplicates.sum() > 0:\n",
    "    df = df.drop_duplicates(subset=['Resume'], keep='first')"
   ]
  },
  {
   "cell_type": "code",
   "execution_count": 9,
   "id": "c07d773d",
   "metadata": {},
   "outputs": [
    {
     "name": "stdout",
     "output_type": "stream",
     "text": [
      "      Category                                             Resume\n",
      "0   Blockchain  SOFTWARE SKILLS Languages C C java Operating S...\n",
      "1   Blockchain  Skills Strong CS fundamentals and problem solv...\n",
      "2   Blockchain  Hobbies Playing Chess Solving Rubik s Cube Wat...\n",
      "3   Blockchain  KEY SKILLS Programing languages C C Python Ape...\n",
      "5   Blockchain  SKILLS Bitcoin Ethereum Solidity Hyperledger B...\n"
     ]
    }
   ],
   "source": [
    "# In lại 5 dòng đầu tiên để kiểm tra kết quả\n",
    "print(df.head(5))"
   ]
  },
  {
   "cell_type": "code",
   "execution_count": 12,
   "id": "e6151504",
   "metadata": {},
   "outputs": [],
   "source": [
    "df[['Category', 'Resume']].to_excel(\"D:/Downloads/resume_dataset/resume_datasetITDone.xlsx\")"
   ]
  }
 ],
 "metadata": {
  "kernelspec": {
   "display_name": ".venv",
   "language": "python",
   "name": "python3"
  },
  "language_info": {
   "codemirror_mode": {
    "name": "ipython",
    "version": 3
   },
   "file_extension": ".py",
   "mimetype": "text/x-python",
   "name": "python",
   "nbconvert_exporter": "python",
   "pygments_lexer": "ipython3",
   "version": "3.11.9"
  }
 },
 "nbformat": 4,
 "nbformat_minor": 5
}
