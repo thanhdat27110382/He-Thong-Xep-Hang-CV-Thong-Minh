{
 "cells": [
  {
   "cell_type": "code",
   "execution_count": 1,
   "id": "69352cde",
   "metadata": {},
   "outputs": [],
   "source": [
    "import pandas as pd\n",
    "import os"
   ]
  },
  {
   "cell_type": "code",
   "execution_count": 2,
   "id": "741b3b39",
   "metadata": {},
   "outputs": [],
   "source": [
    "# Danh sách các file .xlsx (dựa trên ảnh bạn cung cấp)\n",
    "file_list = [\n",
    "    'D:/BaiDoAnChuyenNganh3/Automated-Resume-Ranking-System-main/csvfiles/crawlcv/NewITData/CV_JD_DataSet.xlsx',\n",
    "    'D:/BaiDoAnChuyenNganh3/Automated-Resume-Ranking-System-main/csvfiles/crawlcv/NewITData/finalcvgeniusITlink.xlsx',\n",
    "    'D:/BaiDoAnChuyenNganh3/Automated-Resume-Ranking-System-main/csvfiles/crawlcv/NewITData/finalindeedITlink.xlsx',\n",
    "    'D:/BaiDoAnChuyenNganh3/Automated-Resume-Ranking-System-main/csvfiles/crawlcv/NewITData/finalresumebuilderITlink.xlsx',\n",
    "    'D:/BaiDoAnChuyenNganh3/Automated-Resume-Ranking-System-main/csvfiles/crawlcv/NewITData/finalresumeiolink.xlsx',\n",
    "    'D:/BaiDoAnChuyenNganh3/Automated-Resume-Ranking-System-main/csvfiles/crawlcv/NewITData/finalresumekraftITlink.xlsx',\n",
    "    'D:/BaiDoAnChuyenNganh3/Automated-Resume-Ranking-System-main/csvfiles/crawlcv/NewITData/finalresumelabITlink.xlsx',\n",
    "    'D:/BaiDoAnChuyenNganh3/Automated-Resume-Ranking-System-main/csvfiles/crawlcv/NewITData/finalresumetrickITlink.xlsx',\n",
    "    'D:/BaiDoAnChuyenNganh3/Automated-Resume-Ranking-System-main/csvfiles/crawlcv/NewITData/finalzetyITlinklink.xlsx',\n",
    "    'D:/BaiDoAnChuyenNganh3/Automated-Resume-Ranking-System-main/csvfiles/crawlcv/NewITData/gpt_dataset.xlsx',\n",
    "    'D:/BaiDoAnChuyenNganh3/Automated-Resume-Ranking-System-main/csvfiles/crawlcv/NewITData/resume_datasetITDone.xlsx'\n",
    "]"
   ]
  },
  {
   "cell_type": "code",
   "execution_count": 3,
   "id": "194110f6",
   "metadata": {},
   "outputs": [],
   "source": [
    "# Bước 1: Gộp tất cả các file .xlsx thành một DataFrame\n",
    "df_list = []\n",
    "for file in file_list:\n",
    "    df_temp = pd.read_excel(file)\n",
    "    df_list.append(df_temp)"
   ]
  },
  {
   "cell_type": "code",
   "execution_count": 4,
   "id": "023e3f82",
   "metadata": {},
   "outputs": [],
   "source": [
    "# Gộp tất cả DataFrame thành một\n",
    "df = pd.concat(df_list, ignore_index=True)"
   ]
  },
  {
   "cell_type": "code",
   "execution_count": 5,
   "id": "1f9ad811",
   "metadata": {},
   "outputs": [
    {
     "data": {
      "text/html": [
       "<div>\n",
       "<style scoped>\n",
       "    .dataframe tbody tr th:only-of-type {\n",
       "        vertical-align: middle;\n",
       "    }\n",
       "\n",
       "    .dataframe tbody tr th {\n",
       "        vertical-align: top;\n",
       "    }\n",
       "\n",
       "    .dataframe thead th {\n",
       "        text-align: right;\n",
       "    }\n",
       "</style>\n",
       "<table border=\"1\" class=\"dataframe\">\n",
       "  <thead>\n",
       "    <tr style=\"text-align: right;\">\n",
       "      <th></th>\n",
       "      <th>Category</th>\n",
       "      <th>Resume</th>\n",
       "    </tr>\n",
       "  </thead>\n",
       "  <tbody>\n",
       "    <tr>\n",
       "      <th>0</th>\n",
       "      <td>Data Science</td>\n",
       "      <td>Skills * Programming Languages: Python (pandas...</td>\n",
       "    </tr>\n",
       "    <tr>\n",
       "      <th>1</th>\n",
       "      <td>Data Science</td>\n",
       "      <td>Education Details \\nMay 2013 to May 2017 B.E  ...</td>\n",
       "    </tr>\n",
       "    <tr>\n",
       "      <th>2</th>\n",
       "      <td>Data Science</td>\n",
       "      <td>Areas of Interest Deep Learning, Control Syste...</td>\n",
       "    </tr>\n",
       "    <tr>\n",
       "      <th>3</th>\n",
       "      <td>Data Science</td>\n",
       "      <td>Skills â¢ R â¢ Python â¢ SAP HANA â¢ Table...</td>\n",
       "    </tr>\n",
       "    <tr>\n",
       "      <th>4</th>\n",
       "      <td>Data Science</td>\n",
       "      <td>Education Details \\n MCA   YMCAUST,  Faridabad...</td>\n",
       "    </tr>\n",
       "    <tr>\n",
       "      <th>5</th>\n",
       "      <td>Data Science</td>\n",
       "      <td>SKILLS C Basics, IOT, Python, MATLAB, Data Sci...</td>\n",
       "    </tr>\n",
       "    <tr>\n",
       "      <th>6</th>\n",
       "      <td>Data Science</td>\n",
       "      <td>Skills â¢ Python â¢ Tableau â¢ Data Visuali...</td>\n",
       "    </tr>\n",
       "    <tr>\n",
       "      <th>7</th>\n",
       "      <td>Data Science</td>\n",
       "      <td>Education Details \\n B.Tech   Rayat and Bahra ...</td>\n",
       "    </tr>\n",
       "    <tr>\n",
       "      <th>8</th>\n",
       "      <td>Data Science</td>\n",
       "      <td>Personal Skills â¢ Ability to quickly grasp t...</td>\n",
       "    </tr>\n",
       "    <tr>\n",
       "      <th>9</th>\n",
       "      <td>Data Science</td>\n",
       "      <td>Expertise â Data and Quantitative Analysis â...</td>\n",
       "    </tr>\n",
       "    <tr>\n",
       "      <th>10</th>\n",
       "      <td>Data Science</td>\n",
       "      <td>Skills * Programming Languages: Python (pandas...</td>\n",
       "    </tr>\n",
       "    <tr>\n",
       "      <th>11</th>\n",
       "      <td>Data Science</td>\n",
       "      <td>Education Details \\nMay 2013 to May 2017 B.E  ...</td>\n",
       "    </tr>\n",
       "    <tr>\n",
       "      <th>12</th>\n",
       "      <td>Data Science</td>\n",
       "      <td>Areas of Interest Deep Learning, Control Syste...</td>\n",
       "    </tr>\n",
       "    <tr>\n",
       "      <th>13</th>\n",
       "      <td>Data Science</td>\n",
       "      <td>Skills â¢ R â¢ Python â¢ SAP HANA â¢ Table...</td>\n",
       "    </tr>\n",
       "    <tr>\n",
       "      <th>14</th>\n",
       "      <td>Data Science</td>\n",
       "      <td>Education Details \\n MCA   YMCAUST,  Faridabad...</td>\n",
       "    </tr>\n",
       "    <tr>\n",
       "      <th>15</th>\n",
       "      <td>Data Science</td>\n",
       "      <td>SKILLS C Basics, IOT, Python, MATLAB, Data Sci...</td>\n",
       "    </tr>\n",
       "    <tr>\n",
       "      <th>16</th>\n",
       "      <td>Data Science</td>\n",
       "      <td>Skills â¢ Python â¢ Tableau â¢ Data Visuali...</td>\n",
       "    </tr>\n",
       "    <tr>\n",
       "      <th>17</th>\n",
       "      <td>Data Science</td>\n",
       "      <td>Education Details \\n B.Tech   Rayat and Bahra ...</td>\n",
       "    </tr>\n",
       "    <tr>\n",
       "      <th>18</th>\n",
       "      <td>Data Science</td>\n",
       "      <td>Personal Skills â¢ Ability to quickly grasp t...</td>\n",
       "    </tr>\n",
       "    <tr>\n",
       "      <th>19</th>\n",
       "      <td>Data Science</td>\n",
       "      <td>Expertise â Data and Quantitative Analysis â...</td>\n",
       "    </tr>\n",
       "  </tbody>\n",
       "</table>\n",
       "</div>"
      ],
      "text/plain": [
       "        Category                                             Resume\n",
       "0   Data Science  Skills * Programming Languages: Python (pandas...\n",
       "1   Data Science  Education Details \\nMay 2013 to May 2017 B.E  ...\n",
       "2   Data Science  Areas of Interest Deep Learning, Control Syste...\n",
       "3   Data Science  Skills â¢ R â¢ Python â¢ SAP HANA â¢ Table...\n",
       "4   Data Science  Education Details \\n MCA   YMCAUST,  Faridabad...\n",
       "5   Data Science  SKILLS C Basics, IOT, Python, MATLAB, Data Sci...\n",
       "6   Data Science  Skills â¢ Python â¢ Tableau â¢ Data Visuali...\n",
       "7   Data Science  Education Details \\n B.Tech   Rayat and Bahra ...\n",
       "8   Data Science  Personal Skills â¢ Ability to quickly grasp t...\n",
       "9   Data Science  Expertise â Data and Quantitative Analysis â...\n",
       "10  Data Science  Skills * Programming Languages: Python (pandas...\n",
       "11  Data Science  Education Details \\nMay 2013 to May 2017 B.E  ...\n",
       "12  Data Science  Areas of Interest Deep Learning, Control Syste...\n",
       "13  Data Science  Skills â¢ R â¢ Python â¢ SAP HANA â¢ Table...\n",
       "14  Data Science  Education Details \\n MCA   YMCAUST,  Faridabad...\n",
       "15  Data Science  SKILLS C Basics, IOT, Python, MATLAB, Data Sci...\n",
       "16  Data Science  Skills â¢ Python â¢ Tableau â¢ Data Visuali...\n",
       "17  Data Science  Education Details \\n B.Tech   Rayat and Bahra ...\n",
       "18  Data Science  Personal Skills â¢ Ability to quickly grasp t...\n",
       "19  Data Science  Expertise â Data and Quantitative Analysis â..."
      ]
     },
     "execution_count": 5,
     "metadata": {},
     "output_type": "execute_result"
    }
   ],
   "source": [
    "df.head(20)"
   ]
  },
  {
   "cell_type": "code",
   "execution_count": 6,
   "id": "3bb45942",
   "metadata": {},
   "outputs": [],
   "source": [
    "# Bước 2: Viết hoa toàn bộ nội dung cột Category\n",
    "df['Category'] = df['Category'].str.upper()"
   ]
  },
  {
   "cell_type": "code",
   "execution_count": 7,
   "id": "a157527f",
   "metadata": {},
   "outputs": [],
   "source": [
    "# Bước 4: Xáo trộn các dòng trong DataFrame\n",
    "df = df.sample(frac=1, random_state=42).reset_index(drop=True)"
   ]
  },
  {
   "cell_type": "code",
   "execution_count": 8,
   "id": "8bd7a4a0",
   "metadata": {},
   "outputs": [
    {
     "data": {
      "text/html": [
       "<div>\n",
       "<style scoped>\n",
       "    .dataframe tbody tr th:only-of-type {\n",
       "        vertical-align: middle;\n",
       "    }\n",
       "\n",
       "    .dataframe tbody tr th {\n",
       "        vertical-align: top;\n",
       "    }\n",
       "\n",
       "    .dataframe thead th {\n",
       "        text-align: right;\n",
       "    }\n",
       "</style>\n",
       "<table border=\"1\" class=\"dataframe\">\n",
       "  <thead>\n",
       "    <tr style=\"text-align: right;\">\n",
       "      <th></th>\n",
       "      <th>Category</th>\n",
       "      <th>Resume</th>\n",
       "    </tr>\n",
       "  </thead>\n",
       "  <tbody>\n",
       "    <tr>\n",
       "      <th>0</th>\n",
       "      <td>DATABASE ADMINISTRATOR</td>\n",
       "      <td>Office Staff Database Administrator Office Sta...</td>\n",
       "    </tr>\n",
       "    <tr>\n",
       "      <th>1</th>\n",
       "      <td>WEB DEVELOPER</td>\n",
       "      <td>Reactjs developer Reactjs span ldeveloperspan ...</td>\n",
       "    </tr>\n",
       "    <tr>\n",
       "      <th>2</th>\n",
       "      <td>SOFTWARE DEVELOPER</td>\n",
       "      <td>Jim Ryan Software Developer jimm_ryyn89@gmail....</td>\n",
       "    </tr>\n",
       "    <tr>\n",
       "      <th>3</th>\n",
       "      <td>PYTHON DEVELOPER</td>\n",
       "      <td>VPN Project Consultant Silgan Containers VPN P...</td>\n",
       "    </tr>\n",
       "    <tr>\n",
       "      <th>4</th>\n",
       "      <td>PYTHON DEVELOPER</td>\n",
       "      <td>Principal clientserver ops analyst Principal c...</td>\n",
       "    </tr>\n",
       "  </tbody>\n",
       "</table>\n",
       "</div>"
      ],
      "text/plain": [
       "                 Category                                             Resume\n",
       "0  DATABASE ADMINISTRATOR  Office Staff Database Administrator Office Sta...\n",
       "1           WEB DEVELOPER  Reactjs developer Reactjs span ldeveloperspan ...\n",
       "2      SOFTWARE DEVELOPER  Jim Ryan Software Developer jimm_ryyn89@gmail....\n",
       "3        PYTHON DEVELOPER  VPN Project Consultant Silgan Containers VPN P...\n",
       "4        PYTHON DEVELOPER  Principal clientserver ops analyst Principal c..."
      ]
     },
     "execution_count": 8,
     "metadata": {},
     "output_type": "execute_result"
    }
   ],
   "source": [
    "df.head()"
   ]
  },
  {
   "cell_type": "code",
   "execution_count": 9,
   "id": "82374e0e",
   "metadata": {},
   "outputs": [
    {
     "name": "stdout",
     "output_type": "stream",
     "text": [
      "{19551}\n"
     ]
    }
   ],
   "source": [
    "print({len(df)})"
   ]
  },
  {
   "cell_type": "code",
   "execution_count": 10,
   "id": "bbce01cf",
   "metadata": {},
   "outputs": [
    {
     "name": "stdout",
     "output_type": "stream",
     "text": [
      "Đã gộp và xử lý xong! File được lưu tại 'merged_resume_data.xlsx'\n"
     ]
    }
   ],
   "source": [
    "df.to_excel('D:/BaiDoAnChuyenNganh3/Automated-Resume-Ranking-System-main/csvfiles/crawlcv/General_DataCV/General_Data_CV.xlsx', index=False)\n",
    "\n",
    "\n",
    "print(\"Đã gộp và xử lý xong! File được lưu tại 'merged_resume_data.xlsx'\")"
   ]
  },
  {
   "cell_type": "code",
   "execution_count": 12,
   "id": "d0540d2b",
   "metadata": {},
   "outputs": [
    {
     "name": "stdout",
     "output_type": "stream",
     "text": [
      "Đã xử lý xong! File được lưu tại 'processed_amazon_jobs.xlsx'\n"
     ]
    }
   ],
   "source": [
    "import pandas as pd\n",
    "\n",
    "# Đọc file Google Sheets hoặc file .xlsx (tùy vào định dạng bạn đang dùng)\n",
    "# Nếu file đã tải về dưới dạng .xlsx, bạn có thể dùng:\n",
    "df = pd.read_excel('D:/Downloads/amazon_jobs_dataset.xlsx')  # Thay tên file nếu cần\n",
    "\n",
    "# Bước 1: Gộp 3 cột DESCRIPTION, BASIC QUALIFICATIONS, PREFERRED QUALIFICATIONS thành cột Job Description\n",
    "df['Job Description'] = df['DESCRIPTION'].astype(str) + ' ' + df['BASIC QUALIFICATIONS'].astype(str) + ' ' + df['PREFERRED QUALIFICATIONS'].astype(str)\n",
    "\n",
    "# Bước 2: Chỉ giữ lại 2 cột: TITLE (đổi tên thành Job Title) và Job Description\n",
    "df = df[['Title', 'Job Description']].rename(columns={'Title': 'Job Title'})\n",
    "\n",
    "# Bước 3: Lưu DataFrame vào file .xlsx mới, không bao gồm cột index\n",
    "df.to_excel('D:/Downloads/processed_amazon_jobs.xlsx', index=False)\n",
    "\n",
    "print(\"Đã xử lý xong! File được lưu tại 'processed_amazon_jobs.xlsx'\")"
   ]
  }
 ],
 "metadata": {
  "kernelspec": {
   "display_name": ".venv",
   "language": "python",
   "name": "python3"
  },
  "language_info": {
   "codemirror_mode": {
    "name": "ipython",
    "version": 3
   },
   "file_extension": ".py",
   "mimetype": "text/x-python",
   "name": "python",
   "nbconvert_exporter": "python",
   "pygments_lexer": "ipython3",
   "version": "3.11.9"
  }
 },
 "nbformat": 4,
 "nbformat_minor": 5
}
