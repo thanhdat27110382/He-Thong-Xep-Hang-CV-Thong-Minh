{
 "cells": [
  {
   "cell_type": "code",
   "execution_count": 1,
   "id": "9aaefcd0",
   "metadata": {},
   "outputs": [
    {
     "name": "stdout",
     "output_type": "stream",
     "text": [
      "Requirement already satisfied: spacy in c:\\users\\lenovo\\anaconda3\\lib\\site-packages (3.7.6)\n",
      "Requirement already satisfied: scikit-learn in c:\\users\\lenovo\\anaconda3\\lib\\site-packages (1.0.2)\n",
      "Requirement already satisfied: pandas in c:\\users\\lenovo\\anaconda3\\lib\\site-packages (1.4.2)\n",
      "Requirement already satisfied: PyPDF2 in c:\\users\\lenovo\\anaconda3\\lib\\site-packages (3.0.1)\n",
      "Requirement already satisfied: tqdm<5.0.0,>=4.38.0 in c:\\users\\lenovo\\anaconda3\\lib\\site-packages (from spacy) (4.64.0)\n",
      "Requirement already satisfied: typer<1.0.0,>=0.3.0 in c:\\users\\lenovo\\anaconda3\\lib\\site-packages (from spacy) (0.12.5)\n",
      "Requirement already satisfied: setuptools in c:\\users\\lenovo\\anaconda3\\lib\\site-packages (from spacy) (61.2.0)\n",
      "Requirement already satisfied: requests<3.0.0,>=2.13.0 in c:\\users\\lenovo\\anaconda3\\lib\\site-packages (from spacy) (2.27.1)\n",
      "Requirement already satisfied: spacy-loggers<2.0.0,>=1.0.0 in c:\\users\\lenovo\\anaconda3\\lib\\site-packages (from spacy) (1.0.5)\n",
      "Requirement already satisfied: srsly<3.0.0,>=2.4.3 in c:\\users\\lenovo\\anaconda3\\lib\\site-packages (from spacy) (2.4.8)\n",
      "Requirement already satisfied: cymem<2.1.0,>=2.0.2 in c:\\users\\lenovo\\anaconda3\\lib\\site-packages (from spacy) (2.0.8)\n",
      "Requirement already satisfied: jinja2 in c:\\users\\lenovo\\anaconda3\\lib\\site-packages (from spacy) (2.11.3)\n",
      "Requirement already satisfied: packaging>=20.0 in c:\\users\\lenovo\\anaconda3\\lib\\site-packages (from spacy) (21.3)\n",
      "Requirement already satisfied: weasel<0.5.0,>=0.1.0 in c:\\users\\lenovo\\anaconda3\\lib\\site-packages (from spacy) (0.4.1)\n",
      "Requirement already satisfied: spacy-legacy<3.1.0,>=3.0.11 in c:\\users\\lenovo\\anaconda3\\lib\\site-packages (from spacy) (3.0.12)\n",
      "Requirement already satisfied: wasabi<1.2.0,>=0.9.1 in c:\\users\\lenovo\\anaconda3\\lib\\site-packages (from spacy) (1.1.3)\n",
      "Requirement already satisfied: pydantic!=1.8,!=1.8.1,<3.0.0,>=1.7.4 in c:\\users\\lenovo\\anaconda3\\lib\\site-packages (from spacy) (2.9.2)\n",
      "Requirement already satisfied: thinc<8.3.0,>=8.2.2 in c:\\users\\lenovo\\anaconda3\\lib\\site-packages (from spacy) (8.2.5)\n",
      "Requirement already satisfied: langcodes<4.0.0,>=3.2.0 in c:\\users\\lenovo\\anaconda3\\lib\\site-packages (from spacy) (3.4.1)\n",
      "Requirement already satisfied: numpy>=1.19.0 in c:\\users\\lenovo\\anaconda3\\lib\\site-packages (from spacy) (1.21.5)\n",
      "Requirement already satisfied: preshed<3.1.0,>=3.0.2 in c:\\users\\lenovo\\anaconda3\\lib\\site-packages (from spacy) (3.0.9)\n",
      "Requirement already satisfied: catalogue<2.1.0,>=2.0.6 in c:\\users\\lenovo\\anaconda3\\lib\\site-packages (from spacy) (2.0.10)\n",
      "Requirement already satisfied: murmurhash<1.1.0,>=0.28.0 in c:\\users\\lenovo\\anaconda3\\lib\\site-packages (from spacy) (1.0.10)\n",
      "Requirement already satisfied: scipy>=1.1.0 in c:\\users\\lenovo\\anaconda3\\lib\\site-packages (from scikit-learn) (1.7.3)\n",
      "Requirement already satisfied: joblib>=0.11 in c:\\users\\lenovo\\anaconda3\\lib\\site-packages (from scikit-learn) (1.1.0)\n",
      "Requirement already satisfied: threadpoolctl>=2.0.0 in c:\\users\\lenovo\\anaconda3\\lib\\site-packages (from scikit-learn) (2.2.0)\n",
      "Requirement already satisfied: pytz>=2020.1 in c:\\users\\lenovo\\anaconda3\\lib\\site-packages (from pandas) (2021.3)\n",
      "Requirement already satisfied: python-dateutil>=2.8.1 in c:\\users\\lenovo\\anaconda3\\lib\\site-packages (from pandas) (2.8.2)\n",
      "Requirement already satisfied: typing_extensions>=3.10.0.0 in c:\\users\\lenovo\\anaconda3\\lib\\site-packages (from PyPDF2) (4.12.2)\n",
      "Requirement already satisfied: language-data>=1.2 in c:\\users\\lenovo\\anaconda3\\lib\\site-packages (from langcodes<4.0.0,>=3.2.0->spacy) (1.2.0)\n",
      "Requirement already satisfied: marisa-trie>=0.7.7 in c:\\users\\lenovo\\anaconda3\\lib\\site-packages (from language-data>=1.2->langcodes<4.0.0,>=3.2.0->spacy) (1.2.0)\n",
      "Requirement already satisfied: pyparsing!=3.0.5,>=2.0.2 in c:\\users\\lenovo\\anaconda3\\lib\\site-packages (from packaging>=20.0->spacy) (3.0.4)\n",
      "Requirement already satisfied: pydantic-core==2.23.4 in c:\\users\\lenovo\\anaconda3\\lib\\site-packages (from pydantic!=1.8,!=1.8.1,<3.0.0,>=1.7.4->spacy) (2.23.4)\n",
      "Requirement already satisfied: annotated-types>=0.6.0 in c:\\users\\lenovo\\anaconda3\\lib\\site-packages (from pydantic!=1.8,!=1.8.1,<3.0.0,>=1.7.4->spacy) (0.7.0)\n",
      "Requirement already satisfied: six>=1.5 in c:\\users\\lenovo\\anaconda3\\lib\\site-packages (from python-dateutil>=2.8.1->pandas) (1.16.0)\n",
      "Requirement already satisfied: charset-normalizer~=2.0.0 in c:\\users\\lenovo\\anaconda3\\lib\\site-packages (from requests<3.0.0,>=2.13.0->spacy) (2.0.4)\n",
      "Requirement already satisfied: certifi>=2017.4.17 in c:\\users\\lenovo\\anaconda3\\lib\\site-packages (from requests<3.0.0,>=2.13.0->spacy) (2021.10.8)\n",
      "Requirement already satisfied: urllib3<1.27,>=1.21.1 in c:\\users\\lenovo\\anaconda3\\lib\\site-packages (from requests<3.0.0,>=2.13.0->spacy) (1.26.9)\n",
      "Requirement already satisfied: idna<4,>=2.5 in c:\\users\\lenovo\\anaconda3\\lib\\site-packages (from requests<3.0.0,>=2.13.0->spacy) (3.3)\n",
      "Requirement already satisfied: confection<1.0.0,>=0.0.1 in c:\\users\\lenovo\\anaconda3\\lib\\site-packages (from thinc<8.3.0,>=8.2.2->spacy) (0.1.5)\n",
      "Requirement already satisfied: blis<0.8.0,>=0.7.8 in c:\\users\\lenovo\\anaconda3\\lib\\site-packages (from thinc<8.3.0,>=8.2.2->spacy) (0.7.11)\n",
      "Requirement already satisfied: colorama in c:\\users\\lenovo\\anaconda3\\lib\\site-packages (from tqdm<5.0.0,>=4.38.0->spacy) (0.4.6)\n",
      "Requirement already satisfied: rich>=10.11.0 in c:\\users\\lenovo\\anaconda3\\lib\\site-packages (from typer<1.0.0,>=0.3.0->spacy) (13.8.1)\n",
      "Requirement already satisfied: click>=8.0.0 in c:\\users\\lenovo\\anaconda3\\lib\\site-packages (from typer<1.0.0,>=0.3.0->spacy) (8.0.4)\n",
      "Requirement already satisfied: shellingham>=1.3.0 in c:\\users\\lenovo\\anaconda3\\lib\\site-packages (from typer<1.0.0,>=0.3.0->spacy) (1.5.4)\n",
      "Requirement already satisfied: pygments<3.0.0,>=2.13.0 in c:\\users\\lenovo\\anaconda3\\lib\\site-packages (from rich>=10.11.0->typer<1.0.0,>=0.3.0->spacy) (2.18.0)\n",
      "Requirement already satisfied: markdown-it-py>=2.2.0 in c:\\users\\lenovo\\anaconda3\\lib\\site-packages (from rich>=10.11.0->typer<1.0.0,>=0.3.0->spacy) (3.0.0)\n",
      "Requirement already satisfied: mdurl~=0.1 in c:\\users\\lenovo\\anaconda3\\lib\\site-packages (from markdown-it-py>=2.2.0->rich>=10.11.0->typer<1.0.0,>=0.3.0->spacy) (0.1.2)\n",
      "Requirement already satisfied: cloudpathlib<1.0.0,>=0.7.0 in c:\\users\\lenovo\\anaconda3\\lib\\site-packages (from weasel<0.5.0,>=0.1.0->spacy) (0.19.0)\n",
      "Requirement already satisfied: smart-open<8.0.0,>=5.2.1 in c:\\users\\lenovo\\anaconda3\\lib\\site-packages (from weasel<0.5.0,>=0.1.0->spacy) (7.0.4)\n",
      "Requirement already satisfied: wrapt in c:\\users\\lenovo\\anaconda3\\lib\\site-packages (from smart-open<8.0.0,>=5.2.1->weasel<0.5.0,>=0.1.0->spacy) (1.12.1)\n",
      "Requirement already satisfied: MarkupSafe>=0.23 in c:\\users\\lenovo\\anaconda3\\lib\\site-packages (from jinja2->spacy) (2.0.1)\n"
     ]
    }
   ],
   "source": [
    "!pip install spacy scikit-learn pandas PyPDF2"
   ]
  },
  {
   "cell_type": "code",
   "execution_count": 15,
   "id": "d68fcba0",
   "metadata": {},
   "outputs": [
    {
     "name": "stdout",
     "output_type": "stream",
     "text": [
      "C:\\Users\\Lenovo\\Contacts\n"
     ]
    }
   ],
   "source": [
    "import os\n",
    "\n",
    "# Print current working directory\n",
    "print(os.getcwd())\n"
   ]
  },
  {
   "cell_type": "code",
   "execution_count": 25,
   "id": "a08d280c",
   "metadata": {},
   "outputs": [
    {
     "name": "stdout",
     "output_type": "stream",
     "text": [
      "         ID                                         Resume_str  \\\n",
      "0  16852973           HR ADMINISTRATOR/MARKETING ASSOCIATE\\...   \n",
      "1  22323967           HR SPECIALIST, US HR OPERATIONS      ...   \n",
      "2  33176873           HR DIRECTOR       Summary      Over 2...   \n",
      "3  27018550           HR SPECIALIST       Summary    Dedica...   \n",
      "4  17812897           HR MANAGER         Skill Highlights  ...   \n",
      "\n",
      "                                         Resume_html Category  \n",
      "0  <div class=\"fontsize fontface vmargins hmargin...       HR  \n",
      "1  <div class=\"fontsize fontface vmargins hmargin...       HR  \n",
      "2  <div class=\"fontsize fontface vmargins hmargin...       HR  \n",
      "3  <div class=\"fontsize fontface vmargins hmargin...       HR  \n",
      "4  <div class=\"fontsize fontface vmargins hmargin...       HR  \n"
     ]
    }
   ],
   "source": [
    "import pandas as pd\n",
    "\n",
    "# Load job descriptions\n",
    "job_descriptions = pd.read_csv('sample_resumes/Resume/job_descriptions.xlsx.csv')\n",
    "\n",
    "# Display the first few rows of the DataFrame to check the content\n",
    "print(job_descriptions.head())\n"
   ]
  },
  {
   "cell_type": "code",
   "execution_count": 26,
   "id": "88a87823",
   "metadata": {},
   "outputs": [
    {
     "name": "stdout",
     "output_type": "stream",
     "text": [
      "Filename: 10554236.pdf\n",
      "Content: ACCOUNTANT\n",
      "Summary\n",
      "Financial Accountant specializing in financial planning, reporting and analysis within the Department of Defense.\n",
      "Highlights\n",
      "Account reconciliations\n",
      "Results-oriented\n",
      "Financial repor...\n",
      "\n",
      "Filename: 10674770.pdf\n",
      "Content: STAFF ACCOUNTANT\n",
      "Summary\n",
      "Highly analytical and detail-oriented professional; possessing extensive financial statement background in quality assurance, compliance, auditing,\n",
      "customer service and regula...\n",
      "\n",
      "Filename: 11163645.pdf\n",
      "Content: ACCOUNTANT\n",
      "Professional Summary\n",
      "To obtain a position in a fast-paced business office environment, demanding a strong organizational, technical, and interpersonal position utilizing\n",
      "my skills and attri...\n",
      "\n"
     ]
    }
   ],
   "source": [
    "import os\n",
    "from PyPDF2 import PdfReader\n",
    "\n",
    "# Function to read PDF files\n",
    "def read_pdf(file_path):\n",
    "    with open(file_path, 'rb') as file:\n",
    "        reader = PdfReader(file)\n",
    "        text = ''\n",
    "        for page in reader.pages:\n",
    "            text += page.extract_text()\n",
    "    return text\n",
    "\n",
    "# Path to the accountant resumes folder\n",
    "accountant_folder_path = 'sample_resumes/data/data/accountant/'\n",
    "\n",
    "# Read all resumes in the accountant folder\n",
    "accountant_resumes = {}\n",
    "for filename in os.listdir(accountant_folder_path):\n",
    "    if filename.endswith('.pdf'):  # Assuming resumes are in PDF format\n",
    "        resume_text = read_pdf(os.path.join(accountant_folder_path, filename))\n",
    "        accountant_resumes[filename] = resume_text\n",
    "\n",
    "# Now, accountant_resumes dictionary contains the resume texts with filenames\n",
    "# Display the first few loaded resumes\n",
    "for name, content in list(accountant_resumes.items())[:3]:  # Display first 3 resumes\n",
    "    print(f\"Filename: {name}\")\n",
    "    print(f\"Content: {content[:200]}...\")  # Displaying first 200 characters of each resume\n",
    "    print()\n"
   ]
  },
  {
   "cell_type": "code",
   "execution_count": 27,
   "id": "470cb4ce",
   "metadata": {},
   "outputs": [
    {
     "name": "stdout",
     "output_type": "stream",
     "text": [
      "Requirement already satisfied: nltk in c:\\users\\lenovo\\anaconda3\\lib\\site-packages (3.7)\n",
      "Requirement already satisfied: tqdm in c:\\users\\lenovo\\anaconda3\\lib\\site-packages (from nltk) (4.64.0)\n",
      "Requirement already satisfied: joblib in c:\\users\\lenovo\\anaconda3\\lib\\site-packages (from nltk) (1.1.0)\n",
      "Requirement already satisfied: regex>=2021.8.3 in c:\\users\\lenovo\\anaconda3\\lib\\site-packages (from nltk) (2022.3.15)\n",
      "Requirement already satisfied: click in c:\\users\\lenovo\\anaconda3\\lib\\site-packages (from nltk) (8.0.4)\n",
      "Requirement already satisfied: colorama in c:\\users\\lenovo\\anaconda3\\lib\\site-packages (from click->nltk) (0.4.6)\n"
     ]
    }
   ],
   "source": [
    "# Install NLTK for natural language processing\n",
    "!pip install nltk"
   ]
  },
  {
   "cell_type": "code",
   "execution_count": 29,
   "id": "2c05147b",
   "metadata": {},
   "outputs": [],
   "source": [
    "import pandas as pd\n",
    "import os\n",
    "from PyPDF2 import PdfReader\n",
    "from sklearn.feature_extraction.text import TfidfVectorizer\n",
    "from sklearn.metrics.pairwise import cosine_similarity"
   ]
  },
  {
   "cell_type": "code",
   "execution_count": 30,
   "id": "88575090",
   "metadata": {},
   "outputs": [],
   "source": [
    "# Assuming the job description text is in the first column\n",
    "job_description_texts = job_descriptions.iloc[:, 0].tolist()  # Adjust index if needed\n",
    "\n",
    "# Extract resume texts from the dictionary created earlier\n",
    "resume_texts = list(accountant_resumes.values())"
   ]
  },
  {
   "cell_type": "code",
   "execution_count": 32,
   "id": "fd21700a",
   "metadata": {},
   "outputs": [
    {
     "name": "stdout",
     "output_type": "stream",
     "text": [
      "ID              int64\n",
      "Resume_str     object\n",
      "Resume_html    object\n",
      "Category       object\n",
      "dtype: object\n",
      "         ID                                         Resume_str  \\\n",
      "0  16852973           HR ADMINISTRATOR/MARKETING ASSOCIATE\\...   \n",
      "1  22323967           HR SPECIALIST, US HR OPERATIONS      ...   \n",
      "2  33176873           HR DIRECTOR       Summary      Over 2...   \n",
      "3  27018550           HR SPECIALIST       Summary    Dedica...   \n",
      "4  17812897           HR MANAGER         Skill Highlights  ...   \n",
      "\n",
      "                                         Resume_html Category  \n",
      "0  <div class=\"fontsize fontface vmargins hmargin...       HR  \n",
      "1  <div class=\"fontsize fontface vmargins hmargin...       HR  \n",
      "2  <div class=\"fontsize fontface vmargins hmargin...       HR  \n",
      "3  <div class=\"fontsize fontface vmargins hmargin...       HR  \n",
      "4  <div class=\"fontsize fontface vmargins hmargin...       HR  \n",
      "True\n"
     ]
    }
   ],
   "source": [
    "# Check the types of job descriptions\n",
    "print(job_descriptions.dtypes)\n",
    "print(job_descriptions.head())\n",
    "\n",
    "# Check if resume texts are all strings\n",
    "print(all(isinstance(text, str) for text in resume_texts))"
   ]
  },
  {
   "cell_type": "code",
   "execution_count": 35,
   "id": "2ede3b27",
   "metadata": {},
   "outputs": [],
   "source": [
    "# Convert job descriptions to strings\n",
    "job_description_texts = job_descriptions.iloc[:, 0].astype(str).tolist()\n",
    "\n",
    "# Convert resume texts to strings (if necessary)\n",
    "resume_texts = [str(resume) for resume in accountant_resumes.values()]"
   ]
  },
  {
   "cell_type": "code",
   "execution_count": 36,
   "id": "3f284dd5",
   "metadata": {},
   "outputs": [],
   "source": [
    "# Extract text from job descriptions and ensure they are strings\n",
    "job_description_texts = job_descriptions.iloc[:, 0].astype(str).tolist()\n",
    "\n",
    "# Extract resume texts and ensure they are strings\n",
    "resume_texts = [str(resume) for resume in accountant_resumes.values()]\n",
    "\n",
    "# Create a TF-IDF Vectorizer\n",
    "tfidf_vectorizer = TfidfVectorizer()\n",
    "\n",
    "# Combine job descriptions and resumes for fitting the model\n",
    "all_texts = job_description_texts + resume_texts\n",
    "\n",
    "# Fit and transform the text\n",
    "tfidf_matrix = tfidf_vectorizer.fit_transform(all_texts)\n"
   ]
  },
  {
   "cell_type": "code",
   "execution_count": 37,
   "id": "d190724e",
   "metadata": {},
   "outputs": [
    {
     "name": "stdout",
     "output_type": "stream",
     "text": [
      "Shape of TF-IDF matrix: (2602, 9304)\n"
     ]
    }
   ],
   "source": [
    "# Print the shape of the TF-IDF matrix\n",
    "print(\"Shape of TF-IDF matrix:\", tfidf_matrix.shape)\n"
   ]
  },
  {
   "cell_type": "code",
   "execution_count": 38,
   "id": "dd6239bb",
   "metadata": {},
   "outputs": [
    {
     "name": "stdout",
     "output_type": "stream",
     "text": [
      "Shape of Cosine Similarity Matrix: (2484, 118)\n",
      "          10554236.pdf  10674770.pdf  11163645.pdf  11759079.pdf  \\\n",
      "16852973           0.0           0.0           0.0           0.0   \n",
      "22323967           0.0           0.0           0.0           0.0   \n",
      "33176873           0.0           0.0           0.0           0.0   \n",
      "27018550           0.0           0.0           0.0           0.0   \n",
      "17812897           0.0           0.0           0.0           0.0   \n",
      "\n",
      "          12065211.pdf  12202337.pdf  12338274.pdf  12442909.pdf  \\\n",
      "16852973           0.0           0.0           0.0           0.0   \n",
      "22323967           0.0           0.0           0.0           0.0   \n",
      "33176873           0.0           0.0           0.0           0.0   \n",
      "27018550           0.0           0.0           0.0           0.0   \n",
      "17812897           0.0           0.0           0.0           0.0   \n",
      "\n",
      "          12780508.pdf  12802330.pdf  ...  59403481.pdf  62809577.pdf  \\\n",
      "16852973           0.0           0.0  ...           0.0           0.0   \n",
      "22323967           0.0           0.0  ...           0.0           0.0   \n",
      "33176873           0.0           0.0  ...           0.0           0.0   \n",
      "27018550           0.0           0.0  ...           0.0           0.0   \n",
      "17812897           0.0           0.0  ...           0.0           0.0   \n",
      "\n",
      "          63137898.pdf  75286906.pdf  78257294.pdf  78403342.pdf  \\\n",
      "16852973           0.0           0.0           0.0           0.0   \n",
      "22323967           0.0           0.0           0.0           0.0   \n",
      "33176873           0.0           0.0           0.0           0.0   \n",
      "27018550           0.0           0.0           0.0           0.0   \n",
      "17812897           0.0           0.0           0.0           0.0   \n",
      "\n",
      "          80053367.pdf  82649935.pdf  87635012.pdf  98559931.pdf  \n",
      "16852973           0.0           0.0           0.0           0.0  \n",
      "22323967           0.0           0.0           0.0           0.0  \n",
      "33176873           0.0           0.0           0.0           0.0  \n",
      "27018550           0.0           0.0           0.0           0.0  \n",
      "17812897           0.0           0.0           0.0           0.0  \n",
      "\n",
      "[5 rows x 118 columns]\n"
     ]
    }
   ],
   "source": [
    "# Compute cosine similarity matrix\n",
    "cosine_sim = cosine_similarity(tfidf_matrix[:len(job_description_texts)], tfidf_matrix[len(job_description_texts):])\n",
    "\n",
    "# Print the shape of the cosine similarity matrix\n",
    "print(\"Shape of Cosine Similarity Matrix:\", cosine_sim.shape)\n",
    "\n",
    "# Convert similarity matrix to DataFrame for better visualization\n",
    "similarity_df = pd.DataFrame(cosine_sim, columns=list(accountant_resumes.keys()), index=job_description_texts)\n",
    "\n",
    "# Display the first few rows of the similarity DataFrame\n",
    "print(similarity_df.head())\n"
   ]
  },
  {
   "cell_type": "code",
   "execution_count": 40,
   "id": "31e01c4f",
   "metadata": {},
   "outputs": [
    {
     "name": "stdout",
     "output_type": "stream",
     "text": [
      "         Job Description    Top Resume  Score\n",
      "16852973        16852973  10554236.pdf    0.0\n",
      "22323967        22323967  10554236.pdf    0.0\n",
      "33176873        33176873  10554236.pdf    0.0\n",
      "27018550        27018550  10554236.pdf    0.0\n",
      "17812897        17812897  10554236.pdf    0.0\n",
      "...                  ...           ...    ...\n",
      "99416532        99416532  10554236.pdf    0.0\n",
      "24589765        24589765  10554236.pdf    0.0\n",
      "31605080        31605080  10554236.pdf    0.0\n",
      "21190805        21190805  10554236.pdf    0.0\n",
      "37473139        37473139  10554236.pdf    0.0\n",
      "\n",
      "[2484 rows x 3 columns]\n"
     ]
    }
   ],
   "source": [
    "# Compute cosine similarity matrix\n",
    "cosine_sim = cosine_similarity(tfidf_matrix[:len(job_description_texts)], tfidf_matrix[len(job_description_texts):])\n",
    "\n",
    "# Convert similarity matrix to DataFrame for better visualization\n",
    "similarity_df = pd.DataFrame(cosine_sim, columns=list(accountant_resumes.keys()), index=job_description_texts)\n",
    "\n",
    "# Get the top resume for each job description\n",
    "top_resumes = similarity_df.idxmax(axis=1)  # Get the filename of the top resume\n",
    "top_scores = similarity_df.max(axis=1)  # Get the maximum similarity score\n",
    "\n",
    "# Combine results into a DataFrame\n",
    "results_df = pd.DataFrame({'Job Description': similarity_df.index, 'Top Resume': top_resumes, 'Score': top_scores})\n",
    "\n",
    "# Display the results\n",
    "print(results_df)\n"
   ]
  },
  {
   "cell_type": "code",
   "execution_count": 42,
   "id": "2adeb540",
   "metadata": {},
   "outputs": [
    {
     "name": "stdout",
     "output_type": "stream",
     "text": [
      "          10554236.pdf  10674770.pdf  11163645.pdf  11759079.pdf  \\\n",
      "16852973           0.0           0.0           0.0           0.0   \n",
      "22323967           0.0           0.0           0.0           0.0   \n",
      "33176873           0.0           0.0           0.0           0.0   \n",
      "27018550           0.0           0.0           0.0           0.0   \n",
      "17812897           0.0           0.0           0.0           0.0   \n",
      "...                ...           ...           ...           ...   \n",
      "99416532           0.0           0.0           0.0           0.0   \n",
      "24589765           0.0           0.0           0.0           0.0   \n",
      "31605080           0.0           0.0           0.0           0.0   \n",
      "21190805           0.0           0.0           0.0           0.0   \n",
      "37473139           0.0           0.0           0.0           0.0   \n",
      "\n",
      "          12065211.pdf  12202337.pdf  12338274.pdf  12442909.pdf  \\\n",
      "16852973           0.0           0.0           0.0           0.0   \n",
      "22323967           0.0           0.0           0.0           0.0   \n",
      "33176873           0.0           0.0           0.0           0.0   \n",
      "27018550           0.0           0.0           0.0           0.0   \n",
      "17812897           0.0           0.0           0.0           0.0   \n",
      "...                ...           ...           ...           ...   \n",
      "99416532           0.0           0.0           0.0           0.0   \n",
      "24589765           0.0           0.0           0.0           0.0   \n",
      "31605080           0.0           0.0           0.0           0.0   \n",
      "21190805           0.0           0.0           0.0           0.0   \n",
      "37473139           0.0           0.0           0.0           0.0   \n",
      "\n",
      "          12780508.pdf  12802330.pdf  ...  59403481.pdf  62809577.pdf  \\\n",
      "16852973           0.0           0.0  ...           0.0           0.0   \n",
      "22323967           0.0           0.0  ...           0.0           0.0   \n",
      "33176873           0.0           0.0  ...           0.0           0.0   \n",
      "27018550           0.0           0.0  ...           0.0           0.0   \n",
      "17812897           0.0           0.0  ...           0.0           0.0   \n",
      "...                ...           ...  ...           ...           ...   \n",
      "99416532           0.0           0.0  ...           0.0           0.0   \n",
      "24589765           0.0           0.0  ...           0.0           0.0   \n",
      "31605080           0.0           0.0  ...           0.0           0.0   \n",
      "21190805           0.0           0.0  ...           0.0           0.0   \n",
      "37473139           0.0           0.0  ...           0.0           0.0   \n",
      "\n",
      "          63137898.pdf  75286906.pdf  78257294.pdf  78403342.pdf  \\\n",
      "16852973           0.0           0.0           0.0           0.0   \n",
      "22323967           0.0           0.0           0.0           0.0   \n",
      "33176873           0.0           0.0           0.0           0.0   \n",
      "27018550           0.0           0.0           0.0           0.0   \n",
      "17812897           0.0           0.0           0.0           0.0   \n",
      "...                ...           ...           ...           ...   \n",
      "99416532           0.0           0.0           0.0           0.0   \n",
      "24589765           0.0           0.0           0.0           0.0   \n",
      "31605080           0.0           0.0           0.0           0.0   \n",
      "21190805           0.0           0.0           0.0           0.0   \n",
      "37473139           0.0           0.0           0.0           0.0   \n",
      "\n",
      "          80053367.pdf  82649935.pdf  87635012.pdf  98559931.pdf  \n",
      "16852973           0.0           0.0           0.0           0.0  \n",
      "22323967           0.0           0.0           0.0           0.0  \n",
      "33176873           0.0           0.0           0.0           0.0  \n",
      "27018550           0.0           0.0           0.0           0.0  \n",
      "17812897           0.0           0.0           0.0           0.0  \n",
      "...                ...           ...           ...           ...  \n",
      "99416532           0.0           0.0           0.0           0.0  \n",
      "24589765           0.0           0.0           0.0           0.0  \n",
      "31605080           0.0           0.0           0.0           0.0  \n",
      "21190805           0.0           0.0           0.0           0.0  \n",
      "37473139           0.0           0.0           0.0           0.0  \n",
      "\n",
      "[2484 rows x 118 columns]\n"
     ]
    }
   ],
   "source": [
    "# Compute cosine similarity matrix\n",
    "cosine_sim = cosine_similarity(tfidf_matrix[:len(job_description_texts)], tfidf_matrix[len(job_description_texts):])\n",
    "\n",
    "# Convert similarity matrix to DataFrame for better visualization\n",
    "similarity_df = pd.DataFrame(cosine_sim, columns=list(accountant_resumes.keys()), index=job_description_texts)\n",
    "\n",
    "# Display the similarity scores\n",
    "print(similarity_df)"
   ]
  },
  {
   "cell_type": "code",
   "execution_count": 43,
   "id": "7425b9d9",
   "metadata": {},
   "outputs": [
    {
     "name": "stdout",
     "output_type": "stream",
     "text": [
      "         Job Description    Top Resume  Score\n",
      "16852973        16852973  10554236.pdf    0.0\n",
      "22323967        22323967  10554236.pdf    0.0\n",
      "33176873        33176873  10554236.pdf    0.0\n",
      "27018550        27018550  10554236.pdf    0.0\n",
      "17812897        17812897  10554236.pdf    0.0\n",
      "...                  ...           ...    ...\n",
      "99416532        99416532  10554236.pdf    0.0\n",
      "24589765        24589765  10554236.pdf    0.0\n",
      "31605080        31605080  10554236.pdf    0.0\n",
      "21190805        21190805  10554236.pdf    0.0\n",
      "37473139        37473139  10554236.pdf    0.0\n",
      "\n",
      "[2484 rows x 3 columns]\n"
     ]
    }
   ],
   "source": [
    "# Get the top resume for each job description\n",
    "top_resumes = similarity_df.idxmax(axis=1)\n",
    "top_scores = similarity_df.max(axis=1)\n",
    "\n",
    "# Combine results into a DataFrame\n",
    "results_df = pd.DataFrame({'Job Description': similarity_df.index, 'Top Resume': top_resumes, 'Score': top_scores})\n",
    "\n",
    "# Display the results\n",
    "print(results_df)"
   ]
  },
  {
   "cell_type": "code",
   "execution_count": 44,
   "id": "226e3d0f",
   "metadata": {},
   "outputs": [
    {
     "name": "stdout",
     "output_type": "stream",
     "text": [
      "Results saved to 'resume_ranking_results.csv'\n"
     ]
    }
   ],
   "source": [
    "# Save results to a CSV file\n",
    "results_df.to_csv('resume_ranking_results.csv', index=False)\n",
    "print(\"Results saved to 'resume_ranking_results.csv'\")"
   ]
  },
  {
   "cell_type": "code",
   "execution_count": 46,
   "id": "e5ee9957",
   "metadata": {},
   "outputs": [
    {
     "name": "stdout",
     "output_type": "stream",
     "text": [
      "Results saved to 'resume_ranking_results.csv'\n"
     ]
    }
   ],
   "source": [
    "try:\n",
    "    # Yahan apna code likho, jaise ki result_df ka calculation ya kisi aur step ka code\n",
    "    results_df.to_csv('resume_ranking_results.csv', index=False)\n",
    "    print(\"Results saved to 'resume_ranking_results.csv'\")\n",
    "except Exception as e:\n",
    "    print(f\"An error occurred: {e}\")\n"
   ]
  },
  {
   "cell_type": "code",
   "execution_count": 47,
   "id": "4321c87d",
   "metadata": {},
   "outputs": [
    {
     "data": {
      "text/plain": [
       "<Figure size 720x432 with 0 Axes>"
      ]
     },
     "metadata": {},
     "output_type": "display_data"
    },
    {
     "data": {
      "image/png": "[encoded data removed]",
      "text/plain": [
       "<Figure size 432x288 with 1 Axes>"
      ]
     },
     "metadata": {
      "needs_background": "light"
     },
     "output_type": "display_data"
    }
   ],
   "source": [
    "import matplotlib.pyplot as plt\n",
    "\n",
    "# Plotting top resumes\n",
    "plt.figure(figsize=(10, 6))\n",
    "results_df.sort_values(by='Score', ascending=False).head(10).plot(kind='bar', x='Top Resume', y='Score', legend=False)\n",
    "plt.title('Top Resumes Based on Similarity Scores')\n",
    "plt.xlabel('Top Resume')\n",
    "plt.ylabel('Score')\n",
    "plt.xticks(rotation=45)\n",
    "plt.tight_layout()\n",
    "plt.show()\n"
   ]
  },
  {
   "cell_type": "code",
   "execution_count": 48,
   "id": "1a822c1d",
   "metadata": {},
   "outputs": [],
   "source": [
    "def collect_feedback():\n",
    "    # Simple feedback collection\n",
    "    relevance = input(\"Aap apne resume ko kitna relevant maante hain? (1-10 scale): \")\n",
    "    improvement_area = input(\"Kya aapko kisi specific area me madad chahiye? \")\n",
    "\n",
    "    # Store feedback in a dictionary or list\n",
    "    feedback = {\n",
    "        'relevance': relevance,\n",
    "        'improvement_area': improvement_area\n",
    "    }\n",
    "    \n",
    "    return feedback"
   ]
  },
  {
   "cell_type": "code",
   "execution_count": 49,
   "id": "4af60ebd",
   "metadata": {},
   "outputs": [],
   "source": [
    "import pandas as pd\n",
    "\n",
    "def save_feedback(feedback):\n",
    "    feedback_df = pd.DataFrame([feedback])\n",
    "    feedback_df.to_csv('feedback.csv', mode='a', header=False, index=False)"
   ]
  },
  {
   "cell_type": "code",
   "execution_count": 50,
   "id": "a37569a1",
   "metadata": {},
   "outputs": [
    {
     "name": "stdout",
     "output_type": "stream",
     "text": [
      "Aap apne resume ko kitna relevant maante hain? (1-10 scale): 10\n",
      "Kya aapko kisi specific area me madad chahiye? no\n"
     ]
    }
   ],
   "source": [
    "feedback = collect_feedback()\n",
    "save_feedback(feedback)"
   ]
  },
  {
   "cell_type": "code",
   "execution_count": 51,
   "id": "e429506c",
   "metadata": {},
   "outputs": [
    {
     "name": "stdout",
     "output_type": "stream",
     "text": [
      "Accuracy: 0.8, Precision: 1.0, Recall: 0.6666666666666666\n"
     ]
    }
   ],
   "source": [
    "from sklearn.metrics import accuracy_score, precision_score, recall_score\n",
    "\n",
    "# Example true labels and predicted scores\n",
    "true_labels = [1, 0, 1, 1, 0]  # 1: relevant, 0: not relevant\n",
    "predicted_scores = [1, 0, 1, 0, 0]\n",
    "\n",
    "accuracy = accuracy_score(true_labels, predicted_scores)\n",
    "precision = precision_score(true_labels, predicted_scores)\n",
    "recall = recall_score(true_labels, predicted_scores)\n",
    "\n",
    "print(f\"Accuracy: {accuracy}, Precision: {precision}, Recall: {recall}\")"
   ]
  },
  {
   "cell_type": "code",
   "execution_count": 55,
   "id": "56415ce8",
   "metadata": {},
   "outputs": [
    {
     "name": "stdout",
     "output_type": "stream",
     "text": [
      "Model saved as 'resume_ranking_model.pkl'\n"
     ]
    }
   ],
   "source": [
    "import pandas as pd\n",
    "from sklearn.ensemble import RandomForestClassifier\n",
    "from sklearn.feature_extraction.text import TfidfVectorizer\n",
    "from sklearn.pipeline import make_pipeline\n",
    "import joblib\n",
    "\n",
    "# Sample data (replace this with your actual resume texts and labels)\n",
    "X_train = [\"Resume text 1\", \"Resume text 2\", \"Resume text 3\"]  # Resume texts\n",
    "y_train = [1, 0, 1]  # 1 for relevant, 0 for not relevant\n",
    "\n",
    "# Create a pipeline with TF-IDF and Random Forest\n",
    "model = make_pipeline(TfidfVectorizer(), RandomForestClassifier())\n",
    "\n",
    "# Train the model\n",
    "model.fit(X_train, y_train)\n",
    "\n",
    "# Save the model after training\n",
    "joblib.dump(model, 'resume_ranking_model.pkl')\n",
    "print(\"Model saved as 'resume_ranking_model.pkl'\")"
   ]
  },
  {
   "cell_type": "code",
   "execution_count": 56,
   "id": "af923461",
   "metadata": {},
   "outputs": [
    {
     "name": "stdout",
     "output_type": "stream",
     "text": [
      "Model loaded successfully.\n"
     ]
    }
   ],
   "source": [
    "import joblib\n",
    "\n",
    "# Load the model\n",
    "loaded_model = joblib.load('resume_ranking_model.pkl')\n",
    "print(\"Model loaded successfully.\")"
   ]
  },
  {
   "cell_type": "code",
   "execution_count": 53,
   "id": "9f699281",
   "metadata": {},
   "outputs": [
    {
     "name": "stdout",
     "output_type": "stream",
     "text": [
      "Requirement already satisfied: Flask in c:\\users\\lenovo\\anaconda3\\lib\\site-packages (1.1.2)\n",
      "Requirement already satisfied: itsdangerous>=0.24 in c:\\users\\lenovo\\anaconda3\\lib\\site-packages (from Flask) (2.0.1)\n",
      "Requirement already satisfied: Jinja2>=2.10.1 in c:\\users\\lenovo\\anaconda3\\lib\\site-packages (from Flask) (2.11.3)\n",
      "Requirement already satisfied: Werkzeug>=0.15 in c:\\users\\lenovo\\anaconda3\\lib\\site-packages (from Flask) (2.0.3)\n",
      "Requirement already satisfied: click>=5.1 in c:\\users\\lenovo\\anaconda3\\lib\\site-packages (from Flask) (8.0.4)\n",
      "Requirement already satisfied: colorama in c:\\users\\lenovo\\anaconda3\\lib\\site-packages (from click>=5.1->Flask) (0.4.6)\n",
      "Requirement already satisfied: MarkupSafe>=0.23 in c:\\users\\lenovo\\anaconda3\\lib\\site-packages (from Jinja2>=2.10.1->Flask) (2.0.1)\n"
     ]
    }
   ],
   "source": [
    "!pip install Flask"
   ]
  },
  {
   "cell_type": "code",
   "execution_count": 54,
   "id": "079b78b1",
   "metadata": {},
   "outputs": [
    {
     "name": "stdout",
     "output_type": "stream",
     "text": [
      " * Serving Flask app \"__main__\" (lazy loading)\n",
      " * Environment: production\n",
      "\u001b[31m   WARNING: This is a development server. Do not use it in a production deployment.\u001b[0m\n",
      "\u001b[2m   Use a production WSGI server instead.\u001b[0m\n",
      " * Debug mode: on\n"
     ]
    },
    {
     "name": "stderr",
     "output_type": "stream",
     "text": [
      " * Restarting with watchdog (windowsapi)\n"
     ]
    },
    {
     "ename": "SystemExit",
     "evalue": "1",
     "output_type": "error",
     "traceback": [
      "An exception has occurred, use %tb to see the full traceback.\n",
      "\u001b[1;31mSystemExit\u001b[0m\u001b[1;31m:\u001b[0m 1\n"
     ]
    },
    {
     "name": "stderr",
     "output_type": "stream",
     "text": [
      "C:\\Users\\Lenovo\\anaconda3\\lib\\site-packages\\IPython\\core\\interactiveshell.py:3377: UserWarning: To exit: use 'exit', 'quit', or Ctrl-D.\n",
      "  warn(\"To exit: use 'exit', 'quit', or Ctrl-D.\", stacklevel=1)\n"
     ]
    }
   ],
   "source": [
    "from flask import Flask, request, render_template\n",
    "\n",
    "app = Flask(__name__)\n",
    "\n",
    "@app.route('/')\n",
    "def home():\n",
    "    return render_template('index.html')  # HTML file jisme form hoga\n",
    "\n",
    "@app.route('/submit', methods=['POST'])\n",
    "def submit():\n",
    "    # Process form data here\n",
    "    return \"Feedback submitted!\"\n",
    "\n",
    "if __name__ == '__main__':\n",
    "    app.run(debug=True)\n"
   ]
  },
  {
   "cell_type": "code",
   "execution_count": 57,
   "id": "1c9af04a",
   "metadata": {},
   "outputs": [
    {
     "name": "stdout",
     "output_type": "stream",
     "text": [
      "Predicted Relevance: 1\n"
     ]
    }
   ],
   "source": [
    "# New resume text to predict\n",
    "new_resume = \"This is a new resume text to check relevance.\"\n",
    "\n",
    "# Use the loaded model to predict\n",
    "predicted_relevance = loaded_model.predict([new_resume])\n",
    "\n",
    "# Display the prediction result\n",
    "print(f\"Predicted Relevance: {predicted_relevance[0]}\")  # 1 for relevant, 0 for not relevant\n"
   ]
  },
  {
   "cell_type": "code",
   "execution_count": 58,
   "id": "3d2318e7",
   "metadata": {},
   "outputs": [
    {
     "name": "stdout",
     "output_type": "stream",
     "text": [
      "Resume: This is a new resume text to check relevance.\n",
      "Predicted Relevance: 1\n",
      "Is this relevant? (yes/no): no\n"
     ]
    }
   ],
   "source": [
    "# Function to collect feedback\n",
    "def collect_feedback(resume, predicted_relevance):\n",
    "    print(f\"Resume: {resume}\")\n",
    "    print(f\"Predicted Relevance: {predicted_relevance[0]}\")\n",
    "    feedback = input(\"Is this relevant? (yes/no): \")\n",
    "    return 1 if feedback.lower() == 'yes' else 0\n",
    "\n",
    "# Collect feedback for the new resume\n",
    "feedback_label = collect_feedback(new_resume, predicted_relevance)\n"
   ]
  },
  {
   "cell_type": "code",
   "execution_count": 59,
   "id": "ba648791",
   "metadata": {},
   "outputs": [
    {
     "name": "stdout",
     "output_type": "stream",
     "text": [
      "Model retrained and saved.\n"
     ]
    }
   ],
   "source": [
    "# Assuming we have a list of resumes and their corresponding labels (including feedback)\n",
    "all_resumes = [\"Resume text 1\", \"Resume text 2\", new_resume]  # Update with all resumes\n",
    "all_labels = [1, 0, feedback_label]  # Update with all labels\n",
    "\n",
    "# Retrain the model with the new data\n",
    "model.fit(all_resumes, all_labels)\n",
    "\n",
    "# Save the retrained model\n",
    "joblib.dump(model, 'resume_ranking_model.pkl')\n",
    "print(\"Model retrained and saved.\")\n"
   ]
  },
  {
   "cell_type": "code",
   "execution_count": 60,
   "id": "1bb4815c",
   "metadata": {},
   "outputs": [
    {
     "name": "stdout",
     "output_type": "stream",
     "text": [
      " * Serving Flask app \"__main__\" (lazy loading)\n",
      " * Environment: production\n",
      "\u001b[31m   WARNING: This is a development server. Do not use it in a production deployment.\u001b[0m\n",
      "\u001b[2m   Use a production WSGI server instead.\u001b[0m\n",
      " * Debug mode: on\n"
     ]
    },
    {
     "name": "stderr",
     "output_type": "stream",
     "text": [
      " * Restarting with watchdog (windowsapi)\n"
     ]
    },
    {
     "ename": "SystemExit",
     "evalue": "1",
     "output_type": "error",
     "traceback": [
      "An exception has occurred, use %tb to see the full traceback.\n",
      "\u001b[1;31mSystemExit\u001b[0m\u001b[1;31m:\u001b[0m 1\n"
     ]
    },
    {
     "name": "stderr",
     "output_type": "stream",
     "text": [
      "C:\\Users\\Lenovo\\anaconda3\\lib\\site-packages\\IPython\\core\\interactiveshell.py:3377: UserWarning: To exit: use 'exit', 'quit', or Ctrl-D.\n",
      "  warn(\"To exit: use 'exit', 'quit', or Ctrl-D.\", stacklevel=1)\n"
     ]
    }
   ],
   "source": [
    "from flask import Flask, request, jsonify\n",
    "import joblib\n",
    "\n",
    "app = Flask(__name__)\n",
    "\n",
    "# Load the model\n",
    "model = joblib.load('resume_ranking_model.pkl')\n",
    "\n",
    "@app.route('/predict', methods=['POST'])\n",
    "def predict():\n",
    "    data = request.json\n",
    "    new_resume = data['resume']\n",
    "    predicted_relevance = model.predict([new_resume])\n",
    "    return jsonify({'relevance': int(predicted_relevance[0])})\n",
    "\n",
    "if __name__ == '__main__':\n",
    "    app.run(debug=True)\n"
   ]
  },
  {
   "cell_type": "code",
   "execution_count": 68,
   "id": "a58ead59",
   "metadata": {},
   "outputs": [
    {
     "name": "stdout",
     "output_type": "stream",
     "text": [
      "Accuracy: 0.50\n",
      "Precision: 0.00\n",
      "Recall: 0.00\n",
      "F1 Score: 0.00\n"
     ]
    },
    {
     "name": "stderr",
     "output_type": "stream",
     "text": [
      "C:\\Users\\Lenovo\\anaconda3\\lib\\site-packages\\sklearn\\metrics\\_classification.py:1318: UndefinedMetricWarning: Precision is ill-defined and being set to 0.0 due to no predicted samples. Use `zero_division` parameter to control this behavior.\n",
      "  _warn_prf(average, modifier, msg_start, len(result))\n"
     ]
    }
   ],
   "source": [
    "from sklearn.metrics import accuracy_score, precision_score, recall_score, f1_score\n",
    "import joblib\n",
    "\n",
    "# Load your trained model\n",
    "model = joblib.load('resume_ranking_model.pkl')\n",
    "\n",
    "# Assuming you have your test data and actual labels\n",
    "# Replace these with your actual test data and labels\n",
    "X_test = [\"Sample resume text 1\", \"Sample resume text 2\"]  # Add your test resumes here\n",
    "y_true = [1, 0]  # Replace with the actual labels for your test data\n",
    "\n",
    "# Get predictions from the model\n",
    "y_pred = model.predict(X_test)\n",
    "\n",
    "# Calculate evaluation metrics\n",
    "accuracy = accuracy_score(y_true, y_pred)\n",
    "precision = precision_score(y_true, y_pred)\n",
    "recall = recall_score(y_true, y_pred)\n",
    "f1 = f1_score(y_true, y_pred)\n",
    "\n",
    "# Print the evaluation results\n",
    "print(f\"Accuracy: {accuracy:.2f}\")\n",
    "print(f\"Precision: {precision:.2f}\")\n",
    "print(f\"Recall: {recall:.2f}\")\n",
    "print(f\"F1 Score: {f1:.2f}\")"
   ]
  },
  {
   "cell_type": "code",
   "execution_count": 70,
   "id": "627d7315",
   "metadata": {},
   "outputs": [
    {
     "name": "stdout",
     "output_type": "stream",
     "text": [
      "1    1\n",
      "0    1\n",
      "dtype: int64\n"
     ]
    }
   ],
   "source": [
    "import pandas as pd\n",
    "\n",
    "# Assuming y_true contains the actual labels\n",
    "class_distribution = pd.Series(y_true).value_counts()\n",
    "print(class_distribution)"
   ]
  },
  {
   "cell_type": "code",
   "execution_count": 75,
   "id": "beecba27",
   "metadata": {},
   "outputs": [
    {
     "name": "stdout",
     "output_type": "stream",
     "text": [
      "Requirement already satisfied: spacy in c:\\users\\lenovo\\anaconda3\\lib\\site-packages (3.7.6)C:\\Users\\Lenovo\\Contacts\n",
      "Requirement already satisfied: scikit-learn in c:\\users\\lenovo\\anaconda3\\lib\\site-packages (1.0.2)\n",
      "Requirement already satisfied: pandas in c:\\users\\lenovo\\anaconda3\\lib\\site-packages (1.4.2)\n",
      "Requirement already satisfied: PyPDF2 in c:\\users\\lenovo\\anaconda3\\lib\\site-packages (3.0.1)\n",
      "\n",
      "Requirement already satisfied: wasabi<1.2.0,>=0.9.1 in c:\\users\\lenovo\\anaconda3\\lib\\site-packages (from spacy) (1.1.3)\n",
      "Requirement already satisfied: murmurhash<1.1.0,>=0.28.0 in c:\\users\\lenovo\\anaconda3\\lib\\site-packages (from spacy) (1.0.10)\n",
      "Requirement already satisfied: srsly<3.0.0,>=2.4.3 in c:\\users\\lenovo\\anaconda3\\lib\\site-packages (from spacy) (2.4.8)\n",
      "Requirement already satisfied: catalogue<2.1.0,>=2.0.6 in c:\\users\\lenovo\\anaconda3\\lib\\site-packages (from spacy) (2.0.10)\n",
      "Requirement already satisfied: thinc<8.3.0,>=8.2.2 in c:\\users\\lenovo\\anaconda3\\lib\\site-packages (from spacy) (8.2.5)\n",
      "Requirement already satisfied: jinja2 in c:\\users\\lenovo\\anaconda3\\lib\\site-packages (from spacy) (2.11.3)\n",
      "Requirement already satisfied: numpy>=1.19.0 in c:\\users\\lenovo\\anaconda3\\lib\\site-packages (from spacy) (1.21.5)\n",
      "Requirement already satisfied: typer<1.0.0,>=0.3.0 in c:\\users\\lenovo\\anaconda3\\lib\\site-packages (from spacy) (0.12.5)\n",
      "Requirement already satisfied: spacy-legacy<3.1.0,>=3.0.11 in c:\\users\\lenovo\\anaconda3\\lib\\site-packages (from spacy) (3.0.12)\n",
      "Requirement already satisfied: spacy-loggers<2.0.0,>=1.0.0 in c:\\users\\lenovo\\anaconda3\\lib\\site-packages (from spacy) (1.0.5)\n",
      "Requirement already satisfied: weasel<0.5.0,>=0.1.0 in c:\\users\\lenovo\\anaconda3\\lib\\site-packages (from spacy) (0.4.1)\n",
      "Requirement already satisfied: preshed<3.1.0,>=3.0.2 in c:\\users\\lenovo\\anaconda3\\lib\\site-packages (from spacy) (3.0.9)\n",
      "Requirement already satisfied: packaging>=20.0 in c:\\users\\lenovo\\anaconda3\\lib\\site-packages (from spacy) (21.3)\n",
      "Requirement already satisfied: langcodes<4.0.0,>=3.2.0 in c:\\users\\lenovo\\anaconda3\\lib\\site-packages (from spacy) (3.4.1)\n",
      "Requirement already satisfied: setuptools in c:\\users\\lenovo\\anaconda3\\lib\\site-packages (from spacy) (61.2.0)\n",
      "Requirement already satisfied: requests<3.0.0,>=2.13.0 in c:\\users\\lenovo\\anaconda3\\lib\\site-packages (from spacy) (2.27.1)\n",
      "Requirement already satisfied: cymem<2.1.0,>=2.0.2 in c:\\users\\lenovo\\anaconda3\\lib\\site-packages (from spacy) (2.0.8)\n",
      "Requirement already satisfied: tqdm<5.0.0,>=4.38.0 in c:\\users\\lenovo\\anaconda3\\lib\\site-packages (from spacy) (4.64.0)\n",
      "Requirement already satisfied: pydantic!=1.8,!=1.8.1,<3.0.0,>=1.7.4 in c:\\users\\lenovo\\anaconda3\\lib\\site-packages (from spacy) (2.9.2)\n",
      "Requirement already satisfied: scipy>=1.1.0 in c:\\users\\lenovo\\anaconda3\\lib\\site-packages (from scikit-learn) (1.7.3)\n",
      "Requirement already satisfied: joblib>=0.11 in c:\\users\\lenovo\\anaconda3\\lib\\site-packages (from scikit-learn) (1.1.0)\n",
      "Requirement already satisfied: threadpoolctl>=2.0.0 in c:\\users\\lenovo\\anaconda3\\lib\\site-packages (from scikit-learn) (2.2.0)\n",
      "Requirement already satisfied: pytz>=2020.1 in c:\\users\\lenovo\\anaconda3\\lib\\site-packages (from pandas) (2021.3)\n",
      "Requirement already satisfied: python-dateutil>=2.8.1 in c:\\users\\lenovo\\anaconda3\\lib\\site-packages (from pandas) (2.8.2)\n",
      "Requirement already satisfied: typing_extensions>=3.10.0.0 in c:\\users\\lenovo\\anaconda3\\lib\\site-packages (from PyPDF2) (4.12.2)\n",
      "Requirement already satisfied: language-data>=1.2 in c:\\users\\lenovo\\anaconda3\\lib\\site-packages (from langcodes<4.0.0,>=3.2.0->spacy) (1.2.0)\n",
      "Requirement already satisfied: marisa-trie>=0.7.7 in c:\\users\\lenovo\\anaconda3\\lib\\site-packages (from language-data>=1.2->langcodes<4.0.0,>=3.2.0->spacy) (1.2.0)\n",
      "Requirement already satisfied: pyparsing!=3.0.5,>=2.0.2 in c:\\users\\lenovo\\anaconda3\\lib\\site-packages (from packaging>=20.0->spacy) (3.0.4)\n",
      "Requirement already satisfied: pydantic-core==2.23.4 in c:\\users\\lenovo\\anaconda3\\lib\\site-packages (from pydantic!=1.8,!=1.8.1,<3.0.0,>=1.7.4->spacy) (2.23.4)\n",
      "Requirement already satisfied: annotated-types>=0.6.0 in c:\\users\\lenovo\\anaconda3\\lib\\site-packages (from pydantic!=1.8,!=1.8.1,<3.0.0,>=1.7.4->spacy) (0.7.0)\n",
      "Requirement already satisfied: six>=1.5 in c:\\users\\lenovo\\anaconda3\\lib\\site-packages (from python-dateutil>=2.8.1->pandas) (1.16.0)\n",
      "Requirement already satisfied: certifi>=2017.4.17 in c:\\users\\lenovo\\anaconda3\\lib\\site-packages (from requests<3.0.0,>=2.13.0->spacy) (2021.10.8)\n",
      "Requirement already satisfied: urllib3<1.27,>=1.21.1 in c:\\users\\lenovo\\anaconda3\\lib\\site-packages (from requests<3.0.0,>=2.13.0->spacy) (1.26.9)\n",
      "Requirement already satisfied: idna<4,>=2.5 in c:\\users\\lenovo\\anaconda3\\lib\\site-packages (from requests<3.0.0,>=2.13.0->spacy) (3.3)\n",
      "Requirement already satisfied: charset-normalizer~=2.0.0 in c:\\users\\lenovo\\anaconda3\\lib\\site-packages (from requests<3.0.0,>=2.13.0->spacy) (2.0.4)\n",
      "Requirement already satisfied: confection<1.0.0,>=0.0.1 in c:\\users\\lenovo\\anaconda3\\lib\\site-packages (from thinc<8.3.0,>=8.2.2->spacy) (0.1.5)\n",
      "Requirement already satisfied: blis<0.8.0,>=0.7.8 in c:\\users\\lenovo\\anaconda3\\lib\\site-packages (from thinc<8.3.0,>=8.2.2->spacy) (0.7.11)\n",
      "Requirement already satisfied: colorama in c:\\users\\lenovo\\anaconda3\\lib\\site-packages (from tqdm<5.0.0,>=4.38.0->spacy) (0.4.6)\n",
      "Requirement already satisfied: rich>=10.11.0 in c:\\users\\lenovo\\anaconda3\\lib\\site-packages (from typer<1.0.0,>=0.3.0->spacy) (13.8.1)\n",
      "Requirement already satisfied: shellingham>=1.3.0 in c:\\users\\lenovo\\anaconda3\\lib\\site-packages (from typer<1.0.0,>=0.3.0->spacy) (1.5.4)\n",
      "Requirement already satisfied: click>=8.0.0 in c:\\users\\lenovo\\anaconda3\\lib\\site-packages (from typer<1.0.0,>=0.3.0->spacy) (8.0.4)\n",
      "Requirement already satisfied: pygments<3.0.0,>=2.13.0 in c:\\users\\lenovo\\anaconda3\\lib\\site-packages (from rich>=10.11.0->typer<1.0.0,>=0.3.0->spacy) (2.18.0)\n",
      "Requirement already satisfied: markdown-it-py>=2.2.0 in c:\\users\\lenovo\\anaconda3\\lib\\site-packages (from rich>=10.11.0->typer<1.0.0,>=0.3.0->spacy) (3.0.0)\n",
      "Requirement already satisfied: mdurl~=0.1 in c:\\users\\lenovo\\anaconda3\\lib\\site-packages (from markdown-it-py>=2.2.0->rich>=10.11.0->typer<1.0.0,>=0.3.0->spacy) (0.1.2)\n",
      "Requirement already satisfied: cloudpathlib<1.0.0,>=0.7.0 in c:\\users\\lenovo\\anaconda3\\lib\\site-packages (from weasel<0.5.0,>=0.1.0->spacy) (0.19.0)\n",
      "Requirement already satisfied: smart-open<8.0.0,>=5.2.1 in c:\\users\\lenovo\\anaconda3\\lib\\site-packages (from weasel<0.5.0,>=0.1.0->spacy) (7.0.4)\n",
      "Requirement already satisfied: wrapt in c:\\users\\lenovo\\anaconda3\\lib\\site-packages (from smart-open<8.0.0,>=5.2.1->weasel<0.5.0,>=0.1.0->spacy) (1.12.1)\n",
      "Requirement already satisfied: MarkupSafe>=0.23 in c:\\users\\lenovo\\anaconda3\\lib\\site-packages (from jinja2->spacy) (2.0.1)\n",
      "         ID                                         Resume_str  \\\n",
      "0  16852973           HR ADMINISTRATOR/MARKETING ASSOCIATE\\...   \n",
      "1  22323967           HR SPECIALIST, US HR OPERATIONS      ...   \n",
      "2  33176873           HR DIRECTOR       Summary      Over 2...   \n",
      "3  27018550           HR SPECIALIST       Summary    Dedica...   \n",
      "4  17812897           HR MANAGER         Skill Highlights  ...   \n",
      "\n",
      "                                         Resume_html Category  \n",
      "0  <div class=\"fontsize fontface vmargins hmargin...       HR  \n",
      "1  <div class=\"fontsize fontface vmargins hmargin...       HR  \n",
      "2  <div class=\"fontsize fontface vmargins hmargin...       HR  \n",
      "3  <div class=\"fontsize fontface vmargins hmargin...       HR  \n",
      "4  <div class=\"fontsize fontface vmargins hmargin...       HR  \n",
      "Filename: 10554236.pdf\n",
      "Content: ACCOUNTANT\n",
      "Summary\n",
      "Financial Accountant specializing in financial planning, reporting and analysis within the Department of Defense.\n",
      "Highlights\n",
      "Account reconciliations\n",
      "Results-oriented\n",
      "Financial repor...\n",
      "\n",
      "Filename: 10674770.pdf\n",
      "Content: STAFF ACCOUNTANT\n",
      "Summary\n",
      "Highly analytical and detail-oriented professional; possessing extensive financial statement background in quality assurance, compliance, auditing,\n",
      "customer service and regula...\n",
      "\n",
      "Filename: 11163645.pdf\n",
      "Content: ACCOUNTANT\n",
      "Professional Summary\n",
      "To obtain a position in a fast-paced business office environment, demanding a strong organizational, technical, and interpersonal position utilizing\n",
      "my skills and attri...\n",
      "\n"
     ]
    },
    {
     "name": "stdout",
     "output_type": "stream",
     "text": [
      "Requirement already satisfied: nltk in c:\\users\\lenovo\\anaconda3\\lib\\site-packages (3.7)ID              int64\n",
      "Resume_str     object\n",
      "Resume_html    object\n",
      "Category       object\n",
      "dtype: object\n",
      "Requirement already satisfied: tqdm in c:\\users\\lenovo\\anaconda3\\lib\\site-packages (from nltk) (4.64.0)\n",
      "Requirement already satisfied: joblib in c:\\users\\lenovo\\anaconda3\\lib\\site-packages (from nltk) (1.1.0)\n",
      "Requirement already satisfied: regex>=2021.8.3 in c:\\users\\lenovo\\anaconda3\\lib\\site-packages (from nltk) (2022.3.15)\n",
      "Requirement already satisfied: click in c:\\users\\lenovo\\anaconda3\\lib\\site-packages (from nltk) (8.0.4)\n",
      "Requirement already satisfied: colorama in c:\\users\\lenovo\\anaconda3\\lib\\site-packages (from click->nltk) (0.4.6)\n",
      "\n",
      "         ID                                         Resume_str  \\\n",
      "0  16852973           HR ADMINISTRATOR/MARKETING ASSOCIATE\\...   \n",
      "1  22323967           HR SPECIALIST, US HR OPERATIONS      ...   \n",
      "2  33176873           HR DIRECTOR       Summary      Over 2...   \n",
      "3  27018550           HR SPECIALIST       Summary    Dedica...   \n",
      "4  17812897           HR MANAGER         Skill Highlights  ...   \n",
      "\n",
      "                                         Resume_html Category  \n",
      "0  <div class=\"fontsize fontface vmargins hmargin...       HR  \n",
      "1  <div class=\"fontsize fontface vmargins hmargin...       HR  \n",
      "2  <div class=\"fontsize fontface vmargins hmargin...       HR  \n",
      "3  <div class=\"fontsize fontface vmargins hmargin...       HR  \n",
      "4  <div class=\"fontsize fontface vmargins hmargin...       HR  \n",
      "True\n",
      "Shape of TF-IDF matrix: (2602, 9304)\n",
      "Shape of Cosine Similarity Matrix: (2484, 118)\n",
      "          10554236.pdf  10674770.pdf  11163645.pdf  11759079.pdf  \\\n",
      "16852973           0.0           0.0           0.0           0.0   \n",
      "22323967           0.0           0.0           0.0           0.0   \n",
      "33176873           0.0           0.0           0.0           0.0   \n",
      "27018550           0.0           0.0           0.0           0.0   \n",
      "17812897           0.0           0.0           0.0           0.0   \n",
      "\n",
      "          12065211.pdf  12202337.pdf  12338274.pdf  12442909.pdf  \\\n",
      "16852973           0.0           0.0           0.0           0.0   \n",
      "22323967           0.0           0.0           0.0           0.0   \n",
      "33176873           0.0           0.0           0.0           0.0   \n",
      "27018550           0.0           0.0           0.0           0.0   \n",
      "17812897           0.0           0.0           0.0           0.0   \n",
      "\n",
      "          12780508.pdf  12802330.pdf  ...  59403481.pdf  62809577.pdf  \\\n",
      "16852973           0.0           0.0  ...           0.0           0.0   \n",
      "22323967           0.0           0.0  ...           0.0           0.0   \n",
      "33176873           0.0           0.0  ...           0.0           0.0   \n",
      "27018550           0.0           0.0  ...           0.0           0.0   \n",
      "17812897           0.0           0.0  ...           0.0           0.0   \n",
      "\n",
      "          63137898.pdf  75286906.pdf  78257294.pdf  78403342.pdf  \\\n",
      "16852973           0.0           0.0           0.0           0.0   \n",
      "22323967           0.0           0.0           0.0           0.0   \n",
      "33176873           0.0           0.0           0.0           0.0   \n",
      "27018550           0.0           0.0           0.0           0.0   \n",
      "17812897           0.0           0.0           0.0           0.0   \n",
      "\n",
      "          80053367.pdf  82649935.pdf  87635012.pdf  98559931.pdf  \n",
      "16852973           0.0           0.0           0.0           0.0  \n",
      "22323967           0.0           0.0           0.0           0.0  \n",
      "33176873           0.0           0.0           0.0           0.0  \n",
      "27018550           0.0           0.0           0.0           0.0  \n",
      "17812897           0.0           0.0           0.0           0.0  \n",
      "\n",
      "[5 rows x 118 columns]\n",
      "         Job Description    Top Resume  Score\n",
      "16852973        16852973  10554236.pdf    0.0\n",
      "22323967        22323967  10554236.pdf    0.0\n",
      "33176873        33176873  10554236.pdf    0.0\n",
      "27018550        27018550  10554236.pdf    0.0\n",
      "17812897        17812897  10554236.pdf    0.0\n",
      "...                  ...           ...    ...\n",
      "99416532        99416532  10554236.pdf    0.0\n",
      "24589765        24589765  10554236.pdf    0.0\n",
      "31605080        31605080  10554236.pdf    0.0\n",
      "21190805        21190805  10554236.pdf    0.0\n",
      "37473139        37473139  10554236.pdf    0.0\n",
      "\n",
      "[2484 rows x 3 columns]\n",
      "          10554236.pdf  10674770.pdf  11163645.pdf  11759079.pdf  \\\n",
      "16852973           0.0           0.0           0.0           0.0   \n",
      "22323967           0.0           0.0           0.0           0.0   \n",
      "33176873           0.0           0.0           0.0           0.0   \n",
      "27018550           0.0           0.0           0.0           0.0   \n",
      "17812897           0.0           0.0           0.0           0.0   \n",
      "...                ...           ...           ...           ...   \n",
      "99416532           0.0           0.0           0.0           0.0   \n",
      "24589765           0.0           0.0           0.0           0.0   \n",
      "31605080           0.0           0.0           0.0           0.0   \n",
      "21190805           0.0           0.0           0.0           0.0   \n",
      "37473139           0.0           0.0           0.0           0.0   \n",
      "\n",
      "          12065211.pdf  12202337.pdf  12338274.pdf  12442909.pdf  \\\n",
      "16852973           0.0           0.0           0.0           0.0   \n",
      "22323967           0.0           0.0           0.0           0.0   \n",
      "33176873           0.0           0.0           0.0           0.0   \n",
      "27018550           0.0           0.0           0.0           0.0   \n",
      "17812897           0.0           0.0           0.0           0.0   \n",
      "...                ...           ...           ...           ...   \n",
      "99416532           0.0           0.0           0.0           0.0   \n",
      "24589765           0.0           0.0           0.0           0.0   \n",
      "31605080           0.0           0.0           0.0           0.0   \n",
      "21190805           0.0           0.0           0.0           0.0   \n",
      "37473139           0.0           0.0           0.0           0.0   \n",
      "\n",
      "          12780508.pdf  12802330.pdf  ...  59403481.pdf  62809577.pdf  \\\n",
      "16852973           0.0           0.0  ...           0.0           0.0   \n",
      "22323967           0.0           0.0  ...           0.0           0.0   \n",
      "33176873           0.0           0.0  ...           0.0           0.0   \n",
      "27018550           0.0           0.0  ...           0.0           0.0   \n",
      "17812897           0.0           0.0  ...           0.0           0.0   \n",
      "...                ...           ...  ...           ...           ...   \n",
      "99416532           0.0           0.0  ...           0.0           0.0   \n",
      "24589765           0.0           0.0  ...           0.0           0.0   \n",
      "31605080           0.0           0.0  ...           0.0           0.0   \n",
      "21190805           0.0           0.0  ...           0.0           0.0   \n",
      "37473139           0.0           0.0  ...           0.0           0.0   \n",
      "\n",
      "          63137898.pdf  75286906.pdf  78257294.pdf  78403342.pdf  \\\n",
      "16852973           0.0           0.0           0.0           0.0   \n",
      "22323967           0.0           0.0           0.0           0.0   \n",
      "33176873           0.0           0.0           0.0           0.0   \n",
      "27018550           0.0           0.0           0.0           0.0   \n",
      "17812897           0.0           0.0           0.0           0.0   \n",
      "...                ...           ...           ...           ...   \n",
      "99416532           0.0           0.0           0.0           0.0   \n",
      "24589765           0.0           0.0           0.0           0.0   \n",
      "31605080           0.0           0.0           0.0           0.0   \n",
      "21190805           0.0           0.0           0.0           0.0   \n",
      "37473139           0.0           0.0           0.0           0.0   \n",
      "\n",
      "          80053367.pdf  82649935.pdf  87635012.pdf  98559931.pdf  \n",
      "16852973           0.0           0.0           0.0           0.0  \n",
      "22323967           0.0           0.0           0.0           0.0  \n",
      "33176873           0.0           0.0           0.0           0.0  \n",
      "27018550           0.0           0.0           0.0           0.0  \n",
      "17812897           0.0           0.0           0.0           0.0  \n",
      "...                ...           ...           ...           ...  \n",
      "99416532           0.0           0.0           0.0           0.0  \n",
      "24589765           0.0           0.0           0.0           0.0  \n",
      "31605080           0.0           0.0           0.0           0.0  \n",
      "21190805           0.0           0.0           0.0           0.0  \n",
      "37473139           0.0           0.0           0.0           0.0  \n",
      "\n",
      "[2484 rows x 118 columns]\n",
      "         Job Description    Top Resume  Score\n",
      "16852973        16852973  10554236.pdf    0.0\n",
      "22323967        22323967  10554236.pdf    0.0\n",
      "33176873        33176873  10554236.pdf    0.0\n",
      "27018550        27018550  10554236.pdf    0.0\n",
      "17812897        17812897  10554236.pdf    0.0\n",
      "...                  ...           ...    ...\n",
      "99416532        99416532  10554236.pdf    0.0\n",
      "24589765        24589765  10554236.pdf    0.0\n",
      "31605080        31605080  10554236.pdf    0.0\n",
      "21190805        21190805  10554236.pdf    0.0\n",
      "37473139        37473139  10554236.pdf    0.0\n",
      "\n",
      "[2484 rows x 3 columns]\n",
      "Results saved to 'resume_ranking_results.csv'\n",
      "Results saved to 'resume_ranking_results.csv'\n"
     ]
    },
    {
     "data": {
      "text/plain": [
       "<Figure size 720x432 with 0 Axes>"
      ]
     },
     "metadata": {},
     "output_type": "display_data"
    },
    {
     "data": {
      "image/png": "[encoded data removed]",
      "text/plain": [
       "<Figure size 432x288 with 1 Axes>"
      ]
     },
     "metadata": {
      "needs_background": "light"
     },
     "output_type": "display_data"
    },
    {
     "name": "stdout",
     "output_type": "stream",
     "text": [
      "Aap apne resume ko kitna relevant maante hain? (1-10 scale): 10\n",
      "Kya aapko kisi specific area me madad chahiye? yes\n",
      "Accuracy: 0.8, Precision: 1.0, Recall: 0.6666666666666666\n",
      "Model saved as 'resume_ranking_model.pkl'\n",
      "Model loaded successfully.\n",
      "Requirement already satisfied: Flask in c:\\users\\lenovo\\anaconda3\\lib\\site-packages (1.1.2)\n",
      "Requirement already satisfied: Werkzeug>=0.15 in c:\\users\\lenovo\\anaconda3\\lib\\site-packages (from Flask) (2.0.3)\n",
      "Requirement already satisfied: itsdangerous>=0.24 in c:\\users\\lenovo\\anaconda3\\lib\\site-packages (from Flask) (2.0.1)\n",
      "Requirement already satisfied: Jinja2>=2.10.1 in c:\\users\\lenovo\\anaconda3\\lib\\site-packages (from Flask) (2.11.3)\n",
      "Requirement already satisfied: click>=5.1 in c:\\users\\lenovo\\anaconda3\\lib\\site-packages (from Flask) (8.0.4)\n",
      "Requirement already satisfied: colorama in c:\\users\\lenovo\\anaconda3\\lib\\site-packages (from click>=5.1->Flask) (0.4.6)\n",
      "Requirement already satisfied: MarkupSafe>=0.23 in c:\\users\\lenovo\\anaconda3\\lib\\site-packages (from Jinja2>=2.10.1->Flask) (2.0.1)\n",
      " * Serving Flask app \"__main__\" (lazy loading)\n",
      " * Environment: production\n",
      "\u001b[31m   WARNING: This is a development server. Do not use it in a production deployment.\u001b[0m\n",
      "\u001b[2m   Use a production WSGI server instead.\u001b[0m\n",
      " * Debug mode: on\n"
     ]
    },
    {
     "name": "stderr",
     "output_type": "stream",
     "text": [
      " * Restarting with watchdog (windowsapi)\n"
     ]
    },
    {
     "ename": "SystemExit",
     "evalue": "1",
     "output_type": "error",
     "traceback": [
      "An exception has occurred, use %tb to see the full traceback.\n",
      "\u001b[1;31mSystemExit\u001b[0m\u001b[1;31m:\u001b[0m 1\n"
     ]
    },
    {
     "name": "stderr",
     "output_type": "stream",
     "text": [
      "C:\\Users\\Lenovo\\anaconda3\\lib\\site-packages\\IPython\\core\\interactiveshell.py:3377: UserWarning: To exit: use 'exit', 'quit', or Ctrl-D.\n",
      "  warn(\"To exit: use 'exit', 'quit', or Ctrl-D.\", stacklevel=1)\n"
     ]
    }
   ],
   "source": [
    "!pip install spacy scikit-learn pandas PyPDF2\n",
    "#-------------------------------------------------------------------------------------------------------------------------------\n",
    "import os\n",
    "\n",
    "# Print current working directory\n",
    "print(os.getcwd())\n",
    "#-------------------------------------------------------------------------------------------------------------------------------\n",
    "import pandas as pd\n",
    "\n",
    "# Load job descriptions\n",
    "job_descriptions = pd.read_csv('sample_resumes/Resume/job_descriptions.xlsx.csv')\n",
    "\n",
    "# Display the first few rows of the DataFrame to check the content\n",
    "print(job_descriptions.head())\n",
    "#-------------------------------------------------------------------------------------------------------------------------------\n",
    "import os\n",
    "from PyPDF2 import PdfReader\n",
    "\n",
    "# Function to read PDF files\n",
    "def read_pdf(file_path):\n",
    "    with open(file_path, 'rb') as file:\n",
    "        reader = PdfReader(file)\n",
    "        text = ''\n",
    "        for page in reader.pages:\n",
    "            text += page.extract_text()\n",
    "    return text\n",
    "\n",
    "# Path to the accountant resumes folder\n",
    "accountant_folder_path = 'sample_resumes/data/data/accountant/'\n",
    "\n",
    "# Read all resumes in the accountant folder\n",
    "accountant_resumes = {}\n",
    "for filename in os.listdir(accountant_folder_path):\n",
    "    if filename.endswith('.pdf'):  # Assuming resumes are in PDF format\n",
    "        resume_text = read_pdf(os.path.join(accountant_folder_path, filename))\n",
    "        accountant_resumes[filename] = resume_text\n",
    "\n",
    "# Now, accountant_resumes dictionary contains the resume texts with filenames\n",
    "# Display the first few loaded resumes\n",
    "for name, content in list(accountant_resumes.items())[:3]:  # Display first 3 resumes\n",
    "    print(f\"Filename: {name}\")\n",
    "    print(f\"Content: {content[:200]}...\")  # Displaying first 200 characters of each resume\n",
    "    print()\n",
    "#-----------------------------------------------------------------------------------------------------------------------------\n",
    "!pip install nltk\n",
    "#------------------------------------------------------------------------------------------------------------------------------\n",
    "import pandas as pd\n",
    "import os\n",
    "from PyPDF2 import PdfReader\n",
    "from sklearn.feature_extraction.text import TfidfVectorizer\n",
    "from sklearn.metrics.pairwise import cosine_similarity\n",
    "#------------------------------------------------------------------------------------------------------------------------------\n",
    "# Assuming the job description text is in the first column\n",
    "job_description_texts = job_descriptions.iloc[:, 0].tolist()  # Adjust index if needed\n",
    "\n",
    "# Extract resume texts from the dictionary created earlier\n",
    "resume_texts = list(accountant_resumes.values())\n",
    "#-------------------------------------------------------------------------------------------------------------------------------\n",
    "# Check the types of job descriptions\n",
    "print(job_descriptions.dtypes)\n",
    "print(job_descriptions.head())\n",
    "\n",
    "# Check if resume texts are all strings\n",
    "print(all(isinstance(text, str) for text in resume_texts))\n",
    "#-------------------------------------------------------------------------------------------------------------------------------\n",
    "# Convert job descriptions to strings\n",
    "job_description_texts = job_descriptions.iloc[:, 0].astype(str).tolist()\n",
    "\n",
    "# Convert resume texts to strings (if necessary)\n",
    "resume_texts = [str(resume) for resume in accountant_resumes.values()]\n",
    "#-------------------------------------------------------------------------------------------------------------------------------\n",
    "# Extract text from job descriptions and ensure they are strings\n",
    "job_description_texts = job_descriptions.iloc[:, 0].astype(str).tolist()\n",
    "\n",
    "# Extract resume texts and ensure they are strings\n",
    "resume_texts = [str(resume) for resume in accountant_resumes.values()]\n",
    "\n",
    "# Create a TF-IDF Vectorizer\n",
    "tfidf_vectorizer = TfidfVectorizer()\n",
    "\n",
    "# Combine job descriptions and resumes for fitting the model\n",
    "all_texts = job_description_texts + resume_texts\n",
    "\n",
    "# Fit and transform the text\n",
    "tfidf_matrix = tfidf_vectorizer.fit_transform(all_texts)\n",
    "#-------------------------------------------------------------------------------------------------------------------------------\n",
    "# Print the shape of the TF-IDF matrix\n",
    "print(\"Shape of TF-IDF matrix:\", tfidf_matrix.shape)\n",
    "#-------------------------------------------------------------------------------------------------------------------------------\n",
    "# Compute cosine similarity matrix\n",
    "cosine_sim = cosine_similarity(tfidf_matrix[:len(job_description_texts)], tfidf_matrix[len(job_description_texts):])\n",
    "\n",
    "# Print the shape of the cosine similarity matrix\n",
    "print(\"Shape of Cosine Similarity Matrix:\", cosine_sim.shape)\n",
    "\n",
    "# Convert similarity matrix to DataFrame for better visualization\n",
    "similarity_df = pd.DataFrame(cosine_sim, columns=list(accountant_resumes.keys()), index=job_description_texts)\n",
    "\n",
    "# Display the first few rows of the similarity DataFrame\n",
    "print(similarity_df.head())\n",
    "#-------------------------------------------------------------------------------------------------------------------------------\n",
    "# Compute cosine similarity matrix\n",
    "cosine_sim = cosine_similarity(tfidf_matrix[:len(job_description_texts)], tfidf_matrix[len(job_description_texts):])\n",
    "\n",
    "# Convert similarity matrix to DataFrame for better visualization\n",
    "similarity_df = pd.DataFrame(cosine_sim, columns=list(accountant_resumes.keys()), index=job_description_texts)\n",
    "\n",
    "# Get the top resume for each job description\n",
    "top_resumes = similarity_df.idxmax(axis=1)  # Get the filename of the top resume\n",
    "top_scores = similarity_df.max(axis=1)  # Get the maximum similarity score\n",
    "\n",
    "# Combine results into a DataFrame\n",
    "results_df = pd.DataFrame({'Job Description': similarity_df.index, 'Top Resume': top_resumes, 'Score': top_scores})\n",
    "\n",
    "# Display the results\n",
    "print(results_df)\n",
    "#-------------------------------------------------------------------------------------------------------------------------------\n",
    "# Compute cosine similarity matrix\n",
    "cosine_sim = cosine_similarity(tfidf_matrix[:len(job_description_texts)], tfidf_matrix[len(job_description_texts):])\n",
    "\n",
    "# Convert similarity matrix to DataFrame for better visualization\n",
    "similarity_df = pd.DataFrame(cosine_sim, columns=list(accountant_resumes.keys()), index=job_description_texts)\n",
    "\n",
    "# Display the similarity scores\n",
    "print(similarity_df)\n",
    "#-------------------------------------------------------------------------------------------------------------------------------\n",
    "# Get the top resume for each job description\n",
    "top_resumes = similarity_df.idxmax(axis=1)\n",
    "top_scores = similarity_df.max(axis=1)\n",
    "\n",
    "# Combine results into a DataFrame\n",
    "results_df = pd.DataFrame({'Job Description': similarity_df.index, 'Top Resume': top_resumes, 'Score': top_scores})\n",
    "\n",
    "# Display the results\n",
    "print(results_df)\n",
    "#-------------------------------------------------------------------------------------------------------------------------------\n",
    "# Save results to a CSV file\n",
    "results_df.to_csv('resume_ranking_results.csv', index=False)\n",
    "print(\"Results saved to 'resume_ranking_results.csv'\")\n",
    "#-------------------------------------------------------------------------------------------------------------------------------\n",
    "try:\n",
    "    # Yahan apna code likho, jaise ki result_df ka calculation ya kisi aur step ka code\n",
    "    results_df.to_csv('resume_ranking_results.csv', index=False)\n",
    "    print(\"Results saved to 'resume_ranking_results.csv'\")\n",
    "except Exception as e:\n",
    "    print(f\"An error occurred: {e}\")\n",
    "#-------------------------------------------------------------------------------------------------------------------------------\n",
    "import matplotlib.pyplot as plt\n",
    "\n",
    "# Plotting top resumes\n",
    "plt.figure(figsize=(10, 6))\n",
    "results_df.sort_values(by='Score', ascending=False).head(10).plot(kind='bar', x='Top Resume', y='Score', legend=False)\n",
    "plt.title('Top Resumes Based on Similarity Scores')\n",
    "plt.xlabel('Top Resume')\n",
    "plt.ylabel('Score')\n",
    "plt.xticks(rotation=45)\n",
    "plt.tight_layout()\n",
    "plt.show()\n",
    "#-------------------------------------------------------------------------------------------------------------------------------\n",
    "def collect_feedback():\n",
    "    # Simple feedback collection\n",
    "    relevance = input(\"Aap apne resume ko kitna relevant maante hain? (1-10 scale): \")\n",
    "    improvement_area = input(\"Kya aapko kisi specific area me madad chahiye? \")\n",
    "\n",
    "    # Store feedback in a dictionary or list\n",
    "    feedback = {\n",
    "        'relevance': relevance,\n",
    "        'improvement_area': improvement_area\n",
    "    }\n",
    "    \n",
    "    return feedback\n",
    "#-------------------------------------------------------------------------------------------------------------------------------\n",
    "import pandas as pd\n",
    "\n",
    "def save_feedback(feedback):\n",
    "    feedback_df = pd.DataFrame([feedback])\n",
    "    feedback_df.to_csv('feedback.csv', mode='a', header=False, index=False)\n",
    "#-------------------------------------------------------------------------------------------------------------------------------\n",
    "feedback = collect_feedback()\n",
    "save_feedback(feedback)\n",
    "#-------------------------------------------------------------------------------------------------------------------------------\n",
    "from sklearn.metrics import accuracy_score, precision_score, recall_score\n",
    "\n",
    "# Example true labels and predicted scores\n",
    "true_labels = [1, 0, 1, 1, 0]  # 1: relevant, 0: not relevant\n",
    "predicted_scores = [1, 0, 1, 0, 0]\n",
    "\n",
    "accuracy = accuracy_score(true_labels, predicted_scores)\n",
    "precision = precision_score(true_labels, predicted_scores)\n",
    "recall = recall_score(true_labels, predicted_scores)\n",
    "\n",
    "print(f\"Accuracy: {accuracy}, Precision: {precision}, Recall: {recall}\")\n",
    "#-------------------------------------------------------------------------------------------------------------------------------\n",
    "import pandas as pd\n",
    "from sklearn.ensemble import RandomForestClassifier\n",
    "from sklearn.feature_extraction.text import TfidfVectorizer\n",
    "from sklearn.pipeline import make_pipeline\n",
    "import joblib\n",
    "\n",
    "# Sample data (replace this with your actual resume texts and labels)\n",
    "X_train = [\"Resume text 1\", \"Resume text 2\", \"Resume text 3\"]  # Resume texts\n",
    "y_train = [1, 0, 1]  # 1 for relevant, 0 for not relevant\n",
    "\n",
    "# Create a pipeline with TF-IDF and Random Forest\n",
    "model = make_pipeline(TfidfVectorizer(), RandomForestClassifier())\n",
    "\n",
    "# Train the model\n",
    "model.fit(X_train, y_train)\n",
    "\n",
    "# Save the model after training\n",
    "joblib.dump(model, 'resume_ranking_model.pkl')\n",
    "print(\"Model saved as 'resume_ranking_model.pkl'\")\n",
    "#-------------------------------------------------------------------------------------------------------------------------------\n",
    "import joblib\n",
    "\n",
    "# Load the model\n",
    "loaded_model = joblib.load('resume_ranking_model.pkl')\n",
    "print(\"Model loaded successfully.\")\n",
    "#-------------------------------------------------------------------------------------------------------------------------------\n",
    "!pip install Flask\n",
    "from flask import Flask, request, render_template\n",
    "\n",
    "app = Flask(__name__)\n",
    "\n",
    "@app.route('/')\n",
    "def home():\n",
    "    return render_template('index.html')  # HTML file jisme form hoga\n",
    "\n",
    "@app.route('/submit', methods=['POST'])\n",
    "def submit():\n",
    "    # Process form data here\n",
    "    return \"Feedback submitted!\"\n",
    "\n",
    "if __name__ == '__main__':\n",
    "    app.run(debug=True)\n",
    "#-----------------------------------------------------------------------------------------------------------------------------\n",
    "# New resume text to predict\n",
    "new_resume = \"This is a new resume text to check relevance.\"\n",
    "\n",
    "# Use the loaded model to predict\n",
    "predicted_relevance = loaded_model.predict([new_resume])\n",
    "\n",
    "# Display the prediction result\n",
    "print(f\"Predicted Relevance: {predicted_relevance[0]}\")  # 1 for relevant, 0 for not relevant\n",
    "#-------------------------------------------------------------------------------------------------------------------------------\n",
    "# Function to collect feedback\n",
    "def collect_feedback(resume, predicted_relevance):\n",
    "    print(f\"Resume: {resume}\")\n",
    "    print(f\"Predicted Relevance: {predicted_relevance[0]}\")\n",
    "    feedback = input(\"Is this relevant? (yes/no): \")\n",
    "    return 1 if feedback.lower() == 'yes' else 0\n",
    "\n",
    "# Collect feedback for the new resume\n",
    "feedback_label = collect_feedback(new_resume, predicted_relevance)\n",
    "#-------------------------------------------------------------------------------------------------------------------------------\n",
    "# Assuming we have a list of resumes and their corresponding labels (including feedback)\n",
    "all_resumes = [\"Resume text 1\", \"Resume text 2\", new_resume]  # Update with all resumes\n",
    "all_labels = [1, 0, feedback_label]  # Update with all labels\n",
    "\n",
    "# Retrain the model with the new data\n",
    "model.fit(all_resumes, all_labels)\n",
    "\n",
    "# Save the retrained model\n",
    "joblib.dump(model, 'resume_ranking_model.pkl')\n",
    "print(\"Model retrained and saved.\")\n",
    "#-------------------------------------------------------------------------------------------------------------------------------\n",
    "from flask import Flask, request, jsonify\n",
    "import joblib\n",
    "\n",
    "app = Flask(__name__)\n",
    "\n",
    "# Load the model\n",
    "model = joblib.load('resume_ranking_model.pkl')\n",
    "\n",
    "@app.route('/predict', methods=['POST'])\n",
    "def predict():\n",
    "    data = request.json\n",
    "    new_resume = data['resume']\n",
    "    predicted_relevance = model.predict([new_resume])\n",
    "    return jsonify({'relevance': int(predicted_relevance[0])})\n",
    "\n",
    "if __name__ == '__main__':\n",
    "    app.run(debug=True)\n",
    "#-----------------------------------------------------------------------------------------------------------------------------\n",
    "    from sklearn.metrics import accuracy_score, precision_score, recall_score, f1_score\n",
    "import joblib\n",
    "\n",
    "# Load your trained model\n",
    "model = joblib.load('resume_ranking_model.pkl')\n",
    "\n",
    "# Assuming you have your test data and actual labels\n",
    "# Replace these with your actual test data and labels\n",
    "X_test = [\"Sample resume text 1\", \"Sample resume text 2\"]  # Add your test resumes here\n",
    "y_true = [1, 0]  # Replace with the actual labels for your test data\n",
    "\n",
    "# Get predictions from the model\n",
    "y_pred = model.predict(X_test)\n",
    "\n",
    "# Calculate evaluation metrics\n",
    "accuracy = accuracy_score(y_true, y_pred)\n",
    "precision = precision_score(y_true, y_pred)\n",
    "recall = recall_score(y_true, y_pred)\n",
    "f1 = f1_score(y_true, y_pred)\n",
    "\n",
    "# Print the evaluation results\n",
    "print(f\"Accuracy: {accuracy:.2f}\")\n",
    "print(f\"Precision: {precision:.2f}\")\n",
    "print(f\"Recall: {recall:.2f}\")\n",
    "print(f\"F1 Score: {f1:.2f}\")\n",
    "#-------------------------------------------------------------------------------------------------------------------------------\n",
    "import pandas as pd\n",
    "\n",
    "# Assuming y_true contains the actual labels\n",
    "class_distribution = pd.Series(y_true).value_counts()\n",
    "print(class_distribution)\n",
    "#-------------------------------------------------------------------------------------------------------------------------------\n",
    "import pandas as pd\n",
    "import numpy as np\n",
    "import nltk\n",
    "import spacy\n",
    "from sklearn.model_selection import train_test_split\n",
    "from sklearn.ensemble import RandomForestClassifier\n",
    "from sklearn.metrics import accuracy_score\n",
    "# Additional imports as needed\n",
    "#-------------------------------------------------------------------------------------------------------------------------------\n"
   ]
  },
  {
   "cell_type": "code",
   "execution_count": null,
   "id": "a4fb1248",
   "metadata": {},
   "outputs": [],
   "source": []
  }
 ],
 "metadata": {
  "kernelspec": {
   "display_name": "Python 3 (ipykernel)",
   "language": "python",
   "name": "python3"
  },
  "language_info": {
   "codemirror_mode": {
    "name": "ipython",
    "version": 3
   },
   "file_extension": ".py",
   "mimetype": "text/x-python",
   "name": "python",
   "nbconvert_exporter": "python",
   "pygments_lexer": "ipython3",
   "version": "3.9.12"
  }
 },
 "nbformat": 4,
 "nbformat_minor": 5
}
