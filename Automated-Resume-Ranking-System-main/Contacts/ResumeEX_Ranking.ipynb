{
 "cells": [
  {
   "cell_type": "markdown",
   "id": "38c0816d",
   "metadata": {},
   "source": [
    "### 1. CÀI ĐẶT THƯ VIỆN"
   ]
  },
  {
   "cell_type": "code",
   "execution_count": 1,
   "id": "9370d74c",
   "metadata": {},
   "outputs": [],
   "source": [
    "import os\n",
    "import pandas as pd\n",
    "import numpy as np\n",
    "from PyPDF2 import PdfReader\n",
    "import spacy\n",
    "import nltk\n",
    "from sklearn.feature_extraction.text import TfidfVectorizer\n",
    "from sklearn.metrics.pairwise import cosine_similarity\n",
    "from sklearn.model_selection import train_test_split\n",
    "from sklearn.ensemble import RandomForestClassifier\n",
    "from sklearn.metrics import accuracy_score, precision_score, recall_score, f1_score\n",
    "import joblib\n",
    "import matplotlib.pyplot as plt\n",
    "from flask import Flask, request, jsonify, render_template"
   ]
  },
  {
   "cell_type": "markdown",
   "id": "b7061fab",
   "metadata": {},
   "source": [
    "### 2. TẢI DỮ LIỆU"
   ]
  },
  {
   "cell_type": "code",
   "execution_count": 2,
   "id": "b1853286",
   "metadata": {},
   "outputs": [],
   "source": [
    "# Hàm đọc tệp PDF\n",
    "def read_pdf(file_path):\n",
    "    \"\"\"Đọc văn bản từ tệp PDF.\"\"\"\n",
    "    try:\n",
    "        with open(file_path, 'rb') as file:\n",
    "            reader = PdfReader(file)\n",
    "            text = ''\n",
    "            for page in reader.pages:\n",
    "                text += page.extract_text()\n",
    "            return text\n",
    "    except Exception as e:\n",
    "        print(f\"Lỗi khi đọc tệp {file_path}: {e}\")\n",
    "        return \"\""
   ]
  },
  {
   "cell_type": "code",
   "execution_count": 3,
   "id": "206958a3",
   "metadata": {},
   "outputs": [],
   "source": [
    "# Tải resume từ thư mục\n",
    "def load_resumes(folder_path):\n",
    "    \"\"\"Tải tất cả resume từ thư mục PDF.\"\"\"\n",
    "    resumes = {}\n",
    "    for filename in os.listdir(folder_path):\n",
    "        if filename.endswith('.pdf'):\n",
    "            resume_text = read_pdf(os.path.join(folder_path, filename))\n",
    "            resumes[filename] = resume_text\n",
    "    return resumes"
   ]
  },
  {
   "cell_type": "code",
   "execution_count": 4,
   "id": "b9fcdec2",
   "metadata": {},
   "outputs": [
    {
     "name": "stdout",
     "output_type": "stream",
     "text": [
      "Đường dẫn hiện tại: d:\\BaiDoAnChuyenNganh3\\Automated-Resume-Ranking-System-main\\Contacts\n",
      "Đã tải 119 resume.\n"
     ]
    }
   ],
   "source": [
    "# Tải dữ liệu\n",
    "print(\"Đường dẫn hiện tại:\", os.getcwd())\n",
    "accountant_folder_path = 'D:/BaiDoAnChuyenNganh3/accountant'\n",
    "accountant_resumes = load_resumes(accountant_folder_path)\n",
    "print(f\"Đã tải {len(accountant_resumes)} resume.\")"
   ]
  },
  {
   "cell_type": "code",
   "execution_count": 5,
   "id": "d810d7e1",
   "metadata": {},
   "outputs": [
    {
     "name": "stdout",
     "output_type": "stream",
     "text": [
      "Mô tả công việc (5 dòng đầu):\n",
      "   ID                                         Resume_str  \\\n",
      "0   1           HR ADMINISTRATOR/MARKETING ASSOCIATE\\...   \n",
      "1   2           HR SPECIALIST, US HR OPERATIONS      ...   \n",
      "2   3           HR DIRECTOR       Summary      Over 2...   \n",
      "3   4           HR SPECIALIST       Summary    Dedica...   \n",
      "4   5           HR MANAGER         Skill Highlights  ...   \n",
      "\n",
      "                                         Resume_html Category  \n",
      "0  <div class=\"fontsize fontface vmargins hmargin...       HR  \n",
      "1  <div class=\"fontsize fontface vmargins hmargin...       HR  \n",
      "2  <div class=\"fontsize fontface vmargins hmargin...       HR  \n",
      "3  <div class=\"fontsize fontface vmargins hmargin...       HR  \n",
      "4  <div class=\"fontsize fontface vmargins hmargin...       HR  \n"
     ]
    }
   ],
   "source": [
    "# Tải mô tả công việc\n",
    "job_descriptions = pd.read_excel('D:\\BaiDoAnChuyenNganh3\\Automated-Resume-Ranking-System-main\\csvfiles\\crawlcv\\DataFinal\\GeneralCV_Example.xlsx')\n",
    "print(\"Mô tả công việc (5 dòng đầu):\")\n",
    "print(job_descriptions.head())"
   ]
  },
  {
   "cell_type": "markdown",
   "id": "b92f15c8",
   "metadata": {},
   "source": [
    "### 3. TIỀN XỬ LÝ DỮ LIỆU"
   ]
  },
  {
   "cell_type": "code",
   "execution_count": 6,
   "id": "fd7b247b",
   "metadata": {},
   "outputs": [
    {
     "name": "stdout",
     "output_type": "stream",
     "text": [
      "Số giá trị thiếu trong Resume_str: 1\n",
      "Số dòng sau khi xóa giá trị thiếu: 3973\n"
     ]
    }
   ],
   "source": [
    "# Kiểm tra giá trị thiếu trong cột Resume_str\n",
    "print(f\"Số giá trị thiếu trong Resume_str: {job_descriptions['Resume_str'].isna().sum()}\")\n",
    "\n",
    "# Xóa các dòng có giá trị thiếu trong Resume_str\n",
    "job_descriptions = job_descriptions.dropna(subset=['Resume_str']).reset_index(drop=True)\n",
    "\n",
    "# Đặt lại cột ID (tạo ID mới từ 1 đến số dòng)\n",
    "job_descriptions['ID'] = range(1, len(job_descriptions) + 1)\n",
    "\n",
    "# In số dòng sau khi xóa giá trị thiếu\n",
    "print(f\"Số dòng sau khi xóa giá trị thiếu: {len(job_descriptions)}\")"
   ]
  },
  {
   "cell_type": "code",
   "execution_count": 7,
   "id": "d4f575d5",
   "metadata": {},
   "outputs": [],
   "source": [
    "# Đảm bảo tất cả văn bản là chuỗi\n",
    "job_description_texts = job_descriptions['Resume_str'].astype(str).tolist()\n",
    "resume_texts = [str(resume) for resume in accountant_resumes.values()]"
   ]
  },
  {
   "cell_type": "code",
   "execution_count": 8,
   "id": "c1c28822",
   "metadata": {},
   "outputs": [
    {
     "name": "stdout",
     "output_type": "stream",
     "text": [
      "Kiểu dữ liệu của mô tả công việc:\n",
      "ID              int64\n",
      "Resume_str     object\n",
      "Resume_html    object\n",
      "Category       object\n",
      "dtype: object\n",
      "Tất cả resume là chuỗi: True\n"
     ]
    }
   ],
   "source": [
    "# Kiểm tra kiểu dữ liệu\n",
    "print(\"Kiểu dữ liệu của mô tả công việc:\")\n",
    "print(job_descriptions.dtypes)\n",
    "print(\"Tất cả resume là chuỗi:\", all(isinstance(text, str) for text in resume_texts))"
   ]
  },
  {
   "cell_type": "markdown",
   "id": "114ec914",
   "metadata": {},
   "source": [
    "### 4. VECTOR HÓA VÀ XẾP HẠNG"
   ]
  },
  {
   "cell_type": "code",
   "execution_count": 9,
   "id": "d4f4240c",
   "metadata": {},
   "outputs": [],
   "source": [
    "# Vector hóa bằng TF-IDF\n",
    "def compute_cosine_similarity(job_texts, resume_texts):\n",
    "    \"\"\"Tính độ tương đồng cosine giữa mô tả công việc và resume.\"\"\"\n",
    "    tfidf_vectorizer = TfidfVectorizer()\n",
    "    all_texts = job_texts + resume_texts\n",
    "    tfidf_matrix = tfidf_vectorizer.fit_transform(all_texts)\n",
    "    print(\"Kích thước ma trận TF-IDF:\", tfidf_matrix.shape)\n",
    "    \n",
    "    # Tính độ tương đồng cosine\n",
    "    cosine_sim = cosine_similarity(\n",
    "        tfidf_matrix[:len(job_texts)],\n",
    "        tfidf_matrix[len(job_texts):]\n",
    "    )\n",
    "    return cosine_sim, tfidf_vectorizer"
   ]
  },
  {
   "cell_type": "code",
   "execution_count": 10,
   "id": "ef35d9f0",
   "metadata": {},
   "outputs": [
    {
     "name": "stdout",
     "output_type": "stream",
     "text": [
      "Kích thước ma trận TF-IDF: (4092, 46489)\n",
      "Kích thước ma trận tương đồng cosine: (3973, 119)\n"
     ]
    }
   ],
   "source": [
    "# Tính độ tương đồng\n",
    "cosine_sim, tfidf_vectorizer = compute_cosine_similarity(job_description_texts, resume_texts)\n",
    "print(\"Kích thước ma trận tương đồng cosine:\", cosine_sim.shape)"
   ]
  },
  {
   "cell_type": "code",
   "execution_count": 11,
   "id": "2de3b3a6",
   "metadata": {},
   "outputs": [],
   "source": [
    "# Chuyển ma trận tương đồng thành DataFrame\n",
    "similarity_df = pd.DataFrame(\n",
    "    cosine_sim,\n",
    "    columns=list(accountant_resumes.keys()),\n",
    "    index=job_descriptions['ID']\n",
    ")"
   ]
  },
  {
   "cell_type": "code",
   "execution_count": 12,
   "id": "15d69881",
   "metadata": {},
   "outputs": [
    {
     "name": "stdout",
     "output_type": "stream",
     "text": [
      "Kết quả xếp hạng resume:\n",
      "    Job Description    Top Resume     Score\n",
      "ID                                         \n",
      "1                 1  25935030.pdf  0.385746\n",
      "2                 2  25935030.pdf  0.450632\n",
      "3                 3  24294778.pdf  0.424943\n",
      "4                 4  24294778.pdf  0.396282\n",
      "5                 5  24294778.pdf  0.390773\n"
     ]
    }
   ],
   "source": [
    "# Xếp hạng resume\n",
    "top_resumes = similarity_df.idxmax(axis=1)\n",
    "top_scores = similarity_df.max(axis=1)\n",
    "results_df = pd.DataFrame({\n",
    "    'Job Description': similarity_df.index,\n",
    "    'Top Resume': top_resumes,\n",
    "    'Score': top_scores\n",
    "})\n",
    "print(\"Kết quả xếp hạng resume:\")\n",
    "print(results_df.head())"
   ]
  },
  {
   "cell_type": "code",
   "execution_count": 14,
   "id": "31c4abb9",
   "metadata": {},
   "outputs": [
    {
     "name": "stdout",
     "output_type": "stream",
     "text": [
      "Đã lưu kết quả vào 'resume_ranking_results.xlsx'\n"
     ]
    }
   ],
   "source": [
    "# Lưu kết quả\n",
    "results_df.to_excel('D:/BaiDoAnChuyenNganh3/Automated-Resume-Ranking-System-main/csvfiles/ketquaxephang/resume_ranking_results.xlsx', index=False)\n",
    "print(\"Đã lưu kết quả vào 'resume_ranking_results.xlsx'\")"
   ]
  },
  {
   "cell_type": "code",
   "execution_count": 15,
   "id": "532b862d",
   "metadata": {},
   "outputs": [
    {
     "data": {
      "text/plain": [
       "<Figure size 1000x600 with 0 Axes>"
      ]
     },
     "metadata": {},
     "output_type": "display_data"
    },
    {
     "data": {
      "image/png": "[encoded data removed]",
      "text/plain": [
       "<Figure size 640x480 with 1 Axes>"
      ]
     },
     "metadata": {},
     "output_type": "display_data"
    }
   ],
   "source": [
    "# Vẽ biểu đồ top resume\n",
    "plt.figure(figsize=(10, 6))\n",
    "results_df.sort_values(by='Score', ascending=False).head(10).plot(\n",
    "    kind='bar', x='Top Resume', y='Score', legend=False\n",
    ")\n",
    "plt.title('Top Resumes Based on Similarity Scores')\n",
    "plt.xlabel('Top Resume')\n",
    "plt.ylabel('Score')\n",
    "plt.xticks(rotation=45)\n",
    "plt.tight_layout()\n",
    "plt.show()"
   ]
  },
  {
   "cell_type": "markdown",
   "id": "461d6de3",
   "metadata": {},
   "source": [
    "### 5. ĐÁNH GIÁ MÔ HÌNH"
   ]
  },
  {
   "cell_type": "code",
   "execution_count": 16,
   "id": "958df707",
   "metadata": {},
   "outputs": [],
   "source": [
    "# Hàm thu thập phản hồi\n",
    "def collect_feedback(resume, predicted_relevance):\n",
    "    \"\"\"Thu thập phản hồi từ người dùng.\"\"\"\n",
    "    print(f\"Resume: {resume[:50]}...\")\n",
    "    print(f\"Độ phù hợp dự đoán: {predicted_relevance}\")\n",
    "    feedback = input(\"Resume này có phù hợp không? (yes/no): \")\n",
    "    return 1 if feedback.lower() == 'yes' else 0"
   ]
  },
  {
   "cell_type": "code",
   "execution_count": 17,
   "id": "0e2ca0a0",
   "metadata": {},
   "outputs": [],
   "source": [
    "# Hàm lưu phản hồi\n",
    "def save_feedback(feedback):\n",
    "    \"\"\"Lưu phản hồi vào CSV.\"\"\"\n",
    "    feedback_df = pd.DataFrame([feedback])\n",
    "    feedback_df.to_csv('D:/BaiDoAnChuyenNganh3/Automated-Resume-Ranking-System-main/csvfiles/feedback/feedback.csv', mode='a', header=False, index=False)"
   ]
  },
  {
   "cell_type": "code",
   "execution_count": 18,
   "id": "fada34c9",
   "metadata": {},
   "outputs": [],
   "source": [
    "# Huấn luyện mô hình phân loại\n",
    "def train_classification_model(resumes, labels):\n",
    "    \"\"\"Huấn luyện mô hình Random Forest để phân loại resume.\"\"\"\n",
    "    model = make_pipeline(TfidfVectorizer(), RandomForestClassifier())\n",
    "    model.fit(resumes, labels)\n",
    "    joblib.dump(model, 'D:/BaiDoAnChuyenNganh3/Automated-Resume-Ranking-System-main/Contacts/model/resume_ranking_model.pkl')\n",
    "    print(\"Đã lưu mô hình vào 'resume_ranking_model.pkl'\")\n",
    "    return model"
   ]
  },
  {
   "cell_type": "code",
   "execution_count": 19,
   "id": "916e356a",
   "metadata": {},
   "outputs": [],
   "source": [
    "from sklearn.pipeline import make_pipeline"
   ]
  },
  {
   "cell_type": "code",
   "execution_count": 20,
   "id": "12046a1d",
   "metadata": {},
   "outputs": [
    {
     "name": "stdout",
     "output_type": "stream",
     "text": [
      "Đã lưu mô hình vào 'resume_ranking_model.pkl'\n"
     ]
    }
   ],
   "source": [
    "# Dữ liệu mẫu để huấn luyện\n",
    "X_train = [\"Resume text 1\", \"Resume text 2\", \"Resume text 3\"]\n",
    "y_train = [1, 0, 1]\n",
    "model = train_classification_model(X_train, y_train)"
   ]
  },
  {
   "cell_type": "code",
   "execution_count": 21,
   "id": "2659e8a9",
   "metadata": {},
   "outputs": [
    {
     "name": "stdout",
     "output_type": "stream",
     "text": [
      "Dự đoán độ phù hợp: 1\n",
      "Resume: This is a new resume text to check relevance....\n",
      "Độ phù hợp dự đoán: 1\n"
     ]
    }
   ],
   "source": [
    "# Dự đoán và thu thập phản hồi\n",
    "new_resume = \"This is a new resume text to check relevance.\"\n",
    "predicted_relevance = model.predict([new_resume])[0]\n",
    "print(f\"Dự đoán độ phù hợp: {predicted_relevance}\")\n",
    "feedback_label = collect_feedback(new_resume, predicted_relevance)\n",
    "save_feedback({'relevance': feedback_label, 'resume': new_resume})"
   ]
  },
  {
   "cell_type": "code",
   "execution_count": 22,
   "id": "6dac447b",
   "metadata": {},
   "outputs": [
    {
     "name": "stdout",
     "output_type": "stream",
     "text": [
      "Đã lưu mô hình vào 'resume_ranking_model.pkl'\n"
     ]
    }
   ],
   "source": [
    "# Cập nhật và huấn luyện lại mô hình\n",
    "all_resumes = X_train + [new_resume]\n",
    "all_labels = y_train + [feedback_label]\n",
    "model = train_classification_model(all_resumes, all_labels)"
   ]
  },
  {
   "cell_type": "code",
   "execution_count": 23,
   "id": "38b42056",
   "metadata": {},
   "outputs": [
    {
     "name": "stdout",
     "output_type": "stream",
     "text": [
      "Độ chính xác: 0.50\n",
      "Độ chính xác (Precision): 0.50\n",
      "Độ bao quát (Recall): 1.00\n",
      "F1 Score: 0.67\n"
     ]
    }
   ],
   "source": [
    "# Đánh giá mô hình\n",
    "X_test = [\"Sample resume text 1\", \"Sample resume text 2\"]\n",
    "y_true = [1, 0]\n",
    "y_pred = model.predict(X_test)\n",
    "print(f\"Độ chính xác: {accuracy_score(y_true, y_pred):.2f}\")\n",
    "print(f\"Độ chính xác (Precision): {precision_score(y_true, y_pred):.2f}\")\n",
    "print(f\"Độ bao quát (Recall): {recall_score(y_true, y_pred):.2f}\")\n",
    "print(f\"F1 Score: {f1_score(y_true, y_pred):.2f}\")"
   ]
  },
  {
   "cell_type": "code",
   "execution_count": 24,
   "id": "16abd581",
   "metadata": {},
   "outputs": [
    {
     "name": "stdout",
     "output_type": "stream",
     "text": [
      "Phân bố lớp trong dữ liệu kiểm tra:\n",
      "1    1\n",
      "0    1\n",
      "Name: count, dtype: int64\n"
     ]
    }
   ],
   "source": [
    "# Phân bố lớp\n",
    "print(\"Phân bố lớp trong dữ liệu kiểm tra:\")\n",
    "print(pd.Series(y_true).value_counts())"
   ]
  },
  {
   "cell_type": "markdown",
   "id": "11d4413c",
   "metadata": {},
   "source": [
    "### 6. GIAO DIỆN FLASK"
   ]
  },
  {
   "cell_type": "code",
   "execution_count": null,
   "id": "082128c6",
   "metadata": {},
   "outputs": [
    {
     "name": "stdout",
     "output_type": "stream",
     "text": [
      " * Serving Flask app '__main__'\n",
      " * Debug mode: on\n"
     ]
    },
    {
     "name": "stderr",
     "output_type": "stream",
     "text": [
      "WARNING: This is a development server. Do not use it in a production deployment. Use a production WSGI server instead.\n",
      " * Running on http://127.0.0.1:5000\n",
      "Press CTRL+C to quit\n",
      " * Restarting with stat\n"
     ]
    },
    {
     "ename": "SystemExit",
     "evalue": "1",
     "output_type": "error",
     "traceback": [
      "An exception has occurred, use %tb to see the full traceback.\n",
      "\u001b[31mSystemExit\u001b[39m\u001b[31m:\u001b[39m 1\n"
     ]
    },
    {
     "name": "stderr",
     "output_type": "stream",
     "text": [
      "d:\\BaiDoAnChuyenNganh3\\.venv\\Lib\\site-packages\\IPython\\core\\interactiveshell.py:3557: UserWarning: To exit: use 'exit', 'quit', or Ctrl-D.\n",
      "  warn(\"To exit: use 'exit', 'quit', or Ctrl-D.\", stacklevel=1)\n"
     ]
    }
   ],
   "source": [
    "app = Flask(__name__)\n",
    "\n",
    "@app.route('/')\n",
    "def home():\n",
    "    \"\"\"Trang chủ với form nhập liệu.\"\"\"\n",
    "    return render_template('index.html')\n",
    "\n",
    "@app.route('/predict', methods=['POST'])\n",
    "def predict():\n",
    "    \"\"\"Dự đoán độ phù hợp của resume.\"\"\"\n",
    "    data = request.json\n",
    "    new_resume = data['resume']\n",
    "    predicted_relevance = model.predict([new_resume])[0]\n",
    "    return jsonify({'relevance': int(predicted_relevance)})\n",
    "\n",
    "@app.route('/submit', methods=['POST'])\n",
    "def submit():\n",
    "    \"\"\"Xử lý phản hồi từ form.\"\"\"\n",
    "    return \"Phản hồi đã được gửi!\"\n",
    "\n",
    "if __name__ == '__main__':\n",
    "    app.run(debug=True)"
   ]
  }
 ],
 "metadata": {
  "kernelspec": {
   "display_name": ".venv",
   "language": "python",
   "name": "python3"
  },
  "language_info": {
   "codemirror_mode": {
    "name": "ipython",
    "version": 3
   },
   "file_extension": ".py",
   "mimetype": "text/x-python",
   "name": "python",
   "nbconvert_exporter": "python",
   "pygments_lexer": "ipython3",
   "version": "3.11.9"
  }
 },
 "nbformat": 4,
 "nbformat_minor": 5
}
